{
 "cells": [
  {
   "cell_type": "markdown",
   "metadata": {},
   "source": [
    "# DataMining\n",
    "\n",
    "**TASK** for each driver, generates the ideal standard route that the driver will have the least divergence.\n",
    "\n",
    "**Solution** DBSCAN on drivers , take the clustroid of the cluster that maximize the similarity"
   ]
  },
  {
   "cell_type": "code",
   "execution_count": 1,
   "metadata": {},
   "outputs": [
    {
     "name": "stdout",
     "output_type": "stream",
     "text": [
      "HOME:  c:\\Users\\User\\Desktop\\VSCodeProjects\\DataMining\\DataMiningProject23-24\n"
     ]
    }
   ],
   "source": [
    "import os\n",
    "HOME = os.getcwd()\n",
    "print('HOME: ',HOME)\n",
    "\n",
    "import time\n",
    "import math\n",
    "import json\n",
    "import random\n",
    "import pandas as pd\n",
    "import sys\n",
    "import lxml\n",
    "import sklearn as sk\n",
    "import numpy as np\n",
    "\n",
    "from sklearn.manifold import TSNE\n",
    "from sklearn.cluster import KMeans\n",
    "from sklearn.cluster import HDBSCAN, DBSCAN\n",
    "from scipy.spatial.distance import cosine\n",
    "from sklearn.metrics.pairwise import cosine_similarity\n",
    "\n",
    "import matplotlib.pyplot as plt\n",
    "from mpl_toolkits.mplot3d import Axes3D\n",
    "import plotly.graph_objects as go\n",
    "\n",
    "from scipy.sparse import csr_matrix, issparse, lil_matrix\n",
    "\n",
    "from tqdm import tqdm\n",
    "from pandarallel import pandarallel\n",
    "\n",
    "from numba import njit, prange\n",
    "from numba_progress import ProgressBar\n",
    "import umap\n",
    "\n",
    "## CONSTANTS\n",
    "STANDARD_FILE = 'standard.json'\n",
    "ACTUAL_FILE = 'actual.json'\n",
    "\n",
    "OUTPUT_FILE = 'perfectRoute.json'\n",
    "DATA_DIR = os.path.join(HOME,'data')\n",
    "\n",
    "K_SHINGLES = 3"
   ]
  },
  {
   "cell_type": "markdown",
   "metadata": {},
   "source": [
    "## Loading data from files"
   ]
  },
  {
   "cell_type": "code",
   "execution_count": 2,
   "metadata": {},
   "outputs": [],
   "source": [
    "# load standard and actual data\n",
    "with open(os.path.join('data',STANDARD_FILE)) as f:\n",
    "    standard = json.load(f)\n",
    "\n",
    "with open(os.path.join('data', ACTUAL_FILE)) as f:\n",
    "    actual = json.load(f)\n",
    "\n",
    "# load the data into a dataframe\n",
    "dfStandard = pd.DataFrame(standard)\n",
    "dfActual = pd.DataFrame(actual)"
   ]
  },
  {
   "cell_type": "code",
   "execution_count": 3,
   "metadata": {},
   "outputs": [
    {
     "name": "stdout",
     "output_type": "stream",
     "text": [
      "\n",
      "Unique cities:  ['Acerra', 'Benevento', 'Bisceglie', 'Bitonto', 'Bolzano-Bozen', 'Brindisi', 'Caltanissetta', 'Catania', 'Cesena', 'Cinisello Balsamo', 'Como', 'Cuneo', 'Florence', 'Genoa', 'Imola', 'Massa', 'Palermo', 'Pescara', 'Pisa', 'Pistoia', 'Ravenna', 'Reggio Emilia', 'Rovigo', 'Sesto San Giovanni', 'Trapani', 'Udine', 'Verona', 'Vicenza', 'Vigevano', 'Vittoria']\n",
      "Unique drivers:  ['G', 'I', 'F', 'E', 'C', 'B', 'D', 'A', 'H', 'J']\n",
      "Unique items:  ['Biscuits', 'Coffee Table', 'Dish Soap', 'Dish Towels', 'First Aid Kit', 'Fitness Tracker', 'Grapes', 'Hat', 'Insect Repellent', 'Laptop', 'Laundry Detergent', 'Mustard', 'Snorkel', 'Soda', 'Strawberries', 'Tackle Box', 'Throw Pillows', 'Tissues', 'Trash Bags', 'Water Bottle']\n",
      "\n",
      "Number of cities:  30\n",
      "Number of drivers:  10\n",
      "Number of items:  20\n",
      "\n",
      "Max item quantity:  100\n",
      "\n",
      "Number of three-shingles:  24360\n",
      "\n",
      "3-shingles:  24360\n",
      "3-shingles:  4060\n",
      "\n",
      "\u001b[92mK-Shingles used: 3 \u001b[0m\n"
     ]
    }
   ],
   "source": [
    "# get the unique cities and items of the standard data\n",
    "cities = []\n",
    "items = []\n",
    "drivers = []\n",
    "longestRoute = 0\n",
    "shortestRoute = np.inf\n",
    "maxItemQuantity = 0\n",
    "\n",
    "standardRefIds = []\n",
    "for index, s in dfStandard.iterrows():\n",
    "    #print(s)\n",
    "    idS = s['id']\n",
    "    route = s['route']\n",
    "    standardRefIds.append(int(idS[1]))\n",
    "    for trip in route:\n",
    "        cities.append(trip['from']) \n",
    "        items.extend(trip['merchandise'].keys())\n",
    "        maxItemQuantity = max(maxItemQuantity, max(trip['merchandise'].values()))\n",
    "    if len(route) > 0:\n",
    "        cities.append(route[-1]['to'])\n",
    "        \n",
    "    if len(route) > longestRoute:\n",
    "        longestRoute = len(route)\n",
    "        \n",
    "    if len(route) < shortestRoute:\n",
    "        shortestRoute = len(route)\n",
    "\n",
    "actualRefStandardIds = []\n",
    "for index, s in dfActual.iterrows():\n",
    "    #print(s)\n",
    "    idS = s['id']\n",
    "    route = s['route']\n",
    "    idStandard = s['sroute']\n",
    "    drivers.append(s['driver'])\n",
    "    actualRefStandardIds.append(int(idStandard[1]))\n",
    "    for trip in route:\n",
    "        cities.append(trip['from'])\n",
    "        items.extend(trip['merchandise'].keys())\n",
    "        maxItemQuantity = max(maxItemQuantity, max(trip['merchandise'].values()))\n",
    "        \n",
    "    if len(route) > 0:\n",
    "        cities.append(route[-1]['to'])\n",
    "        \n",
    "    if len(route) > longestRoute:\n",
    "        longestRoute = len(route)\n",
    "    \n",
    "    if len(route) < shortestRoute:\n",
    "        shortestRoute = len(route)\n",
    "\n",
    "# find the unique cities\n",
    "uniqueCities = sorted(list(set(cities)))\n",
    "#uniqueCities.insert(0, 'NULL')          # add NULL city, for padding vectors with different lengths (trips in routes)\n",
    "uniqueItems = sorted(list(set(items)))\n",
    "# find the unique drivers\n",
    "uniqueDrivers = list(set(drivers))\n",
    "\n",
    "if shortestRoute < 2:\n",
    "    K_SHINGLES = 2\n",
    "\n",
    "threeShingles = []\n",
    "\n",
    "for i, c1 in enumerate(uniqueCities):\n",
    "    for j, c2 in enumerate(uniqueCities):\n",
    "        if i == j:\n",
    "            continue\n",
    "        for k, c3 in enumerate(uniqueCities):\n",
    "            if j == k or i == k:\n",
    "                continue\n",
    "            threeShingles.append([c1, c2, c3])\n",
    "            \n",
    "permutations = math.perm(len(uniqueCities), K_SHINGLES)\n",
    "\n",
    "print(\"\\nUnique cities: \", uniqueCities)\n",
    "print(\"Unique drivers: \", uniqueDrivers)\n",
    "print(\"Unique items: \", uniqueItems)\n",
    "\n",
    "print(\"\\nNumber of cities: \", len(uniqueCities))\n",
    "print(\"Number of drivers: \", len(uniqueDrivers))\n",
    "print(\"Number of items: \", len(uniqueItems))\n",
    "\n",
    "print(\"\\nMax item quantity: \", maxItemQuantity)\n",
    "\n",
    "print(\"\\nNumber of three-shingles: \", len(threeShingles))\n",
    "\n",
    "print(f\"\\n{K_SHINGLES}-shingles: \", math.perm(len(uniqueCities), K_SHINGLES))\n",
    "print(f\"{K_SHINGLES}-shingles: \", math.comb(len(uniqueCities), K_SHINGLES))\n",
    "\n",
    "print(f\"\\n\\033[92mK-Shingles used: {K_SHINGLES} \\033[0m\")"
   ]
  },
  {
   "cell_type": "markdown",
   "metadata": {},
   "source": [
    "## Vectorizing the Routes \n",
    "\n",
    "Using one-hot encoding of the all possible tuple of two cities (from-to) and the summed merchandise along a route weighted by the total number of merch"
   ]
  },
  {
   "cell_type": "code",
   "execution_count": 4,
   "metadata": {},
   "outputs": [],
   "source": [
    "def hashShingles(shingles, n):\n",
    "    # hash shingles\n",
    "    string = \"\" \n",
    "    for shingle in shingles:\n",
    "        string += str(shingle) + \",\" # [45, 4, 8] -> \"45,4,8,\"\n",
    "    \n",
    "    return hash(string) #% n\n",
    "\n",
    "def createShingles(df, k, uniqueCities, uniqueItems, longestRoute, maxItemQuantity, permutations):\n",
    "    # create shingles for each route\n",
    "    shingles = []\n",
    "    for index, s in df.iterrows():\n",
    "        idS = s['id']\n",
    "        route = s['route']\n",
    "        shingle = [index]\n",
    "        citiesInRoute = [] # napoli roma milano teramo bergamo [10,4,5,48,12] [10,4,5] [4,5,48] [5,48,12]\n",
    "        merchandiseInRoute = np.zeros(len(uniqueItems))\n",
    "        for trip in route:\n",
    "            citiesInRoute.append(uniqueCities.index(trip['from']))\n",
    "            #merchandiseInRoute += np.array(list(trip['merchandise'].values()))\n",
    "            for item, n in trip['merchandise'].items():\n",
    "                merchandiseInRoute[uniqueItems.index(item)] += n\n",
    "        if len(route) > 0:\n",
    "            citiesInRoute.append(uniqueCities.index(route[-1]['to']))\n",
    "        if len(route) > 0:\n",
    "            merchandiseInRoute = merchandiseInRoute / (maxItemQuantity*len(route))\n",
    "        \n",
    "        hashedShingles = []\n",
    "        for i in range(len(citiesInRoute)-k+1):\n",
    "            hashedShingles.append(hashShingles(citiesInRoute[i:i+k], permutations) )\n",
    "        \n",
    "        shingle.append(np.array(hashedShingles))\n",
    "        \n",
    "        shingle.append(merchandiseInRoute) # quantity hot encoding\n",
    "        \n",
    "        shingles.append(shingle)\n",
    "        \n",
    "    return shingles # [ index, [shingles], [merchandise] ]\n",
    "\n",
    "def create_shingles(s, k, uniqueCities, uniqueItems, longestRoute, maxItemQuantity, permutations):\n",
    "    idS = s['id']\n",
    "    route = s['route']\n",
    "    shingle = [s.name]\n",
    "    citiesInRoute = [] \n",
    "    merchandiseInRoute = np.zeros(len(uniqueItems))\n",
    "    for trip in route:\n",
    "        citiesInRoute.append(uniqueCities.index(trip['from']))\n",
    "        for item, n in trip['merchandise'].items():\n",
    "            merchandiseInRoute[uniqueItems.index(item)] += n\n",
    "    if len(route) > 0:\n",
    "        citiesInRoute.append(uniqueCities.index(route[-1]['to']))\n",
    "    if len(route) > 0:\n",
    "        merchandiseInRoute = merchandiseInRoute / (maxItemQuantity*len(route))\n",
    "    \n",
    "    hashedShingles = []\n",
    "    for i in range(len(citiesInRoute)-k+1):\n",
    "        hashedShingles.append(hashShingles(citiesInRoute[i:i+k], permutations))\n",
    "    \n",
    "    shingle.append(np.array(hashedShingles))\n",
    "    shingle.append(merchandiseInRoute)\n",
    "    \n",
    "    return shingle"
   ]
  },
  {
   "cell_type": "code",
   "execution_count": 5,
   "metadata": {},
   "outputs": [
    {
     "name": "stdout",
     "output_type": "stream",
     "text": [
      "\n",
      "standardSets: 20\n",
      "actualSets: 940\n"
     ]
    }
   ],
   "source": [
    "#standardSets = createShingles(dfStandard, k=K_SHINGLES, uniqueCities=uniqueCities, uniqueItems=uniqueItems, longestRoute=longestRoute, maxItemQuantity=maxItemQuantity, permutations=permutations)\n",
    "#actualSets = createShingles(dfActual, k=K_SHINGLES, uniqueCities=uniqueCities, uniqueItems=uniqueItems, longestRoute=longestRoute, maxItemQuantity=maxItemQuantity, permutations=permutations)\n",
    "\n",
    "#print(\"\\nstandardSets:\", len(standardSets))\n",
    "#print(\"actualSets:\", len(actualSets))\n",
    "\n",
    "#assert len(standardSets[0]) == 3, \"The length of the standard set is not equal to 3 (index, shingles, merchandise)\"\n",
    "#assert len(standardSets[0][2]) == len(uniqueItems), \"The length of the merchandise vector is not equal to the number of unique items\""
   ]
  },
  {
   "cell_type": "code",
   "execution_count": 5,
   "metadata": {},
   "outputs": [],
   "source": [
    "## Dictionary containing all the Sets [idx, [shingles], [quantity-hot merch]] for all the drivers\n",
    "actualDriverSets = {}\n",
    "for driver in uniqueDrivers:\n",
    "    dfActualDriver = dfActual[dfActual['driver'] == driver]\n",
    "    actualDriverSets[driver] = createShingles(dfActualDriver, k=K_SHINGLES, uniqueCities=uniqueCities, uniqueItems=uniqueItems, longestRoute=longestRoute, maxItemQuantity=maxItemQuantity, permutations=permutations)"
   ]
  },
  {
   "cell_type": "markdown",
   "metadata": {},
   "source": [
    "## Compute Route Similarity Matrix"
   ]
  },
  {
   "cell_type": "code",
   "execution_count": 8,
   "metadata": {},
   "outputs": [],
   "source": [
    "def jaccard_similarity_matrix(matrix):\n",
    "    if 1.0 - np.count_nonzero(matrix) / matrix.size > 0.5:\n",
    "        #print(\"matrix jaccard is sparse\")\n",
    "        \n",
    "        matrixCSR = csr_matrix(matrix)\n",
    "        intersection = np.dot(matrixCSR, matrixCSR.T)\n",
    "        intersection = intersection.todense()\n",
    "        #print(\"intersection\", intersection.shape, type(intersection))\n",
    "        #print(\"intersection\", intersection.toarray(), type(intersection.toarray()))\n",
    "        row_sums = matrix.sum(axis=1)\n",
    "        #print(\"row_sums\", row_sums.shape)\n",
    "        union = row_sums[:, None] + row_sums - intersection\n",
    "        #print(\"union\", union.shape)\n",
    "        union = np.where(union == 0, 1, union)  # avoid division by zero\n",
    "        #print(\"union\", union.shape)\n",
    "        jaccard_similarity = intersection / union\n",
    "        #print(\"jaccard_similarity\", jaccard_similarity.shape, type(jaccard_similarity))\n",
    "    else:\n",
    "        #print(\"matrix jaccard is not sparse\")\n",
    "        \n",
    "        intersection = np.dot(matrix, matrix.T)\n",
    "        #print(\"intersection\", intersection.shape)\n",
    "        #print(\"intersection\", intersection.toarray(), type(intersection.toarray()))\n",
    "        row_sums = matrix.sum(axis=1)\n",
    "        #print(\"row_sums\", row_sums.shape)\n",
    "        union = row_sums[:, None] + row_sums - intersection\n",
    "        #print(\"union\", union.shape)\n",
    "        union = np.where(union == 0, 1, union)\n",
    "        jaccard_similarity = intersection / union\n",
    "        #print(\"jaccard_similarity\", jaccard_similarity.shape)\n",
    "    #print(\"jaccard_similarity contains nan\", np.isnan(jaccard_similarity).any())   \n",
    "    return jaccard_similarity\n",
    "\n",
    "def jaccard_similarity_minhash(matrix):\n",
    "    similarity_matrix = np.full((matrix.shape[0], matrix.shape[0]), np.inf)\n",
    "    num_permutations = matrix.shape[1]\n",
    "    for i in tqdm(range(matrix.shape[0])):\n",
    "        for j in range(i + 1, matrix.shape[0]):\n",
    "            similarity_matrix[i, j] = np.count_nonzero(matrix[i, :] == matrix[j, :]) / num_permutations\n",
    "            similarity_matrix[j, i] = similarity_matrix[i, j]\n",
    "                    \n",
    "    # Create a full symmetric matrix from the upper triangular part\n",
    "    #similarity_matrix = np.triu(similarity_matrix) + np.triu(similarity_matrix, 1).T\n",
    "    np.fill_diagonal(similarity_matrix, 1)\n",
    "    #print(\"similarity_matrix\", similarity_matrix.shape, similarity_matrix[0])\n",
    "    return similarity_matrix\n",
    "\n",
    "\n",
    "def hash_function_hash_code(num_of_hashes,n_col,next_prime):\n",
    "  \n",
    "    #coeffA = np.array(pick_random_coefficients(num_of_hashes,max_column_length)).reshape((num_of_hashes,1))\n",
    "    #coeffB = np.array(pick_random_coefficients(num_of_hashes,max_column_length)).reshape((num_of_hashes,1))\n",
    "\n",
    "    coeffA = np.array(random.sample(range(0,n_col*100),num_of_hashes)).reshape((num_of_hashes,1))\n",
    "    coeffB = np.array(random.sample(range(0,n_col*100),num_of_hashes)).reshape((num_of_hashes,1))\n",
    "\n",
    "    x = np.arange(n_col).reshape((1,n_col))\n",
    "\n",
    "    hash_code = (np.matmul(coeffA,x) + coeffB) % next_prime # (num_of_hashes,n_col) so how each column index is permuted\n",
    "\n",
    "    return hash_code\n",
    "\n",
    "def minhash(u,num_of_hashes):\n",
    "    (n_row, n_col) = u.shape\n",
    "    next_prime = n_col\n",
    "    hash_code = hash_function_hash_code(num_of_hashes,n_col,next_prime)\n",
    "\n",
    "    signature_array = np.empty(shape = (n_row,num_of_hashes))\n",
    "\n",
    "    #t2 = time.time()\n",
    "\n",
    "    for row in tqdm(range(n_row), desc=\"minhashing\"):\n",
    "        #print(\"row\", row)\n",
    "        ones_index = np.where(u[row,:]==1)[0]\n",
    "        #if len(ones_index) == 0:\n",
    "        signature_array[row,:] = np.zeros((1,num_of_hashes))\n",
    "            #continue\n",
    "        corresponding_hashes = hash_code[:,ones_index]\n",
    "        #print(\"ones_index\", ones_index.shape, ones_index)\n",
    "        #print(\"corresponding_hashes\", corresponding_hashes.shape, corresponding_hashes)\n",
    "        row_signature = np.amin(corresponding_hashes,axis=1).reshape((1,num_of_hashes))\n",
    "\n",
    "        signature_array[row,:] = row_signature\n",
    "\n",
    "    return signature_array\n",
    "\n",
    "def find_band_and_row_values(columns, threshold):\n",
    "    previous_b = 1\n",
    "    previous_r = columns\n",
    "    for b in range(1, columns + 1):\n",
    "        if columns % b == 0:\n",
    "            r = columns // b\n",
    "            if (1 / b) ** (1 / r)  <= threshold:\n",
    "                if np.abs((1 / previous_b) ** (1 / previous_r) - threshold) < np.abs((1 / b) ** (1 / r) - threshold):\n",
    "                    return previous_b, previous_r\n",
    "                return b, r\n",
    "    return columns, 1\n",
    "\n",
    "def lsh(minhash_matrix, thresh_user=0.2):\n",
    "    # Initialize the signature matrix\n",
    "    columns = minhash_matrix.shape[1]\n",
    "    \n",
    "    # Generate the hash functions\n",
    "   # hash_functions = [lambda x, a=a, b=b: (a * x + b) % minhash_matrix.shape[1] for a, b in zip(random.sample(range(1000), bands), random.sample(range(1000), bands))]\n",
    "    hash_function = lambda x: hash(\",\".join([str(x[i]) for i in range(len(x))]))\n",
    "    \n",
    "    # b = bands\n",
    "    # r = columns//bands\n",
    "    b, r = find_band_and_row_values(columns, thresh_user)\n",
    "    # If columns is not divisible by bands\n",
    "    if columns % b != 0:\n",
    "        # Find the closest number that makes it divisible\n",
    "        while columns % b != 0:\n",
    "            b -= 1\n",
    "        r = columns // b\n",
    "    #bands = b\n",
    "        \n",
    "    #print(\"final bands\", b)\n",
    "    signature_matrix = np.full((minhash_matrix.shape[0], b), np.inf)\n",
    "    \n",
    "    # if threshold is 0.8,\n",
    "    threshold = (1 / b) ** (1 / r) \n",
    "    #print(\"lsh threshold\", threshold)\n",
    "    \n",
    "    # For each band\n",
    "    #print(\"Computing hash values of bands...\")\n",
    "    hash_values = np.apply_along_axis(lambda x: hash_function(x) % minhash_matrix.shape[0], 1, minhash_matrix.reshape(-1, r))\n",
    "    # Reshape the hash values to match the signature matrix\n",
    "    hash_values = hash_values.reshape(minhash_matrix.shape[0], b)\n",
    "    # Update the signature matrix\n",
    "    signature_matrix = hash_values\n",
    "            \n",
    "    # find candidate pairs\n",
    "    #print(\"Finding candidate pairs...\")\n",
    "    candidate_pairs = []\n",
    "    for i in tqdm(range(signature_matrix.shape[0])):\n",
    "        # Compute the similarity of the current row with all following rows\n",
    "        similarities = np.sum(signature_matrix[i+1:, :] == signature_matrix[i, :], axis=1) / b\n",
    "        # Find the indices of the rows that have a similarity greater than or equal to the threshold\n",
    "        indices = np.nonzero(similarities >= threshold)[0]\n",
    "        # Add the pairs to the candidate pairs\n",
    "        candidate_pairs.extend((i, i+1+index) for index in indices)\n",
    "    \n",
    "    return candidate_pairs\n",
    "\n",
    "def lsh_two_matrices(minhash_matrix1, minhash_matrix2, thresh_user=0.2):\n",
    "    # Initialize the signature matrix\n",
    "    columns = minhash_matrix1.shape[1]\n",
    "    \n",
    "    # Generate the hash functions\n",
    "    # hash_functions = [lambda x, a=a, b=b: (a * x + b) % minhash_matrix.shape[1] for a, b in zip(random.sample(range(1000), bands), random.sample(range(1000), bands))]\n",
    "    hash_function = lambda x: hash(\",\".join([str(x[i]) for i in range(len(x))]))\n",
    "    \n",
    "    # b = bands\n",
    "    # r = columns//bands\n",
    "    b, r = find_band_and_row_values(columns, thresh_user)\n",
    "    # If columns is not divisible by bands\n",
    "    if columns % b != 0:\n",
    "        # Find the closest number that makes it divisible\n",
    "        while columns % b != 0:\n",
    "            b -= 1\n",
    "        r = columns // b\n",
    "    #bands = b\n",
    "        \n",
    "    #print(\"final bands\", b)\n",
    "    signature_matrix1 = np.full((minhash_matrix1.shape[0], b), np.inf)\n",
    "    signature_matrix2 = np.full((minhash_matrix2.shape[0], b), np.inf)\n",
    "    \n",
    "    # if threshold is 0.8,\n",
    "    threshold = (1 / b) ** (1 / r) \n",
    "    #print(\"lsh threshold\", threshold)\n",
    "    \n",
    "    # For each band\n",
    "    #print(\"Computing hash values of bands...\")\n",
    "    hash_values1 = np.apply_along_axis(lambda x: hash_function(x) % minhash_matrix1.shape[0], 1, minhash_matrix1.reshape(-1, r))\n",
    "    hash_values2 = np.apply_along_axis(lambda x: hash_function(x) % minhash_matrix2.shape[0], 1, minhash_matrix2.reshape(-1, r))\n",
    "    # Reshape the hash values to match the signature matrix\n",
    "    hash_values1 = hash_values1.reshape(minhash_matrix1.shape[0], b)\n",
    "    hash_values2 = hash_values2.reshape(minhash_matrix2.shape[0], b)\n",
    "    # Update the signature matrix\n",
    "    signature_matrix1 = hash_values1\n",
    "    signature_matrix2 = hash_values2\n",
    "            \n",
    "    # find candidate pairs\n",
    "    #print(\"Finding candidate pairs...\")\n",
    "    candidate_pairs = np.empty((minhash_matrix1.shape[0], 2))\n",
    "    for i in tqdm(range(signature_matrix1.shape[0])):\n",
    "        # Compute the similarity of the current row with all following rows\n",
    "        similarities = np.sum(signature_matrix2 == signature_matrix1[i, :], axis=1) / b\n",
    "        # Find the indices of the rows that have a similarity greater than or equal to the threshold\n",
    "        #indices = np.nonzero(similarities >= threshold)[0]\n",
    "        indexMax = np.argmax(similarities)\n",
    "        simMax = similarities[indexMax]\n",
    "        # Add the pairs to the candidate pairs\n",
    "        #candidate_pairs.extend((i, i+1+index) for index in indices)\n",
    "        candidate_pairs[i] = [indexMax, simMax]\n",
    "        \n",
    "    return candidate_pairs\n",
    "        \n",
    "\n",
    "\n",
    "@njit(cache=True,)\n",
    "def replicate_row(matrix, i):\n",
    "    result = np.empty((matrix.shape[0], matrix.shape[1]))\n",
    "    for j in range(matrix.shape[0]):\n",
    "        result[j] = matrix[i]\n",
    "    return result\n",
    "\n",
    "@njit(cache=True, nogil=True, parallel=True)\n",
    "def compute_subset_similarity_matrix(subset_matrix, progress_proxy):\n",
    "    n = subset_matrix.shape[0]\n",
    "    m = subset_matrix.shape[1]\n",
    "    subset_matrix = subset_matrix.astype(np.int64)\n",
    "    subset_similarity_matrix = np.zeros((n, n))\n",
    "    subset2 = subset_matrix\n",
    "    for i in prange(n):\n",
    "        subset1 = subset_matrix[i].reshape(1, -1) #replicate_row(subset_matrix, i)    \n",
    "        min_matrix = np.minimum(subset1, subset2)\n",
    "        sum_min_matrix = np.sum(min_matrix, axis=-1)\n",
    "        \n",
    "        max_matrix = np.maximum(subset1, subset2)\n",
    "        sum_max_matrix = np.sum(max_matrix, axis=-1)\n",
    "        \n",
    "        subset_similarity_matrix[i] = (np.divide(sum_min_matrix, sum_max_matrix)).T\n",
    "        progress_proxy.update(1)\n",
    "    return subset_similarity_matrix\n",
    "\n",
    "\n",
    "def jaccard_similarity_minhash_lsh(matrix, thresh_user=0.2):\n",
    "    #similarity_matrix = csr_matrix((matrix.shape[0], matrix.shape[0]), dtype=np.float64)\n",
    "    similarity_matrix = lil_matrix((matrix.shape[0], matrix.shape[0]), dtype=np.float64)\n",
    "    pairs = lsh(matrix, thresh_user=thresh_user)\n",
    "    #uniqueRows = np.unique([i for i, j in pairs] + [j for i, j in pairs])\n",
    "    uniqueRowsSet = set([i for i, j in pairs] + [j for i, j in pairs])\n",
    "    #print(\"uniqueRows numpy\", len(uniqueRows))\n",
    "    #print(\"num of subset of rows to check similarity:\", len(uniqueRowsSet))\n",
    "    #print(\" num of pairs\", len(uniqueRowsSet)*(len(uniqueRowsSet)-1)/2)\n",
    "    #print(\" instead of\", matrix.shape[0]*(matrix.shape[0]-1)/2)\n",
    "    #print(\"improved by\", (1-len(uniqueRowsSet)*(len(uniqueRowsSet)-1)/2/(matrix.shape[0]*(matrix.shape[0]-1)/2))*100, \"%\")\n",
    "    #print(\"num of pairs\", len(pairs))\n",
    "    #print(\"num unique i\", len(set([i for i, j in pairs])))\n",
    "    #print(\"num unique j\", len(set([j for i, j in pairs])))\n",
    "    #print(\"num unique rows\", len(uniqueRows))\n",
    "    map_i = {i: index for i, index in enumerate(uniqueRowsSet)}\n",
    "    map_i_array = np.array([map_i[i] for i in range(len(map_i))])\n",
    "    \n",
    "    subset_matrix = matrix[list(uniqueRowsSet)]\n",
    "    \n",
    "    subset_similarity_matrix = np.full((subset_matrix.shape[0], subset_matrix.shape[0]), np.inf)\n",
    "    \n",
    "    #print(\"Computing jaccard similarity on subset matrix...\")\n",
    "    #print(\"subset matrix\", subset_matrix.shape)\n",
    "    \n",
    "    with ProgressBar(total=subset_matrix.shape[0]) as progress:\n",
    "        subset_similarity_matrix = compute_subset_similarity_matrix(subset_matrix, progress)\n",
    "    \n",
    "    # map back to original matrix\n",
    "    #print(\"Mapping back to original matrix...\")\n",
    "    # Create arrays of indices\n",
    "    indices_i, indices_j = np.triu_indices(subset_similarity_matrix.shape[0], k=1)\n",
    "    similarity_matrix = similarity_matrix.tocsr()\n",
    "    # Update the similarity matrix\n",
    "    similarity_matrix[map_i_array[indices_i], map_i_array[indices_j]] = subset_similarity_matrix[indices_i, indices_j]\n",
    "    similarity_matrix[map_i_array[indices_j], map_i_array[indices_i]] = subset_similarity_matrix[indices_i, indices_j]\n",
    "    \n",
    "    similarity_matrix.setdiag(1)\n",
    "    \n",
    "    return similarity_matrix\n",
    "\n",
    "def jaccard_similarity_minhash_lsh_two_matrices(matrix1, matrix2, thresh_user=0.2):\n",
    "    #similarity_matrix = csr_matrix((matrix.shape[0], matrix.shape[0]), dtype=np.float64)\n",
    "    similarity_matrix = lil_matrix((matrix1.shape[0], matrix2.shape[0]), dtype=np.float64)\n",
    "    pairs = lsh(matrix1, thresh_user=thresh_user)\n",
    "    #uniqueRows = np.unique([i for i, j in pairs] + [j for i, j in pairs])\n",
    "    uniqueRowsSet = set([i for i, j in pairs] + [j for i, j in pairs])\n",
    "    #print(\"uniqueRows numpy\", len(uniqueRows))\n",
    "    #print(\"num of subset of rows to check similarity:\", len(uniqueRowsSet))\n",
    "    #print(\" num of pairs\", len(uniqueRowsSet)*(len(uniqueRowsSet)-1)/2)\n",
    "    #print(\" instead of\", matrix1.shape[0]*(matrix1.shape[0]-1)/2)\n",
    "    #print(\"improved by\", (1-len(uniqueRowsSet)*(len(uniqueRowsSet)-1)/2/(matrix1.shape[0]*(matrix1.shape[0]-1)/2))*100, \"%\")\n",
    "    #print(\"num of pairs\", len(pairs))\n",
    "    #print(\"num unique i\", len(set([i for i, j in pairs])))\n",
    "    #print(\"num unique j\", len(set([j for i, j in pairs])))\n",
    "    #print(\"num unique rows\", len(uniqueRows))\n",
    "    map_i = {i: index for i, index in enumerate(uniqueRowsSet)}\n",
    "    map_i_array = np.array([map_i[i] for i in range(len(map_i))])\n",
    "    \n",
    "    subset_matrix1 = matrix1[list(uniqueRowsSet)]\n",
    "    subset_matrix2 = matrix2[list(uniqueRowsSet)]\n",
    "    \n",
    "    subset_similarity_matrix = np.full((subset_matrix1.shape[0], subset_matrix2.shape[0]), np.inf)\n",
    "    \n",
    "    #print(\"Computing jaccard similarity on subset matrix...\")\n",
    "    #print(\"subset matrix\", subset_matrix1.shape)\n",
    "    \n",
    "\n",
    "def jaccard_similarity_two_matrices(matrix1, matrix2):\n",
    "    #intersection = np.dot(matrix, matrix.T)\n",
    "    intersection = np.dot(matrix1, matrix2.T)\n",
    "    row_sums1 = matrix1.sum(axis=1)\n",
    "    row_sums2 = matrix2.sum(axis=1)\n",
    "    union = row_sums1[:, None] + row_sums2 - intersection\n",
    "    union = np.where(union == 0, 1, union)  # avoid division by zero\n",
    "    jaccard_similarity = intersection / union\n",
    "    return jaccard_similarity\n",
    "\n",
    "def jaccard_similarity_matrix_merch(matrix):\n",
    "    #print(\"matrix\", matrix.shape)\n",
    "    min_matrix = np.minimum(matrix[:, None, :], matrix[None, :, :]) # (10, 100) -> (10, 1, 100) -> (1, 10, 100) -> (10, 10, 100)\n",
    "    sum_min_matrix = np.sum(min_matrix, axis=-1)\n",
    "    #print(\"sum_min_matrix\", sum_min_matrix.shape)\n",
    "    \n",
    "    max_matrix = np.maximum(matrix[:, None, :], matrix[None, :, :])\n",
    "    sum_max_matrix = np.sum(max_matrix, axis=-1)\n",
    "    #print(\"sum_max_matrix\", sum_max_matrix.shape)\n",
    "    \n",
    "    jaccard_similarity = sum_min_matrix / sum_max_matrix\n",
    "    return jaccard_similarity\n",
    "    \n",
    "def similarity_matrix_merch(matrix):\n",
    "    if 1.0 - np.count_nonzero(matrix) / matrix.size > 0.5:\n",
    "        #print(\"merch matrix is sparse\")\n",
    "        matrix = csr_matrix(matrix)\n",
    "    #print(\"matrix merch shape\", matrix.shape)\n",
    "    simMatrix = cosine_similarity(matrix)\n",
    "    \n",
    "    return simMatrix\n",
    "\n",
    "def create_binary_matrix(routeSets):\n",
    "    uniqueShingles = list(set(shingle for route in routeSets for shingle in route[1]))\n",
    "    #print(\"uniqueShingles\", len(uniqueShingles))\n",
    "\n",
    "    # Create a dictionary that maps each shingle to its index\n",
    "    shingle_to_index = {shingle: index for index, shingle in enumerate(uniqueShingles)}\n",
    "    #print(\"shingle_to_index\", len(shingle_to_index))\n",
    "\n",
    "    binaryMatrix = np.zeros((len(routeSets), len(uniqueShingles)), dtype=int)\n",
    "\n",
    "    for i, route in enumerate(routeSets):\n",
    "        #print(\"i\", i)\n",
    "        # Get the indices of the shingles in this route\n",
    "        indices = [shingle_to_index[shingle] for shingle in route[1]]\n",
    "        # Use advanced indexing to set the corresponding elements in the binary matrix to 1\n",
    "        binaryMatrix[i, indices] = 1\n",
    "\n",
    "    return binaryMatrix\n",
    "\n",
    "def create_binary_matrix_minhash(matrix):\n",
    "    numUnique = np.unique(matrix)\n",
    "    binaryMatrix = np.zeros((matrix.shape[0], len(numUnique)), dtype=int)\n",
    "    for i, route in enumerate(matrix):\n",
    "        indices = np.where(route == 1)[0]\n",
    "        binaryMatrix[i, indices] = 1\n",
    "    \n",
    "    return binaryMatrix\n",
    "\n",
    "def create_binary_matrices(routeSet1, routeSet2):\n",
    "    # create binary matrix where each row represents a route\n",
    "    uniqueShinglesBoth = list(set([shingle for route in routeSet1 for shingle in route[1]] + [shingle for route in routeSet2 for shingle in route[1]]))\n",
    "    binaryMatrix1 = np.zeros((len(routeSet1), len(uniqueShinglesBoth)))\n",
    "    binaryMatrix2 = np.zeros((len(routeSet2), len(uniqueShinglesBoth)))\n",
    "    for i, route in enumerate(routeSet1):\n",
    "        for shingle in route[1]:\n",
    "            binaryMatrix1[i][uniqueShinglesBoth.index(shingle)] = 1\n",
    "            \n",
    "    for i, route in enumerate(routeSet2):\n",
    "        for shingle in route[1]:\n",
    "            binaryMatrix2[i][uniqueShinglesBoth.index(shingle)] = 1\n",
    "    return binaryMatrix1, binaryMatrix2\n",
    "\n",
    "def find_num_hashes_minhash(matrix):\n",
    "    if matrix.shape[1] < 1000:\n",
    "        num_hash_functions = matrix.shape[1]//10\n",
    "    elif matrix.shape[1] < 10_000:\n",
    "        num_hash_functions = 150\n",
    "    elif matrix.shape[1] < 100_000:\n",
    "        num_hash_functions = 250\n",
    "    else:\n",
    "        num_hash_functions = 300\n",
    "    return num_hash_functions\n",
    "\n",
    "def check_symmetric(a, rtol=1e-05, atol=1e-08):\n",
    "    return np.allclose(a, a.T, rtol=rtol, atol=atol)\n",
    "\n",
    "def makeSymmetric(mat):\n",
    "    for i in range(0, mat.shape[0]):\n",
    "        for j in range(0, mat.shape[1]):\n",
    "            if (j < i):\n",
    "                mat[i][j] = mat[j][i]\n"
   ]
  },
  {
   "cell_type": "code",
   "execution_count": 9,
   "metadata": {},
   "outputs": [
    {
     "name": "stderr",
     "output_type": "stream",
     "text": [
      "minhashing: 100%|██████████| 97/97 [00:00<00:00, 97099.64it/s]\n",
      "100%|██████████| 97/97 [00:00<00:00, 48578.80it/s]\n"
     ]
    },
    {
     "data": {
      "application/vnd.jupyter.widget-view+json": {
       "model_id": "a2a5280ad2a34487b427c650bad8cd6b",
       "version_major": 2,
       "version_minor": 0
      },
      "text/plain": [
       "0it [00:00, ?it/s]"
      ]
     },
     "metadata": {},
     "output_type": "display_data"
    },
    {
     "name": "stderr",
     "output_type": "stream",
     "text": [
      "c:\\Users\\User\\Desktop\\VSCodeProjects\\DataMining\\DataMiningProject23-24\\datamining\\Lib\\site-packages\\scipy\\sparse\\_index.py:143: SparseEfficiencyWarning: Changing the sparsity structure of a csr_matrix is expensive. lil_matrix is more efficient.\n",
      "  self._set_arrayXarray(i, j, x)\n",
      "minhashing: 100%|██████████| 100/100 [00:00<00:00, 49973.84it/s]\n",
      "100%|██████████| 100/100 [00:00<00:00, 50021.51it/s]\n"
     ]
    },
    {
     "data": {
      "application/vnd.jupyter.widget-view+json": {
       "model_id": "1a7685cc3a2c4b65ae3368fca083613f",
       "version_major": 2,
       "version_minor": 0
      },
      "text/plain": [
       "  0%|          | 0/21 [00:00<?, ?it/s]"
      ]
     },
     "metadata": {},
     "output_type": "display_data"
    },
    {
     "name": "stderr",
     "output_type": "stream",
     "text": [
      "c:\\Users\\User\\Desktop\\VSCodeProjects\\DataMining\\DataMiningProject23-24\\datamining\\Lib\\site-packages\\scipy\\sparse\\_index.py:143: SparseEfficiencyWarning: Changing the sparsity structure of a csr_matrix is expensive. lil_matrix is more efficient.\n",
      "  self._set_arrayXarray(i, j, x)\n",
      "minhashing: 100%|██████████| 102/102 [00:00<00:00, 33978.16it/s]\n",
      "100%|██████████| 102/102 [00:00<00:00, 25507.93it/s]\n"
     ]
    },
    {
     "data": {
      "application/vnd.jupyter.widget-view+json": {
       "model_id": "e6e8749a57c04c65a3c87e2b373174f2",
       "version_major": 2,
       "version_minor": 0
      },
      "text/plain": [
       "  0%|          | 0/17 [00:00<?, ?it/s]"
      ]
     },
     "metadata": {},
     "output_type": "display_data"
    },
    {
     "name": "stderr",
     "output_type": "stream",
     "text": [
      "c:\\Users\\User\\Desktop\\VSCodeProjects\\DataMining\\DataMiningProject23-24\\datamining\\Lib\\site-packages\\scipy\\sparse\\_index.py:143: SparseEfficiencyWarning: Changing the sparsity structure of a csr_matrix is expensive. lil_matrix is more efficient.\n",
      "  self._set_arrayXarray(i, j, x)\n",
      "minhashing: 100%|██████████| 94/94 [00:00<00:00, 46992.20it/s]\n",
      "100%|██████████| 94/94 [00:00<00:00, 31338.10it/s]\n"
     ]
    },
    {
     "data": {
      "application/vnd.jupyter.widget-view+json": {
       "model_id": "1f34a42399aa4a568b1e48ef5963844e",
       "version_major": 2,
       "version_minor": 0
      },
      "text/plain": [
       "  0%|          | 0/4 [00:00<?, ?it/s]"
      ]
     },
     "metadata": {},
     "output_type": "display_data"
    },
    {
     "name": "stderr",
     "output_type": "stream",
     "text": [
      "c:\\Users\\User\\Desktop\\VSCodeProjects\\DataMining\\DataMiningProject23-24\\datamining\\Lib\\site-packages\\scipy\\sparse\\_index.py:143: SparseEfficiencyWarning: Changing the sparsity structure of a csr_matrix is expensive. lil_matrix is more efficient.\n",
      "  self._set_arrayXarray(i, j, x)\n",
      "minhashing: 100%|██████████| 87/87 [00:00<00:00, 43503.15it/s]\n",
      "100%|██████████| 87/87 [00:00<00:00, 28940.00it/s]\n"
     ]
    },
    {
     "data": {
      "application/vnd.jupyter.widget-view+json": {
       "model_id": "e5bfae6429d9417ab300f83293e0e4a7",
       "version_major": 2,
       "version_minor": 0
      },
      "text/plain": [
       "0it [00:00, ?it/s]"
      ]
     },
     "metadata": {},
     "output_type": "display_data"
    },
    {
     "name": "stderr",
     "output_type": "stream",
     "text": [
      "c:\\Users\\User\\Desktop\\VSCodeProjects\\DataMining\\DataMiningProject23-24\\datamining\\Lib\\site-packages\\scipy\\sparse\\_index.py:143: SparseEfficiencyWarning: Changing the sparsity structure of a csr_matrix is expensive. lil_matrix is more efficient.\n",
      "  self._set_arrayXarray(i, j, x)\n",
      "minhashing: 100%|██████████| 96/96 [00:00<00:00, 47940.61it/s]\n",
      "100%|██████████| 96/96 [00:00<00:00, 31997.23it/s]\n"
     ]
    },
    {
     "data": {
      "application/vnd.jupyter.widget-view+json": {
       "model_id": "f05effc6610d4846bfa9ca4b7a1ecd38",
       "version_major": 2,
       "version_minor": 0
      },
      "text/plain": [
       "  0%|          | 0/9 [00:00<?, ?it/s]"
      ]
     },
     "metadata": {},
     "output_type": "display_data"
    },
    {
     "name": "stderr",
     "output_type": "stream",
     "text": [
      "c:\\Users\\User\\Desktop\\VSCodeProjects\\DataMining\\DataMiningProject23-24\\datamining\\Lib\\site-packages\\scipy\\sparse\\_index.py:143: SparseEfficiencyWarning: Changing the sparsity structure of a csr_matrix is expensive. lil_matrix is more efficient.\n",
      "  self._set_arrayXarray(i, j, x)\n",
      "minhashing: 100%|██████████| 111/111 [00:00<00:00, 55510.64it/s]\n",
      "100%|██████████| 111/111 [00:00<00:00, 36996.80it/s]\n"
     ]
    },
    {
     "data": {
      "application/vnd.jupyter.widget-view+json": {
       "model_id": "d60dabe3e04f4944abc41d30763f7a9d",
       "version_major": 2,
       "version_minor": 0
      },
      "text/plain": [
       "  0%|          | 0/4 [00:00<?, ?it/s]"
      ]
     },
     "metadata": {},
     "output_type": "display_data"
    },
    {
     "name": "stderr",
     "output_type": "stream",
     "text": [
      "c:\\Users\\User\\Desktop\\VSCodeProjects\\DataMining\\DataMiningProject23-24\\datamining\\Lib\\site-packages\\scipy\\sparse\\_index.py:143: SparseEfficiencyWarning: Changing the sparsity structure of a csr_matrix is expensive. lil_matrix is more efficient.\n",
      "  self._set_arrayXarray(i, j, x)\n",
      "minhashing: 100%|██████████| 83/83 [00:00<00:00, 27637.92it/s]\n",
      "100%|██████████| 83/83 [00:00<00:00, 27670.87it/s]\n"
     ]
    },
    {
     "data": {
      "application/vnd.jupyter.widget-view+json": {
       "model_id": "652edb7c7bd342e8a98a738fb31727b5",
       "version_major": 2,
       "version_minor": 0
      },
      "text/plain": [
       "  0%|          | 0/29 [00:00<?, ?it/s]"
      ]
     },
     "metadata": {},
     "output_type": "display_data"
    },
    {
     "name": "stderr",
     "output_type": "stream",
     "text": [
      "c:\\Users\\User\\Desktop\\VSCodeProjects\\DataMining\\DataMiningProject23-24\\datamining\\Lib\\site-packages\\scipy\\sparse\\_index.py:143: SparseEfficiencyWarning: Changing the sparsity structure of a csr_matrix is expensive. lil_matrix is more efficient.\n",
      "  self._set_arrayXarray(i, j, x)\n",
      "minhashing: 100%|██████████| 82/82 [00:00<00:00, 40973.66it/s]\n",
      "100%|██████████| 82/82 [00:00<00:00, 41051.91it/s]\n"
     ]
    },
    {
     "data": {
      "application/vnd.jupyter.widget-view+json": {
       "model_id": "cb3ee5350a62470892b1c3653cbf4a13",
       "version_major": 2,
       "version_minor": 0
      },
      "text/plain": [
       "  0%|          | 0/15 [00:00<?, ?it/s]"
      ]
     },
     "metadata": {},
     "output_type": "display_data"
    },
    {
     "name": "stderr",
     "output_type": "stream",
     "text": [
      "c:\\Users\\User\\Desktop\\VSCodeProjects\\DataMining\\DataMiningProject23-24\\datamining\\Lib\\site-packages\\scipy\\sparse\\_index.py:143: SparseEfficiencyWarning: Changing the sparsity structure of a csr_matrix is expensive. lil_matrix is more efficient.\n",
      "  self._set_arrayXarray(i, j, x)\n",
      "minhashing: 100%|██████████| 88/88 [00:00<00:00, 43940.33it/s]\n",
      "100%|██████████| 88/88 [00:00<00:00, 43961.26it/s]\n"
     ]
    },
    {
     "data": {
      "application/vnd.jupyter.widget-view+json": {
       "model_id": "dc2037d5c4734c51a8fd4bcac48edd39",
       "version_major": 2,
       "version_minor": 0
      },
      "text/plain": [
       "  0%|          | 0/2 [00:00<?, ?it/s]"
      ]
     },
     "metadata": {},
     "output_type": "display_data"
    },
    {
     "name": "stderr",
     "output_type": "stream",
     "text": [
      "c:\\Users\\User\\Desktop\\VSCodeProjects\\DataMining\\DataMiningProject23-24\\datamining\\Lib\\site-packages\\scipy\\sparse\\_index.py:143: SparseEfficiencyWarning: Changing the sparsity structure of a csr_matrix is expensive. lil_matrix is more efficient.\n",
      "  self._set_arrayXarray(i, j, x)\n"
     ]
    }
   ],
   "source": [
    "## Dictionary containing the distance matrix for all the drivers\n",
    "driversDistances = {}\n",
    "for driver, driverSet in actualDriverSets.items():\n",
    "    route_matrix = create_binary_matrix(driverSet)\n",
    "\n",
    "    num_hash_functions = find_num_hashes_minhash(route_matrix)\n",
    "    route_matrix = minhash(route_matrix, num_hash_functions if num_hash_functions % 2 == 0 else num_hash_functions + 1)\n",
    "\n",
    "    merch_matrix = np.array([s[2] for s in driverSet])\n",
    "\n",
    "    route_similarity = jaccard_similarity_minhash_lsh(route_matrix, thresh_user=0.4)\n",
    "    merch_similarity = similarity_matrix_merch(merch_matrix)\n",
    "\n",
    "    actualSetDistances = route_similarity * merch_similarity\n",
    "    actualSetDistances = np.nan_to_num(actualSetDistances, nan=0)\n",
    "    actualSetDistances = 1 - actualSetDistances\n",
    "\n",
    "    if not check_symmetric(actualSetDistances):\n",
    "        makeSymmetric(actualSetDistances)\n",
    "\n",
    "    driversDistances[driver] = actualSetDistances\n",
    "    "
   ]
  },
  {
   "cell_type": "code",
   "execution_count": 38,
   "metadata": {},
   "outputs": [
    {
     "data": {
      "text/plain": [
       "array([1.11022302e-16, 5.92918950e-02, 6.95212928e-02, 8.18171151e-02,\n",
       "       6.47919280e-02, 8.31293478e-02, 4.74533465e-02, 4.97502003e-02,\n",
       "       1.36907115e-01, 5.24399704e-02, 6.94066774e-02, 8.20866750e-02,\n",
       "       8.48821230e-02, 5.82876515e-02, 1.59967836e-01, 1.85686625e-01,\n",
       "       6.88246448e-02, 7.21612606e-02, 2.58959630e-02, 9.50998972e-02,\n",
       "       1.40986598e-01, 8.52692249e-02, 2.58691505e-02, 5.26999422e-02,\n",
       "       6.61104655e-02, 2.12193148e-01, 1.77091666e-01, 1.54768809e-01,\n",
       "       7.40508430e-02, 9.93661689e-02, 7.15885512e-02, 4.94263017e-02,\n",
       "       5.75970624e-02, 6.47370700e-02, 5.92693896e-02, 6.80977622e-02,\n",
       "       5.23468789e-02, 9.70279049e-02, 9.57436831e-02, 6.23264359e-02,\n",
       "       7.20805082e-02, 2.20054838e-02, 7.92483858e-02, 1.23670695e-01,\n",
       "       1.21791287e-01, 6.24001199e-02, 5.71004425e-02, 9.81162417e-02,\n",
       "       5.62745468e-02, 4.44540517e-02, 2.03642108e-01, 8.43551738e-02,\n",
       "       6.91573081e-02, 1.39098839e-01, 3.64018139e-02, 6.76984169e-02,\n",
       "       1.04622980e-01, 2.63952891e-01, 4.08624367e-02, 9.42179379e-02,\n",
       "       7.56359099e-02, 5.57838001e-02, 4.05434737e-02, 8.63765763e-02,\n",
       "       8.35612656e-02, 1.63597368e-01, 1.50149753e-01, 7.09034310e-02,\n",
       "       5.05194752e-02, 1.64579599e-01, 1.33711237e-01, 1.66626507e-01,\n",
       "       1.34027480e-01, 7.24815609e-02, 1.07200957e-01, 3.91771964e-02,\n",
       "       5.13949460e-02, 3.66955267e-02, 2.04105735e-01, 6.96178751e-02,\n",
       "       8.33320181e-02, 8.60127920e-02, 7.17629875e-02])"
      ]
     },
     "execution_count": 38,
     "metadata": {},
     "output_type": "execute_result"
    }
   ],
   "source": [
    "driversDistances['A'][0]"
   ]
  },
  {
   "cell_type": "markdown",
   "metadata": {},
   "source": [
    "## HDBSCAN"
   ]
  },
  {
   "cell_type": "code",
   "execution_count": 37,
   "metadata": {},
   "outputs": [
    {
     "name": "stdout",
     "output_type": "stream",
     "text": [
      "performing DBSCAN for driver  A\n",
      "83\n",
      "best min 2 best max 47\n",
      "num clusters found for driver A: 2\n",
      "labels:  [-1 -1 -1 -1 -1 -1 -1 -1 -1 -1 -1 -1 -1 -1 -1 -1 -1 -1 -1 -1 -1 -1 -1 -1\n",
      " -1 -1 -1 -1 -1 -1 -1 -1 -1 -1 -1 -1 -1 -1 -1 -1 -1 -1 -1 -1 -1 -1 -1 -1\n",
      " -1 -1 -1 -1 -1 -1 -1 -1 -1 -1 -1 -1 -1 -1 -1 -1 -1 -1 -1 -1 -1 -1 -1  0\n",
      " -1 -1 -1 -1 -1 -1 -1 -1  0 -1 -1]\n",
      "[t-SNE] Computing 16 nearest neighbors...\n",
      "[t-SNE] Indexed 83 samples in 0.000s...\n",
      "[t-SNE] Computed neighbors for 83 samples in 0.011s...\n",
      "[t-SNE] Computed conditional probabilities for sample 83 / 83\n",
      "[t-SNE] Mean sigma: 3.939326\n",
      "[t-SNE] KL divergence after 250 iterations with early exaggeration: 101.782616\n",
      "[t-SNE] KL divergence after 1000 iterations: 0.870496\n"
     ]
    },
    {
     "data": {
      "application/vnd.plotly.v1+json": {
       "config": {
        "plotlyServerURL": "https://plot.ly"
       },
       "data": [
        {
         "marker": {
          "color": [
           [
            0,
            0,
            0,
            1
           ],
           [
            0,
            0,
            0,
            1
           ],
           [
            0,
            0,
            0,
            1
           ],
           [
            0,
            0,
            0,
            1
           ],
           [
            0,
            0,
            0,
            1
           ],
           [
            0,
            0,
            0,
            1
           ],
           [
            0,
            0,
            0,
            1
           ],
           [
            0,
            0,
            0,
            1
           ],
           [
            0,
            0,
            0,
            1
           ],
           [
            0,
            0,
            0,
            1
           ],
           [
            0,
            0,
            0,
            1
           ],
           [
            0,
            0,
            0,
            1
           ],
           [
            0,
            0,
            0,
            1
           ],
           [
            0,
            0,
            0,
            1
           ],
           [
            0,
            0,
            0,
            1
           ],
           [
            0,
            0,
            0,
            1
           ],
           [
            0,
            0,
            0,
            1
           ],
           [
            0,
            0,
            0,
            1
           ],
           [
            0,
            0,
            0,
            1
           ],
           [
            0,
            0,
            0,
            1
           ],
           [
            0,
            0,
            0,
            1
           ],
           [
            0,
            0,
            0,
            1
           ],
           [
            0,
            0,
            0,
            1
           ],
           [
            0,
            0,
            0,
            1
           ],
           [
            0,
            0,
            0,
            1
           ],
           [
            0,
            0,
            0,
            1
           ],
           [
            0,
            0,
            0,
            1
           ],
           [
            0,
            0,
            0,
            1
           ],
           [
            0,
            0,
            0,
            1
           ],
           [
            0,
            0,
            0,
            1
           ],
           [
            0,
            0,
            0,
            1
           ],
           [
            0,
            0,
            0,
            1
           ],
           [
            0,
            0,
            0,
            1
           ],
           [
            0,
            0,
            0,
            1
           ],
           [
            0,
            0,
            0,
            1
           ],
           [
            0,
            0,
            0,
            1
           ],
           [
            0,
            0,
            0,
            1
           ],
           [
            0,
            0,
            0,
            1
           ],
           [
            0,
            0,
            0,
            1
           ],
           [
            0,
            0,
            0,
            1
           ],
           [
            0,
            0,
            0,
            1
           ],
           [
            0,
            0,
            0,
            1
           ],
           [
            0,
            0,
            0,
            1
           ],
           [
            0,
            0,
            0,
            1
           ],
           [
            0,
            0,
            0,
            1
           ],
           [
            0,
            0,
            0,
            1
           ],
           [
            0,
            0,
            0,
            1
           ],
           [
            0,
            0,
            0,
            1
           ],
           [
            0,
            0,
            0,
            1
           ],
           [
            0,
            0,
            0,
            1
           ],
           [
            0,
            0,
            0,
            1
           ],
           [
            0,
            0,
            0,
            1
           ],
           [
            0,
            0,
            0,
            1
           ],
           [
            0,
            0,
            0,
            1
           ],
           [
            0,
            0,
            0,
            1
           ],
           [
            0,
            0,
            0,
            1
           ],
           [
            0,
            0,
            0,
            1
           ],
           [
            0,
            0,
            0,
            1
           ],
           [
            0,
            0,
            0,
            1
           ],
           [
            0,
            0,
            0,
            1
           ],
           [
            0,
            0,
            0,
            1
           ],
           [
            0,
            0,
            0,
            1
           ],
           [
            0,
            0,
            0,
            1
           ],
           [
            0,
            0,
            0,
            1
           ],
           [
            0,
            0,
            0,
            1
           ],
           [
            0,
            0,
            0,
            1
           ],
           [
            0,
            0,
            0,
            1
           ],
           [
            0,
            0,
            0,
            1
           ],
           [
            0,
            0,
            0,
            1
           ],
           [
            0,
            0,
            0,
            1
           ],
           [
            0,
            0,
            0,
            1
           ],
           [
            0,
            0,
            0.5,
            1
           ],
           [
            0,
            0,
            0,
            1
           ],
           [
            0,
            0,
            0,
            1
           ],
           [
            0,
            0,
            0,
            1
           ],
           [
            0,
            0,
            0,
            1
           ],
           [
            0,
            0,
            0,
            1
           ],
           [
            0,
            0,
            0,
            1
           ],
           [
            0,
            0,
            0,
            1
           ],
           [
            0,
            0,
            0,
            1
           ],
           [
            0,
            0,
            0.5,
            1
           ],
           [
            0,
            0,
            0,
            1
           ],
           [
            0,
            0,
            0,
            1
           ]
          ],
          "opacity": 1,
          "size": 7,
          "symbol": "diamond"
         },
         "mode": "markers",
         "type": "scatter3d",
         "x": [
          61.68933868408203,
          51.74665069580078,
          -57.756195068359375,
          -43.46150588989258,
          -69.22694396972656,
          -63.730995178222656,
          -55.910552978515625,
          71.81978607177734,
          -50.1253662109375,
          -43.88444900512695,
          -50.90843200683594,
          59.42038345336914,
          66.43598175048828,
          -36.8396110534668,
          -35.12419891357422,
          -46.79706954956055,
          -28.08131980895996,
          27.272335052490234,
          23.78968048095703,
          -36.994659423828125,
          54.30433654785156,
          44.47985076904297,
          45.752403259277344,
          38.753013610839844,
          -15.23306655883789,
          -24.03486442565918,
          -7.008914470672607,
          -17.292165756225586,
          -19.707653045654297,
          -6.163320064544678,
          -23.470548629760742,
          -2.1889750957489014,
          -13.68392562866211,
          -5.929327964782715,
          -14.244054794311523,
          -3.592015504837036,
          2.882504940032959,
          -9.114644050598145,
          11.605536460876465,
          -29.997865676879883,
          -49.53988265991211,
          -33.99480438232422,
          -5.883160591125488,
          -46.13566207885742,
          -40.0325927734375,
          4.687175750732422,
          17.435213088989258,
          30.6114501953125,
          40.29862594604492,
          9.992493629455566,
          10.185954093933105,
          40.84320831298828,
          37.869693756103516,
          18.12102508544922,
          25.516971588134766,
          35.09661865234375,
          29.69156265258789,
          50.206085205078125,
          18.677276611328125,
          -14.502812385559082,
          -6.9603400230407715,
          -18.63538360595703,
          -11.279766082763672,
          -26.02284049987793,
          -21.597736358642578,
          -15.85071849822998,
          41.11688232421875,
          20.561845779418945,
          20.737041473388672,
          34.26567077636719,
          -25.854429244995117,
          50.33073806762695,
          26.564842224121094,
          43.70172882080078,
          54.6781005859375,
          12.807872772216797,
          0.5575430989265442,
          13.13672924041748,
          5.0163092613220215,
          21.022232055664062,
          -6.694087028503418,
          -2.239719867706299,
          5.6172776222229
         ],
         "y": [
          -6.178552150726318,
          -6.343756198883057,
          9.269192695617676,
          78.23480224609375,
          6.655240535736084,
          -14.278145790100098,
          -7.233156204223633,
          -11.333133697509766,
          -24.127653121948242,
          14.442131996154785,
          -30.750762939453125,
          -9.422396659851074,
          1.2546617984771729,
          -61.30568313598633,
          -72.17137908935547,
          -61.265113830566406,
          -59.00161361694336,
          32.708614349365234,
          26.504743576049805,
          -65.4685287475586,
          36.18989181518555,
          26.421728134155273,
          40.3060188293457,
          38.8941650390625,
          -61.15712356567383,
          -61.24307632446289,
          39.1953239440918,
          30.039461135864258,
          29.148174285888672,
          24.12787628173828,
          41.59565353393555,
          -43.073028564453125,
          50.67840576171875,
          -31.81822967529297,
          64.98650360107422,
          64.01010131835938,
          -26.695354461669922,
          80.15483856201172,
          -29.349802017211914,
          9.260802268981934,
          10.031820297241211,
          4.7046356201171875,
          7.035896301269531,
          4.9084086418151855,
          20.294553756713867,
          -9.634553909301758,
          -11.54660701751709,
          -27.144886016845703,
          2.6629812717437744,
          -3.8114709854125977,
          5.773168087005615,
          11.18976879119873,
          10.401257514953613,
          -2.2311019897460938,
          12.549649238586426,
          -2.7919325828552246,
          4.214130878448486,
          73.77528381347656,
          -47.53858947753906,
          46.362709045410156,
          53.014198303222656,
          50.355899810791016,
          37.7819709777832,
          42.55817794799805,
          58.17958068847656,
          62.100677490234375,
          -55.68716049194336,
          59.00698471069336,
          54.72218322753906,
          58.96967697143555,
          -14.422346115112305,
          -47.5791015625,
          75.174072265625,
          -58.080223083496094,
          -61.45829391479492,
          -39.67539596557617,
          -43.1954460144043,
          -38.56387710571289,
          -27.53316879272461,
          -64.28440856933594,
          -37.650726318359375,
          -49.11412048339844,
          -61.56624221801758
         ],
         "z": [
          53.788604736328125,
          46.890193939208984,
          -26.134815216064453,
          -4.52449369430542,
          -20.409774780273438,
          -34.2942008972168,
          -22.61931800842285,
          32.67896270751953,
          -32.317317962646484,
          90.52899169921875,
          -19.725830078125,
          18.929027557373047,
          19.586034774780273,
          -4.6559553146362305,
          5.07413387298584,
          6.559385299682617,
          6.871237754821777,
          32.0999870300293,
          21.287744522094727,
          21.79102897644043,
          13.366254806518555,
          19.573444366455078,
          25.787506103515625,
          12.37548542022705,
          34.92220687866211,
          43.29975128173828,
          67.43624877929688,
          58.33576202392578,
          74.839599609375,
          67.60492706298828,
          67.19548797607422,
          38.045345306396484,
          43.929176330566406,
          31.34779167175293,
          36.020206451416016,
          41.907596588134766,
          42.72834777832031,
          37.86598587036133,
          33.130367279052734,
          22.97026824951172,
          39.76216125488281,
          37.98465347290039,
          47.773101806640625,
          24.431123733520508,
          30.7103214263916,
          18.823326110839844,
          15.967703819274902,
          71.42963409423828,
          -72.47698211669922,
          6.0604658126831055,
          -54.73139953613281,
          -41.20927047729492,
          -25.458314895629883,
          -42.16407012939453,
          -34.55919647216797,
          -33.52260971069336,
          -49.44367599487305,
          20.002788543701172,
          -63.53519821166992,
          -29.54279136657715,
          -16.1661376953125,
          -5.347210884094238,
          -13.185883522033691,
          -17.218114852905273,
          -22.889572143554688,
          -39.4616584777832,
          -56.17377471923828,
          -35.96538543701172,
          -50.359710693359375,
          -44.074989318847656,
          64.68751525878906,
          -45.70096206665039,
          -50.657657623291016,
          -37.19375991821289,
          -43.37468338012695,
          -20.363269805908203,
          -11.660314559936523,
          -5.604038715362549,
          -14.88980484008789,
          -28.62728500366211,
          -29.895654678344727,
          -33.24795150756836,
          -28.0830135345459
         ]
        }
       ],
       "layout": {
        "margin": {
         "b": 0,
         "l": 0,
         "r": 0,
         "t": 0
        },
        "template": {
         "data": {
          "bar": [
           {
            "error_x": {
             "color": "#2a3f5f"
            },
            "error_y": {
             "color": "#2a3f5f"
            },
            "marker": {
             "line": {
              "color": "#E5ECF6",
              "width": 0.5
             },
             "pattern": {
              "fillmode": "overlay",
              "size": 10,
              "solidity": 0.2
             }
            },
            "type": "bar"
           }
          ],
          "barpolar": [
           {
            "marker": {
             "line": {
              "color": "#E5ECF6",
              "width": 0.5
             },
             "pattern": {
              "fillmode": "overlay",
              "size": 10,
              "solidity": 0.2
             }
            },
            "type": "barpolar"
           }
          ],
          "carpet": [
           {
            "aaxis": {
             "endlinecolor": "#2a3f5f",
             "gridcolor": "white",
             "linecolor": "white",
             "minorgridcolor": "white",
             "startlinecolor": "#2a3f5f"
            },
            "baxis": {
             "endlinecolor": "#2a3f5f",
             "gridcolor": "white",
             "linecolor": "white",
             "minorgridcolor": "white",
             "startlinecolor": "#2a3f5f"
            },
            "type": "carpet"
           }
          ],
          "choropleth": [
           {
            "colorbar": {
             "outlinewidth": 0,
             "ticks": ""
            },
            "type": "choropleth"
           }
          ],
          "contour": [
           {
            "colorbar": {
             "outlinewidth": 0,
             "ticks": ""
            },
            "colorscale": [
             [
              0,
              "#0d0887"
             ],
             [
              0.1111111111111111,
              "#46039f"
             ],
             [
              0.2222222222222222,
              "#7201a8"
             ],
             [
              0.3333333333333333,
              "#9c179e"
             ],
             [
              0.4444444444444444,
              "#bd3786"
             ],
             [
              0.5555555555555556,
              "#d8576b"
             ],
             [
              0.6666666666666666,
              "#ed7953"
             ],
             [
              0.7777777777777778,
              "#fb9f3a"
             ],
             [
              0.8888888888888888,
              "#fdca26"
             ],
             [
              1,
              "#f0f921"
             ]
            ],
            "type": "contour"
           }
          ],
          "contourcarpet": [
           {
            "colorbar": {
             "outlinewidth": 0,
             "ticks": ""
            },
            "type": "contourcarpet"
           }
          ],
          "heatmap": [
           {
            "colorbar": {
             "outlinewidth": 0,
             "ticks": ""
            },
            "colorscale": [
             [
              0,
              "#0d0887"
             ],
             [
              0.1111111111111111,
              "#46039f"
             ],
             [
              0.2222222222222222,
              "#7201a8"
             ],
             [
              0.3333333333333333,
              "#9c179e"
             ],
             [
              0.4444444444444444,
              "#bd3786"
             ],
             [
              0.5555555555555556,
              "#d8576b"
             ],
             [
              0.6666666666666666,
              "#ed7953"
             ],
             [
              0.7777777777777778,
              "#fb9f3a"
             ],
             [
              0.8888888888888888,
              "#fdca26"
             ],
             [
              1,
              "#f0f921"
             ]
            ],
            "type": "heatmap"
           }
          ],
          "heatmapgl": [
           {
            "colorbar": {
             "outlinewidth": 0,
             "ticks": ""
            },
            "colorscale": [
             [
              0,
              "#0d0887"
             ],
             [
              0.1111111111111111,
              "#46039f"
             ],
             [
              0.2222222222222222,
              "#7201a8"
             ],
             [
              0.3333333333333333,
              "#9c179e"
             ],
             [
              0.4444444444444444,
              "#bd3786"
             ],
             [
              0.5555555555555556,
              "#d8576b"
             ],
             [
              0.6666666666666666,
              "#ed7953"
             ],
             [
              0.7777777777777778,
              "#fb9f3a"
             ],
             [
              0.8888888888888888,
              "#fdca26"
             ],
             [
              1,
              "#f0f921"
             ]
            ],
            "type": "heatmapgl"
           }
          ],
          "histogram": [
           {
            "marker": {
             "pattern": {
              "fillmode": "overlay",
              "size": 10,
              "solidity": 0.2
             }
            },
            "type": "histogram"
           }
          ],
          "histogram2d": [
           {
            "colorbar": {
             "outlinewidth": 0,
             "ticks": ""
            },
            "colorscale": [
             [
              0,
              "#0d0887"
             ],
             [
              0.1111111111111111,
              "#46039f"
             ],
             [
              0.2222222222222222,
              "#7201a8"
             ],
             [
              0.3333333333333333,
              "#9c179e"
             ],
             [
              0.4444444444444444,
              "#bd3786"
             ],
             [
              0.5555555555555556,
              "#d8576b"
             ],
             [
              0.6666666666666666,
              "#ed7953"
             ],
             [
              0.7777777777777778,
              "#fb9f3a"
             ],
             [
              0.8888888888888888,
              "#fdca26"
             ],
             [
              1,
              "#f0f921"
             ]
            ],
            "type": "histogram2d"
           }
          ],
          "histogram2dcontour": [
           {
            "colorbar": {
             "outlinewidth": 0,
             "ticks": ""
            },
            "colorscale": [
             [
              0,
              "#0d0887"
             ],
             [
              0.1111111111111111,
              "#46039f"
             ],
             [
              0.2222222222222222,
              "#7201a8"
             ],
             [
              0.3333333333333333,
              "#9c179e"
             ],
             [
              0.4444444444444444,
              "#bd3786"
             ],
             [
              0.5555555555555556,
              "#d8576b"
             ],
             [
              0.6666666666666666,
              "#ed7953"
             ],
             [
              0.7777777777777778,
              "#fb9f3a"
             ],
             [
              0.8888888888888888,
              "#fdca26"
             ],
             [
              1,
              "#f0f921"
             ]
            ],
            "type": "histogram2dcontour"
           }
          ],
          "mesh3d": [
           {
            "colorbar": {
             "outlinewidth": 0,
             "ticks": ""
            },
            "type": "mesh3d"
           }
          ],
          "parcoords": [
           {
            "line": {
             "colorbar": {
              "outlinewidth": 0,
              "ticks": ""
             }
            },
            "type": "parcoords"
           }
          ],
          "pie": [
           {
            "automargin": true,
            "type": "pie"
           }
          ],
          "scatter": [
           {
            "fillpattern": {
             "fillmode": "overlay",
             "size": 10,
             "solidity": 0.2
            },
            "type": "scatter"
           }
          ],
          "scatter3d": [
           {
            "line": {
             "colorbar": {
              "outlinewidth": 0,
              "ticks": ""
             }
            },
            "marker": {
             "colorbar": {
              "outlinewidth": 0,
              "ticks": ""
             }
            },
            "type": "scatter3d"
           }
          ],
          "scattercarpet": [
           {
            "marker": {
             "colorbar": {
              "outlinewidth": 0,
              "ticks": ""
             }
            },
            "type": "scattercarpet"
           }
          ],
          "scattergeo": [
           {
            "marker": {
             "colorbar": {
              "outlinewidth": 0,
              "ticks": ""
             }
            },
            "type": "scattergeo"
           }
          ],
          "scattergl": [
           {
            "marker": {
             "colorbar": {
              "outlinewidth": 0,
              "ticks": ""
             }
            },
            "type": "scattergl"
           }
          ],
          "scattermapbox": [
           {
            "marker": {
             "colorbar": {
              "outlinewidth": 0,
              "ticks": ""
             }
            },
            "type": "scattermapbox"
           }
          ],
          "scatterpolar": [
           {
            "marker": {
             "colorbar": {
              "outlinewidth": 0,
              "ticks": ""
             }
            },
            "type": "scatterpolar"
           }
          ],
          "scatterpolargl": [
           {
            "marker": {
             "colorbar": {
              "outlinewidth": 0,
              "ticks": ""
             }
            },
            "type": "scatterpolargl"
           }
          ],
          "scatterternary": [
           {
            "marker": {
             "colorbar": {
              "outlinewidth": 0,
              "ticks": ""
             }
            },
            "type": "scatterternary"
           }
          ],
          "surface": [
           {
            "colorbar": {
             "outlinewidth": 0,
             "ticks": ""
            },
            "colorscale": [
             [
              0,
              "#0d0887"
             ],
             [
              0.1111111111111111,
              "#46039f"
             ],
             [
              0.2222222222222222,
              "#7201a8"
             ],
             [
              0.3333333333333333,
              "#9c179e"
             ],
             [
              0.4444444444444444,
              "#bd3786"
             ],
             [
              0.5555555555555556,
              "#d8576b"
             ],
             [
              0.6666666666666666,
              "#ed7953"
             ],
             [
              0.7777777777777778,
              "#fb9f3a"
             ],
             [
              0.8888888888888888,
              "#fdca26"
             ],
             [
              1,
              "#f0f921"
             ]
            ],
            "type": "surface"
           }
          ],
          "table": [
           {
            "cells": {
             "fill": {
              "color": "#EBF0F8"
             },
             "line": {
              "color": "white"
             }
            },
            "header": {
             "fill": {
              "color": "#C8D4E3"
             },
             "line": {
              "color": "white"
             }
            },
            "type": "table"
           }
          ]
         },
         "layout": {
          "annotationdefaults": {
           "arrowcolor": "#2a3f5f",
           "arrowhead": 0,
           "arrowwidth": 1
          },
          "autotypenumbers": "strict",
          "coloraxis": {
           "colorbar": {
            "outlinewidth": 0,
            "ticks": ""
           }
          },
          "colorscale": {
           "diverging": [
            [
             0,
             "#8e0152"
            ],
            [
             0.1,
             "#c51b7d"
            ],
            [
             0.2,
             "#de77ae"
            ],
            [
             0.3,
             "#f1b6da"
            ],
            [
             0.4,
             "#fde0ef"
            ],
            [
             0.5,
             "#f7f7f7"
            ],
            [
             0.6,
             "#e6f5d0"
            ],
            [
             0.7,
             "#b8e186"
            ],
            [
             0.8,
             "#7fbc41"
            ],
            [
             0.9,
             "#4d9221"
            ],
            [
             1,
             "#276419"
            ]
           ],
           "sequential": [
            [
             0,
             "#0d0887"
            ],
            [
             0.1111111111111111,
             "#46039f"
            ],
            [
             0.2222222222222222,
             "#7201a8"
            ],
            [
             0.3333333333333333,
             "#9c179e"
            ],
            [
             0.4444444444444444,
             "#bd3786"
            ],
            [
             0.5555555555555556,
             "#d8576b"
            ],
            [
             0.6666666666666666,
             "#ed7953"
            ],
            [
             0.7777777777777778,
             "#fb9f3a"
            ],
            [
             0.8888888888888888,
             "#fdca26"
            ],
            [
             1,
             "#f0f921"
            ]
           ],
           "sequentialminus": [
            [
             0,
             "#0d0887"
            ],
            [
             0.1111111111111111,
             "#46039f"
            ],
            [
             0.2222222222222222,
             "#7201a8"
            ],
            [
             0.3333333333333333,
             "#9c179e"
            ],
            [
             0.4444444444444444,
             "#bd3786"
            ],
            [
             0.5555555555555556,
             "#d8576b"
            ],
            [
             0.6666666666666666,
             "#ed7953"
            ],
            [
             0.7777777777777778,
             "#fb9f3a"
            ],
            [
             0.8888888888888888,
             "#fdca26"
            ],
            [
             1,
             "#f0f921"
            ]
           ]
          },
          "colorway": [
           "#636efa",
           "#EF553B",
           "#00cc96",
           "#ab63fa",
           "#FFA15A",
           "#19d3f3",
           "#FF6692",
           "#B6E880",
           "#FF97FF",
           "#FECB52"
          ],
          "font": {
           "color": "#2a3f5f"
          },
          "geo": {
           "bgcolor": "white",
           "lakecolor": "white",
           "landcolor": "#E5ECF6",
           "showlakes": true,
           "showland": true,
           "subunitcolor": "white"
          },
          "hoverlabel": {
           "align": "left"
          },
          "hovermode": "closest",
          "mapbox": {
           "style": "light"
          },
          "paper_bgcolor": "white",
          "plot_bgcolor": "#E5ECF6",
          "polar": {
           "angularaxis": {
            "gridcolor": "white",
            "linecolor": "white",
            "ticks": ""
           },
           "bgcolor": "#E5ECF6",
           "radialaxis": {
            "gridcolor": "white",
            "linecolor": "white",
            "ticks": ""
           }
          },
          "scene": {
           "xaxis": {
            "backgroundcolor": "#E5ECF6",
            "gridcolor": "white",
            "gridwidth": 2,
            "linecolor": "white",
            "showbackground": true,
            "ticks": "",
            "zerolinecolor": "white"
           },
           "yaxis": {
            "backgroundcolor": "#E5ECF6",
            "gridcolor": "white",
            "gridwidth": 2,
            "linecolor": "white",
            "showbackground": true,
            "ticks": "",
            "zerolinecolor": "white"
           },
           "zaxis": {
            "backgroundcolor": "#E5ECF6",
            "gridcolor": "white",
            "gridwidth": 2,
            "linecolor": "white",
            "showbackground": true,
            "ticks": "",
            "zerolinecolor": "white"
           }
          },
          "shapedefaults": {
           "line": {
            "color": "#2a3f5f"
           }
          },
          "ternary": {
           "aaxis": {
            "gridcolor": "white",
            "linecolor": "white",
            "ticks": ""
           },
           "baxis": {
            "gridcolor": "white",
            "linecolor": "white",
            "ticks": ""
           },
           "bgcolor": "#E5ECF6",
           "caxis": {
            "gridcolor": "white",
            "linecolor": "white",
            "ticks": ""
           }
          },
          "title": {
           "x": 0.05
          },
          "xaxis": {
           "automargin": true,
           "gridcolor": "white",
           "linecolor": "white",
           "ticks": "",
           "title": {
            "standoff": 15
           },
           "zerolinecolor": "white",
           "zerolinewidth": 2
          },
          "yaxis": {
           "automargin": true,
           "gridcolor": "white",
           "linecolor": "white",
           "ticks": "",
           "title": {
            "standoff": 15
           },
           "zerolinecolor": "white",
           "zerolinewidth": 2
          }
         }
        }
       }
      }
     },
     "metadata": {},
     "output_type": "display_data"
    }
   ],
   "source": [
    "from sklearn.metrics import pairwise_distances\n",
    "forward_expansion = len(dfActual) // len(dfStandard)\n",
    "\n",
    "driversClusters = {}\n",
    "for driver, driverDistance in driversDistances.items():\n",
    "    if driver != 'A':\n",
    "        continue\n",
    "    print('performing DBSCAN for driver ', driver)\n",
    "\n",
    "    actualDistance = np.array(driverDistance)\n",
    "    print(len(actualDistance))\n",
    "    best_min = 0\n",
    "    best_max = 0\n",
    "    best_n_cluster=np.inf\n",
    "    for min_cluster in range(2, forward_expansion, 2):\n",
    "        for max_cluster in range(forward_expansion, forward_expansion*2, 2):\n",
    "            hdb = HDBSCAN(min_cluster_size=min_cluster, max_cluster_size=max_cluster, metric=\"precomputed\", store_centers=None,allow_single_cluster=False ).fit(actualDistance.copy())\n",
    "            noise_count = sum([1 for noise in hdb.labels_ if noise < 0])\n",
    "            if noise_count < best_n_cluster:\n",
    "                best_n_cluster = noise_count\n",
    "                best_min = min_cluster\n",
    "                best_max = max_cluster\n",
    "\n",
    "    print(f'best min {best_min} best max {best_max}')\n",
    "    hdb = HDBSCAN(min_cluster_size=best_min, max_cluster_size=len(actualDistance)//20, metric=\"precomputed\", store_centers=None,allow_single_cluster=False ).fit(actualDistance.copy())\n",
    "    print(f\"num clusters found for driver {driver}: {len(set(hdb.labels_))}\")\n",
    "    print('labels: ', hdb.labels_)\n",
    "    labels = hdb.labels_\n",
    "\n",
    "    ##Plotting\n",
    "    #perplexity = 50 if len(driversDistances[driver]) > 50 else len(driversDistances[driver]) - 1\n",
    "    driversTSNE = TSNE(n_components=3, perplexity=5, n_iter=1000, verbose=1).fit_transform(driversDistances[driver])\n",
    "\n",
    "    colors = plt.cm.jet(np.linspace(0, 1, len(set(labels))))\n",
    "    color_map = dict(zip(set(labels), colors))\n",
    "    marker_colors = [color_map[label] if label > -1 else np.array([0,0,0,1]) for label in labels]\n",
    "    traceStandard = go.Scatter3d(\n",
    "    x=driversTSNE[:,0],\n",
    "    y=driversTSNE[:,1],\n",
    "    z=driversTSNE[:,2],\n",
    "    mode='markers',\n",
    "    marker=dict(\n",
    "        size=7,\n",
    "        color=marker_colors,                # set color to an array/list of desired values\n",
    "        opacity=1,\n",
    "        symbol='diamond'\n",
    "    )\n",
    "    )\n",
    "\n",
    "    # Plot\n",
    "    data = [traceStandard]\n",
    "\n",
    "    layout = go.Layout(\n",
    "        margin=dict(\n",
    "            l=0,\n",
    "            r=0,\n",
    "            b=0,\n",
    "            t=0\n",
    "        )\n",
    "    )\n",
    "\n",
    "    fig = go.Figure(data=data, layout=layout)\n",
    "    fig.show()\n",
    "\n",
    "    ## Selecting the cluster that has the higher intra-cluster similarity\n",
    "    # Compute pairwise similarity/distance matrix within clusters\n",
    "    pairwise_similarities = []\n",
    "    for label in np.unique(labels):\n",
    "        cluster_points = actualDistance[labels == label]\n",
    "        pairwise_similarity = 1 - pairwise_distances(cluster_points, metric='cosine')\n",
    "        pairwise_similarities.append(pairwise_similarity)\n",
    "\n",
    "    # Compute the average similarity within each cluster\n",
    "    avg_similarities = [np.mean(similarity) for similarity in pairwise_similarities]\n",
    "\n",
    "    # Select the cluster with the highest average similarity\n",
    "    selected_cluster = np.argmax(avg_similarities)\n",
    "\n",
    "    # Access the data points in the selected cluster\n",
    "    selected_cluster_points = actualDistance[labels == selected_cluster]\n",
    "\n",
    "    driversClusters[driver] = selected_cluster_points\n",
    "    break"
   ]
  },
  {
   "cell_type": "code",
   "execution_count": 28,
   "metadata": {},
   "outputs": [
    {
     "name": "stdout",
     "output_type": "stream",
     "text": [
      "completeSets:  960\n",
      "uniqueShingles 4876\n",
      "shingle_to_index 4876\n",
      "matrix jaccard is sparse\n",
      "intersection (960, 960) <class 'numpy.matrix'>\n",
      "row_sums (960,)\n",
      "union (960, 960)\n",
      "union (960, 960)\n",
      "jaccard_similarity (960, 960) <class 'numpy.matrix'>\n",
      "jaccard_similarity contains nan False\n",
      "matrix merch shape (960, 20)\n",
      "completeSetsDistances (960, 960) [0.         0.55077636 0.57453439 0.5453838  0.56458047 0.55220908\n",
      " 0.58563433 0.56650395 0.54509347 0.5366262  0.57842986 0.54941341\n",
      " 0.54728318 0.53789171 0.54430558 0.55221679 0.54051946 0.52743088\n",
      " 0.52954894 0.53912212 0.55389263 0.53563029 0.54419849 0.55263574\n",
      " 0.57190877 0.54163961 0.54962128 0.53406769 0.55396504 0.54021546\n",
      " 0.55136272 0.53349924 0.58155198 0.34738772 0.56075361 0.54847454\n",
      " 0.55144335 0.5554357  0.55351051 0.56456724 0.53709901 0.56927187\n",
      " 0.56662505 0.57092426 0.63316747 0.55443415 0.56562964 0.55416709\n",
      " 0.54993827 0.52633399 0.57517867 0.53287707 0.56269798 0.54571827\n",
      " 0.53620079 0.57959857 0.55622482 0.54245733 0.54891751 0.52830364\n",
      " 0.56278487 0.55350925 0.57187001 0.54546521 0.54960134 0.57777385\n",
      " 0.61168806 0.56062461 0.53367532 0.57528156 0.59322794 0.55982264\n",
      " 0.57211832 0.56037443 0.53938436 0.57589837 0.5947624  0.54412356\n",
      " 0.55964837 0.56836962 0.56908415 0.5618213  0.55784902 0.55534425\n",
      " 0.5386777  0.54347659 0.54684564 0.55467632 0.56353201 0.54319556\n",
      " 0.54392351 0.55200802 0.42375758 0.55137934 0.54164772 0.55880553\n",
      " 0.55839164 0.55087353 0.54592481 0.58043385 0.5658361  0.54760805\n",
      " 0.59336235 0.5709509  0.54210572 0.54895413 0.55118826 0.55046146\n",
      " 0.55777911 0.56167776 0.57246267 0.56185848 0.58415062 0.54764457\n",
      " 0.53046035 0.58153351 0.58683826 0.54962888 0.56585519 0.55803906\n",
      " 0.55725156 0.58049532 0.55422992 0.56881963 0.53742189 0.54459444\n",
      " 0.53535407 0.54558133 0.55638108 0.56274375 0.55038751 0.54290756\n",
      " 0.54635673 0.57800406 0.55175797 0.55761917 0.54239506 0.59711342\n",
      " 0.55657449 0.5585574  0.55637355 0.55314192 0.55918571 0.5579729\n",
      " 0.55271981 0.54579608 0.52439186 0.5362961  0.57269435 0.53302708\n",
      " 0.5419182  0.55213319 0.51712258 0.56268249 0.55868087 0.5706185\n",
      " 0.58524535 0.5363367  0.53658417 0.54475177 0.53959364 0.55254986\n",
      " 0.54565233 0.55947919 0.57359973 0.55213043 0.56179689 0.59958652\n",
      " 0.55789608 0.54606002 0.55301687 0.55789326 0.54117359 0.53736697\n",
      " 0.56822494 0.55561578 0.55812335 0.56175647 0.53337379 0.54104994\n",
      " 0.54672262 0.54852841 0.56729268 0.56755859 0.32329967 0.52301978\n",
      " 0.59024383 0.53591677 0.54428717 0.5486093  0.5575227  0.57175027\n",
      " 0.55493178 0.5637576  0.54950076 0.55310665 0.55435714 0.54822601\n",
      " 0.55381102 0.54766839 0.54319792 0.53370884 0.55243778 0.54213865\n",
      " 0.59142428 0.60930079 0.5414086  0.54697337 0.67852195 0.56491283\n",
      " 0.5614441  0.56309726 0.55677614 0.54154515 0.55141551 0.55961986\n",
      " 0.57493683 0.54353145 0.55128786 0.53735391 0.55700452 0.54923561\n",
      " 0.56708386 0.52960348 0.57709517 0.52082343 0.56814627 0.54589588\n",
      " 0.57360855 0.55448647 0.56344438 0.55890685 0.52489235 0.5429297\n",
      " 0.59865585 0.54995321 0.54269976 0.60991298 0.54080696 0.56804217\n",
      " 0.53904285 0.53967133 0.56312876 0.56415559 0.53934734 0.54326531\n",
      " 0.54841836 0.57934709 0.55376488 0.56123177 0.54215969 0.56186644\n",
      " 0.55016569 0.55699372 0.55167049 0.5404078  0.53481658 0.52945607\n",
      " 0.53988362 0.54427436 0.55809254 0.56482406 0.55950232 0.55032821\n",
      " 0.5083199  0.55410912 0.52638567 0.53083112 0.59579217 0.59141241\n",
      " 0.56342098 0.56051936 0.55360956 0.55240779 0.60502497 0.56825332\n",
      " 0.54722865 0.55610795 0.56449163 0.54712824 0.55869612 0.55731897\n",
      " 0.56131452 0.54558593 0.5522266  0.53736126 0.56845844 0.54412104\n",
      " 0.52799634 0.52836897 0.5660466  0.56304657 0.54612041 0.54755377\n",
      " 0.52748813 0.54592172 0.53180213 0.53086794 0.55260971 0.54937292\n",
      " 0.54256982 0.54953203 0.57709899 0.55407039 0.55455967 0.55164121\n",
      " 0.59618612 0.55481796 0.55057113 0.55296243 0.56292811 0.56960139\n",
      " 0.55523112 0.55467937 0.43987049 0.54907666 0.54557189 0.55219139\n",
      " 0.56595257 0.58246558 0.56708883 0.57852212 0.55911818 0.57510631\n",
      " 0.54403573 0.54496264 0.58137003 0.54173663 0.54701878 0.54878133\n",
      " 0.60102436 0.54732373 0.55467491 0.55706694 0.55912509 0.56793822\n",
      " 0.66012391 0.54651908 0.54933872 0.55066681 0.5316843  0.61713994\n",
      " 0.54899008 0.55281411 0.56759085 0.55430174 0.53461651 0.52219141\n",
      " 0.54432263 0.58868768 0.57838424 0.59269595 0.545644   0.57097769\n",
      " 0.56188597 0.59520083 0.54720752 0.58071884 0.56333748 0.54617544\n",
      " 0.53576185 0.56841858 0.5458761  0.57306481 0.54012223 0.54844835\n",
      " 0.52905607 0.56205489 0.54788545 0.58372807 0.57334235 0.59975368\n",
      " 0.55963409 0.571832   0.54755823 0.55480973 0.53126575 0.57456399\n",
      " 0.55880171 0.54026764 0.56896844 0.56280492 0.57742603 0.56986666\n",
      " 0.57629091 0.57674225 0.56189795 0.53233539 0.57208845 0.54844482\n",
      " 0.58498149 0.52436128 0.54524907 0.53879789 0.55953241 0.55086631\n",
      " 0.55322031 0.5390083  0.56381499 0.53653172 0.57237121 0.57320051\n",
      " 0.54217665 0.56450541 0.55841337 0.54068282 0.55871601 0.55498836\n",
      " 0.56696987 0.55853992 0.54546849 0.54939308 0.55462568 0.53298473\n",
      " 0.43604073 0.54366075 0.53955426 0.54498289 0.56445517 0.54518534\n",
      " 0.54249552 0.54416869 0.55223526 0.55431054 0.55918515 0.57803506\n",
      " 0.56695216 0.573754   0.5372911  0.51040128 0.55301234 0.5443859\n",
      " 0.56282878 0.56287043 0.57198443 0.54363994 0.54291531 0.55153576\n",
      " 0.54579241 0.56708415 0.53751555 0.54292068 0.5612139  0.54978032\n",
      " 0.48659558 0.46942826 0.55608897 0.54743289 0.54666404 0.54150411\n",
      " 0.54241653 0.55688313 0.5861697  0.56339162 0.55201216 0.54872952\n",
      " 0.54465772 0.5434994  0.56933218 0.53539045 0.55294941 0.45594128\n",
      " 0.49099434 0.56523192 0.56226271 0.5321762  0.55835646 0.5502728\n",
      " 0.54732294 0.49757029 0.56196907 0.56200543 0.58579573 0.55095647\n",
      " 0.56664694 0.57423881 0.55153988 0.58473719 0.55927098 0.54622267\n",
      " 0.55558124 0.54086836 0.55182738 0.55365275 0.54633775 0.57542553\n",
      " 0.5706188  0.52844711 0.49490068 0.56562816 0.54323191 0.54258565\n",
      " 0.55305743 0.55232394 0.57816768 0.57092764 0.54498237 0.54842277\n",
      " 0.54562434 0.52429038 0.54426749 0.5351236  0.53819965 0.547905\n",
      " 0.54515953 0.60147727 0.55786066 0.56377367 0.54825419 0.55466425\n",
      " 0.57212204 0.54635549 0.54326323 0.54458886 0.5394241  0.55905729\n",
      " 0.55790991 0.56451621 0.57891396 0.36947371 0.54579609 0.55858706\n",
      " 0.54962783 0.55347146 0.55272177 0.56610086 0.54692973 0.55741138\n",
      " 0.57418211 0.53209107 0.54130377 0.54534962 0.56751892 0.55163046\n",
      " 0.55472694 0.56560267 0.56164043 0.55768084 0.54159095 0.59690981\n",
      " 0.54632746 0.53304114 0.62457917 0.54700861 0.53550793 0.53469374\n",
      " 0.5311884  0.53271019 0.54808672 0.55202036 0.55930182 0.55965076\n",
      " 0.54525986 0.58533085 0.53276262 0.54333359 0.55894979 0.29328826\n",
      " 0.55336687 0.55500403 0.55705506 0.40712043 0.5397688  0.54670214\n",
      " 0.52758329 0.53264107 0.52601522 0.56834433 0.54611511 0.55508628\n",
      " 0.56255356 0.56320985 0.54727736 0.55187859 0.52832529 0.55958179\n",
      " 0.52808649 0.55631919 0.54013656 0.55645003 0.55720662 0.53309525\n",
      " 0.55430496 0.57943353 0.55534627 0.57663248 0.5566071  0.53885932\n",
      " 0.57747832 0.56058256 0.54412828 0.54951963 0.56284342 0.54466196\n",
      " 0.5610122  0.54976366 0.54756159 0.56571075 0.53273518 0.54897946\n",
      " 0.55986017 0.58444316 0.52878857 0.57184548 0.56425913 0.57775488\n",
      " 0.25207321 0.55554503 0.56269106 0.55247341 0.56240468 0.54834276\n",
      " 0.55151981 0.57009948 0.56465745 0.59825514 0.55830768 0.55512918\n",
      " 0.55633821 0.54840079 0.53913829 0.62780299 0.56259539 0.5409592\n",
      " 0.58850383 0.55669693 0.52040437 0.54608195 0.54798085 0.5416801\n",
      " 0.53569765 0.60901798 0.55138689 0.57069565 0.56454478 0.55307233\n",
      " 0.54221109 0.53164024 0.4916379  0.56459795 0.57181421 0.57946755\n",
      " 0.55030939 0.55254526 0.55504827 0.55692002 0.55051314 0.61898459\n",
      " 0.59221133 0.57895084 0.53374349 0.58281141 0.54367141 0.55826939\n",
      " 0.55275418 0.5477068  0.54517161 0.55364914 0.55859521 0.55421545\n",
      " 0.55412358 0.56118433 0.55815237 0.56523952 0.55398786 0.53283473\n",
      " 0.57024624 0.5489208  0.54942647 0.53240394 0.55141997 0.55329228\n",
      " 0.5302117  0.55498691 0.54829355 0.57291987 0.50377735 0.53871662\n",
      " 0.54641109 0.55619288 0.56108912 0.54833239 0.53758133 0.62141933\n",
      " 0.53606455 0.5421078  0.53399057 0.54550568 0.56868873 0.58336019\n",
      " 0.53815244 0.57644657 0.54613582 0.54622547 0.57558889 0.55017044\n",
      " 0.55371082 0.5494406  0.37401574 0.56962415 0.55851563 0.53852427\n",
      " 0.55390923 0.52388223 0.5614528  0.54984118 0.54339492 0.62198862\n",
      " 0.56018963 0.55976558 0.57435442 0.53921715 0.57358952 0.52089756\n",
      " 0.55626504 0.56017821 0.53572725 0.59491038 0.54301571 0.52675094\n",
      " 0.59333401 0.54042141 0.52646593 0.56471058 0.55676767 0.53812121\n",
      " 0.55043207 0.54009806 0.55033241 0.53205971 0.57486795 0.55272051\n",
      " 0.54944835 0.55470799 0.5561042  0.57327217 0.55464611 0.57390985\n",
      " 0.59095362 0.56859827 0.55433592 0.5752473  0.56668875 0.54507097\n",
      " 0.59359133 0.58009089 0.52612806 0.58680919 0.54984086 0.54099293\n",
      " 0.56548555 0.54192747 0.56319685 0.54980615 0.54944578 0.57315278\n",
      " 0.57483962 0.52273701 0.51938278 0.53522137 0.54165884 0.55834191\n",
      " 0.53949999 0.53216232 0.56811362 0.56629149 0.55926427 0.52438225\n",
      " 0.54259731 0.52480107 0.56431595 0.55373937 0.55811661 0.54875778\n",
      " 0.55247201 0.55646511 0.5499326  0.53129257 0.55406426 0.53935423\n",
      " 0.54802263 0.54758088 0.60934196 0.57684143 0.55515279 0.54677326\n",
      " 0.56345495 0.53035526 0.58499291 0.52815717 0.56555251 0.57434245\n",
      " 0.60746917 0.5578703  0.54745832 0.56684197 0.54961895 0.55491161\n",
      " 0.59477719 0.5482645  0.55494603 0.56385299 0.55101909 0.55432428\n",
      " 0.53991141 0.56873464 0.54438016 0.54648817 0.57044116 0.56144708\n",
      " 0.48357907 0.59507775 0.54170967 0.53544314 0.56670954 0.5389706\n",
      " 0.64923532 0.58543155 0.55077224 0.53624698 0.54702639 0.56601097\n",
      " 0.55010651 0.56618672 0.54565056 0.56484495 0.53035203 0.57345658\n",
      " 0.5815188  0.550936   0.55955557 0.54783913 0.54204459 0.55497673\n",
      " 0.5880492  0.55044518 0.60541342 0.55600758 0.59393852 0.51101058\n",
      " 0.53444004 0.53636248 0.53371572 0.57566275 0.571144   0.56577448\n",
      " 0.55205651 0.53530892 0.54928454 0.56972964 0.56111781 0.5472305\n",
      " 0.55368444 0.56578485 0.55288267 0.55501034 0.53668422 0.55440452\n",
      " 0.55667084 0.55192909 0.56936756 0.55292708 0.54417799 0.55278817\n",
      " 0.54954747 0.53502406 0.54227978 0.55497879 0.53149158 0.55876146\n",
      " 0.58249169 0.54114883 0.39503296 0.59975276 0.54662572 0.56353203\n",
      " 0.54579958 0.58041422 0.56513332 0.53876408 0.55567156 0.55400998\n",
      " 0.55001835 0.56024604 0.58575878 0.53020821 0.57108166 0.53675196\n",
      " 0.55829776 0.64025973 0.54378487 0.57276463 0.57074545 0.55071638\n",
      " 0.55042486 0.56666304 0.56367093 0.55513677 0.54549081 0.56528972\n",
      " 0.55359084 0.56133122 0.58759237 0.57579646 0.54233833 0.55602879\n",
      " 0.53265654 0.57066238 0.55450954 0.57179748 0.54956571 0.53877484\n",
      " 0.54565264 0.53738121 0.54149602 0.56461785 0.49059848 0.53389348\n",
      " 0.56006501 0.43279833 0.54843825 0.60226779 0.55961712 0.55077259\n",
      " 0.5434774  0.52987833 0.55019291 0.56332527 0.54757221 0.56176242\n",
      " 0.55923785 0.55359288 0.54145222 0.54457792 0.59798752 0.55570163\n",
      " 0.55582383 0.54600102 0.55978221 0.53984314 0.56321002 0.55002864\n",
      " 0.55155972 0.53947507 0.31289989 0.55341442 0.55547614 0.5525105\n",
      " 0.54068397 0.56206013 0.56607604 0.55567775 0.54011113 0.5542235\n",
      " 0.52554536 0.59470944 0.5621813  0.53319671 0.54298888 0.54560027]\n",
      "[t-SNE] Computing 151 nearest neighbors...\n",
      "[t-SNE] Indexed 960 samples in 0.001s...\n",
      "[t-SNE] Computed neighbors for 960 samples in 0.299s...\n",
      "[t-SNE] Computed conditional probabilities for sample 960 / 960\n",
      "[t-SNE] Mean sigma: 0.424364\n",
      "[t-SNE] KL divergence after 250 iterations with early exaggeration: 60.729622\n",
      "[t-SNE] KL divergence after 1000 iterations: 0.293270\n"
     ]
    }
   ],
   "source": [
    "completeSets = actualSets + standardSets\n",
    "print(\"completeSets: \", len(completeSets))\n",
    "route_matrix_with_standard = create_binary_matrix(completeSets)\n",
    "# binary matrix where each row represents merchandise\n",
    "merch_matrix_with_standard = np.array([s[2] for s in completeSets])\n",
    "\n",
    "# compute Jaccard similarity for each matrix\n",
    "route_similarity_with_standard = jaccard_similarity_matrix(route_matrix_with_standard)\n",
    "merch_similarity_with_standard = similarity_matrix_merch(merch_matrix_with_standard)\n",
    "completeSetsDistances = (route_similarity_with_standard + merch_similarity_with_standard) / 2\n",
    "completeSetsDistances = np.nan_to_num(completeSetsDistances, nan=0)\n",
    "completeSetsDistances = 1 - completeSetsDistances\n",
    "completeSetsDistances = np.array(completeSetsDistances)\n",
    "print(\"completeSetsDistances\", completeSetsDistances.shape, completeSetsDistances[0])\n",
    "\n",
    "perplexity = 50 if len(completeSetsDistances) > 50 else len(completeSetsDistances) - 1\n",
    "completeSetTSNE = TSNE(n_components=3, perplexity=perplexity, n_iter=1000, verbose=1).fit_transform(completeSetsDistances)"
   ]
  },
  {
   "cell_type": "code",
   "execution_count": null,
   "metadata": {},
   "outputs": [],
   "source": [
    "forward_expansion = len(dfActual) // len(uniqueDrivers)\n",
    "\n",
    "for distance in actualDistances:\n",
    "    actualDistance = np.array(distance)\n",
    "\n",
    "    hdb = HDBSCAN(min_cluster_size=2, max_cluster_size=forward_expansion*2, metric=\"precomputed\", store_centers=None,allow_single_cluster=False ).fit(actualDistance)\n",
    "\n",
    "    labels_HDBSCAN = hdb.labels_\n",
    "    unique_labels = np.unique(labels_HDBSCAN)\n",
    "\n",
    "    medoidsIndices = []\n",
    "    cluster_mean_distances = []\n",
    "    for cluster in unique_labels:\n",
    "        if cluster in [-1, -2, -3]:\n",
    "            continue\n",
    "        cluster_elements = np.where(labels_HDBSCAN == cluster)[0]\n",
    "        cluster_distances = actualSetsDistances[cluster_elements][:,cluster_elements]\n",
    "        cluster_distances_sum = np.sum(cluster_distances, axis=1)\n",
    "        cluster_distances_mean = np.mean(cluster_distances, axis=1)\n",
    "        cluster_mean_distances.append(np.min(cluster_distances_mean))\n",
    "        medoid = cluster_elements[np.argmin(cluster_distances_sum)]\n",
    "        medoidsIndices.append(medoid)\n",
    "    medoidsIndices = np.array(medoidsIndices)"
   ]
  },
  {
   "cell_type": "markdown",
   "metadata": {},
   "source": [
    "## 3D Visualization"
   ]
  },
  {
   "cell_type": "code",
   "execution_count": 29,
   "metadata": {},
   "outputs": [
    {
     "name": "stdout",
     "output_type": "stream",
     "text": [
      "medoidSets:  4\n",
      "argmax:  (4,) [18 15  5  5]\n",
      "unique_labels:  5 [-1  0  1  2  3]\n",
      "\n",
      "\u001b[94mMean distance from vectors of the same cluster to:\n",
      "         clustroids:  -31.6447681004572\n",
      "   standard vectors:  0.44954556734819534\n",
      "\n",
      "Std dev distance from vectors of the same cluster to:\n",
      "         clustroids:  18.365654282101783\n",
      "   standard vectors:  0.0916047813359171\n",
      "\n",
      "Coefficient of variation from vectors of the same cluster to:\n",
      "         clustroids:  -0.5803693749247744\n",
      "   standard vectors:  0.20377195992895789\n",
      "\u001b[0m\n",
      "\u001b[93mMean:\u001b[0m\n",
      "   Improvement: \u001b[92m7139.28% \u001b[0m\n",
      "\u001b[93m\n",
      "Std dev:\u001b[0m\n",
      "   Decline: \u001b[91m19948.79% \u001b[0m\n",
      "\u001b[93m\n",
      "Total\u001b[0m\n",
      "   Improvement: \u001b[92m384.81% \u001b[0m\n"
     ]
    }
   ],
   "source": [
    "# reorder the labels to have colors matching the cluster results, using medoids which are closer to the standard vectors\n",
    "medoidSets = [actualSets[i] for i in medoidsIndices]\n",
    "print(\"medoidSets: \", len(medoidSets))\n",
    "\n",
    "num_clusters_unique = unique_labels[unique_labels >= 0]\n",
    "#print(\"num_clusters_unique: \", len(num_clusters_unique), num_clusters_unique)\n",
    "\n",
    "assert len(medoidSets) == len(num_clusters_unique), \"The number of medoids is not equal to the number of unique labels\"   \n",
    "\n",
    "if len(medoidSets) == 0:\n",
    "    print(\"No clustroids found\")\n",
    "else:\n",
    "\n",
    "    route_matrix_standard, route_matrix_medoids = create_binary_matrices(standardSets, medoidSets)\n",
    "\n",
    "    simMatrixMixed = jaccard_similarity_two_matrices(route_matrix_medoids, route_matrix_standard)\n",
    "\n",
    "    CAN_BE_ORDERED = False\n",
    "    # get the closest standard vector for each medoid using simMatrixMixed\n",
    "\n",
    "    argmax = np.argmax(simMatrixMixed, axis=1) # get the index of the closest standard vector for each medoid\n",
    "    print(\"argmax: \", argmax.shape, argmax)\n",
    "\n",
    "    if len(set(argmax)) == len(medoidsIndices): # if the argmax are all different, then the medoids can be reordered\n",
    "        print(\"argmax is correct, can be reordered\")\n",
    "        CAN_BE_ORDERED = True\n",
    "\n",
    "        unique_labels_reordered = argmax   # 4, 2, 5, 10, ... -> 10, 4, 5, 2, ...\n",
    "\n",
    "\n",
    "    if not CAN_BE_ORDERED:\n",
    "\n",
    "        print(\"unique_labels: \", len(unique_labels), unique_labels)\n",
    "    else:\n",
    "        print(\"unique_labels_reordered: \", len(unique_labels_reordered), unique_labels_reordered)\n",
    "\n",
    "        \n",
    "    distancesClustroids = []\n",
    "    distancesStandardVectors = []\n",
    "    distancesStandardVectors2 = []\n",
    "\n",
    "    actualRefStandardIdsNumpy = np.array(actualRefStandardIds)\n",
    "    for i, stdID in enumerate(standardRefIds):\n",
    "        distStdCluster = completeSetsDistances[len(actualSets):, :len(actualSets)][i, np.where(actualRefStandardIdsNumpy == stdID)[0]]\n",
    "        #print(\"distStdCluster: \", np.mean(distStdCluster), len(distStdCluster), distStdCluster)\n",
    "        distancesStandardVectors.append(np.mean(distStdCluster))\n",
    "    \n",
    "    mean_distance_clustroids = np.mean(cluster_mean_distances)\n",
    "    std_dev_distance_clustroids = np.std(cluster_mean_distances)\n",
    "\n",
    "    mean_distance_standard_vectors = np.mean(distancesStandardVectors)\n",
    "    std_dev_distance_standard_vectors = np.std(distancesStandardVectors)\n",
    "\n",
    "    cv_clustroids = std_dev_distance_clustroids / mean_distance_clustroids\n",
    "    cv_standard_vectors = std_dev_distance_standard_vectors / mean_distance_standard_vectors\n",
    "    # print in green if the improvement is positive, in red if it is negative\n",
    "    print(\"\\n\\033[94mMean distance from vectors of the same cluster to:\")\n",
    "    print(\"         clustroids: \", mean_distance_clustroids)\n",
    "    #print(\"         first     : \", np.mean(distancesClustroids))\n",
    "    print(\"   standard vectors: \", mean_distance_standard_vectors)\n",
    "    #print(\"first                \", np.mean(distancesStandardVectors2))\n",
    "    \n",
    "\n",
    "    print(\"\\nStd dev distance from vectors of the same cluster to:\")\n",
    "    print(\"         clustroids: \", std_dev_distance_clustroids)\n",
    "    print(\"   standard vectors: \", std_dev_distance_standard_vectors)\n",
    "\n",
    "    print(\"\\nCoefficient of variation from vectors of the same cluster to:\")\n",
    "    print(\"         clustroids: \", cv_clustroids)\n",
    "    print(\"   standard vectors: \", cv_standard_vectors)\n",
    "    print(\"\\033[0m\")\n",
    "\n",
    "    #ratio = np.mean(distancesClustroids) / np.mean(distancesStandardVectors)\n",
    "    ratio = mean_distance_clustroids / mean_distance_standard_vectors\n",
    "    percentage = (1 - ratio) * 100\n",
    "\n",
    "    print(\"\\033[93mMean:\\033[0m\")\n",
    "    if percentage > 0:\n",
    "        # print in green if the improvement is positive, in red if it is negative\n",
    "        print(\"   Improvement: \\033[92m{:.2f}% \\033[0m\".format(percentage))\n",
    "    else:\n",
    "        print(\"   Decline: \\033[91m{:.2f}% \\033[0m\".format(-percentage))\n",
    "        \n",
    "    \n",
    "    ratio = std_dev_distance_clustroids / std_dev_distance_standard_vectors\n",
    "    percentage = (1 - ratio) * 100\n",
    "    print(\"\\033[93m\\nStd dev:\\033[0m\")\n",
    "    if percentage > 0:\n",
    "        # print in green if the improvement is positive, in red if it is negative\n",
    "        print(\"   Improvement: \\033[92m{:.2f}% \\033[0m\".format(percentage))\n",
    "    else:\n",
    "        print(\"   Decline: \\033[91m{:.2f}% \\033[0m\".format(-percentage))\n",
    "        \n",
    "    ratio = cv_clustroids / cv_standard_vectors\n",
    "    percentage = (1 - ratio) * 100\n",
    "    print(\"\\033[93m\\nTotal\\033[0m\")\n",
    "    if percentage > 0:\n",
    "        # print in green if the improvement is positive, in red if it is negative\n",
    "        print(\"   Improvement: \\033[92m{:.2f}% \\033[0m\".format(percentage))\n",
    "    else:\n",
    "        print(\"   Decline: \\033[91m{:.2f}% \\033[0m\".format(-percentage))"
   ]
  },
  {
   "cell_type": "code",
   "execution_count": 30,
   "metadata": {},
   "outputs": [
    {
     "data": {
      "application/vnd.plotly.v1+json": {
       "config": {
        "plotlyServerURL": "https://plot.ly"
       },
       "data": [
        {
         "marker": {
          "color": [
           [
            0,
            0,
            0.5,
            1
           ],
           [
            0,
            0,
            0.731729055258467,
            1
           ],
           [
            0,
            0,
            0.963458110516934,
            1
           ],
           [
            0,
            0.12745098039215685,
            1,
            1
           ],
           [
            0,
            0.3313725490196077,
            1,
            1
           ],
           [
            0,
            0.5509803921568628,
            1,
            1
           ],
           [
            0,
            0.7549019607843137,
            1,
            1
           ],
           [
            0.06008855154965211,
            0.9745098039215686,
            0.9076533839342189,
            1
           ],
           [
            0.2245414294750158,
            1,
            0.7432005060088551,
            1
           ],
           [
            0.4016445287792536,
            1,
            0.5660974067046174,
            1
           ],
           [
            0.5660974067046173,
            1,
            0.4016445287792536,
            1
           ],
           [
            0.7432005060088547,
            1,
            0.2245414294750162,
            1
           ],
           [
            0.9076533839342187,
            1,
            0.06008855154965209,
            1
           ],
           [
            1,
            0.8286129266521426,
            0,
            1
           ],
           [
            1,
            0.6397966594045028,
            0,
            1
           ],
           [
            1,
            0.4364560639070445,
            0,
            1
           ],
           [
            1,
            0.24763979665940472,
            0,
            1
           ],
           [
            0.9634581105169343,
            0.04429920116194641,
            0,
            1
           ],
           [
            0.7317290552584672,
            0,
            0,
            1
           ],
           [
            0.5,
            0,
            0,
            1
           ]
          ],
          "opacity": 1,
          "size": 7,
          "symbol": "diamond"
         },
         "mode": "markers",
         "type": "scatter3d",
         "x": [
          4.809870719909668,
          -4.654185771942139,
          -13.08191204071045,
          6.767907619476318,
          0.815526008605957,
          8.044559478759766,
          2.6906492710113525,
          -4.843853950500488,
          -1.2248817682266235,
          -3.284759044647217,
          1.3882966041564941,
          9.721416473388672,
          -5.832448959350586,
          -10.411683082580566,
          -2.22098708152771,
          12.654084205627441,
          -0.7978153824806213,
          4.782295227050781,
          -1.1177326440811157,
          -6.861637115478516
         ],
         "y": [
          -11.353550910949707,
          -0.7048941850662231,
          1.0543628931045532,
          -3.9496307373046875,
          1.7497549057006836,
          -0.4303503632545471,
          4.758030891418457,
          7.852334022521973,
          7.591526985168457,
          -11.858458518981934,
          -5.94191837310791,
          2.089768409729004,
          6.148001194000244,
          -8.979351043701172,
          0.8484675288200378,
          -7.22594690322876,
          13.351495742797852,
          8.005168914794922,
          -6.652108192443848,
          -1.148229718208313
         ],
         "z": [
          -0.06925393640995026,
          8.583739280700684,
          0.6606652736663818,
          4.948446750640869,
          -2.8210484981536865,
          -6.072688102722168,
          6.263629913330078,
          -6.592162609100342,
          12.18233585357666,
          -4.7403364181518555,
          -3.6609017848968506,
          1.9238789081573486,
          3.6266844272613525,
          4.82423210144043,
          -11.493902206420898,
          -1.6395494937896729,
          1.341965675354004,
          -1.9242281913757324,
          5.1628336906433105,
          -3.1764328479766846
         ]
        },
        {
         "marker": {
          "color": [
           [
            0,
            0,
            0,
            1
           ],
           [
            0,
            0,
            0,
            1
           ],
           [
            0,
            0,
            0.963458110516934,
            1
           ],
           [
            0,
            0,
            0.5,
            1
           ],
           [
            0,
            0,
            0.5,
            1
           ],
           [
            0,
            0,
            0,
            1
           ],
           [
            0,
            0,
            0,
            1
           ],
           [
            0,
            0,
            0,
            1
           ],
           [
            0,
            0,
            0,
            1
           ],
           [
            0,
            0,
            0,
            1
           ],
           [
            0,
            0,
            0,
            1
           ],
           [
            0,
            0,
            0,
            1
           ],
           [
            0,
            0,
            0,
            1
           ],
           [
            0,
            0,
            0,
            1
           ],
           [
            0,
            0,
            0,
            1
           ],
           [
            0,
            0,
            0,
            1
           ],
           [
            0,
            0,
            0,
            1
           ],
           [
            0,
            0,
            0,
            1
           ],
           [
            0,
            0,
            0,
            1
           ],
           [
            0,
            0,
            0,
            1
           ],
           [
            0,
            0,
            0,
            1
           ],
           [
            0,
            0,
            0,
            1
           ],
           [
            0,
            0,
            0,
            1
           ],
           [
            0,
            0,
            0,
            1
           ],
           [
            0,
            0,
            0,
            1
           ],
           [
            0,
            0,
            0,
            1
           ],
           [
            0,
            0,
            0,
            1
           ],
           [
            0,
            0,
            0,
            1
           ],
           [
            0,
            0,
            0,
            1
           ],
           [
            0,
            0,
            0,
            1
           ],
           [
            0,
            0,
            0,
            1
           ],
           [
            0,
            0,
            0,
            1
           ],
           [
            0,
            0,
            0,
            1
           ],
           [
            0,
            0,
            0,
            1
           ],
           [
            0,
            0,
            0,
            1
           ],
           [
            0,
            0,
            0,
            1
           ],
           [
            0,
            0,
            0,
            1
           ],
           [
            0,
            0,
            0,
            1
           ],
           [
            0,
            0,
            0,
            1
           ],
           [
            0,
            0,
            0,
            1
           ],
           [
            0,
            0,
            0,
            1
           ],
           [
            0,
            0,
            0,
            1
           ],
           [
            0,
            0,
            0,
            1
           ],
           [
            0,
            0,
            0,
            1
           ],
           [
            0,
            0,
            0,
            1
           ],
           [
            0,
            0,
            0,
            1
           ],
           [
            0,
            0,
            0,
            1
           ],
           [
            0,
            0,
            0,
            1
           ],
           [
            0,
            0,
            0,
            1
           ],
           [
            0,
            0,
            0,
            1
           ],
           [
            0,
            0,
            0,
            1
           ],
           [
            0,
            0,
            0,
            1
           ],
           [
            0,
            0,
            0,
            1
           ],
           [
            0,
            0,
            0,
            1
           ],
           [
            0,
            0,
            0,
            1
           ],
           [
            0,
            0,
            0,
            1
           ],
           [
            0,
            0,
            0,
            1
           ],
           [
            0,
            0,
            0,
            1
           ],
           [
            0,
            0,
            0,
            1
           ],
           [
            0,
            0,
            0,
            1
           ],
           [
            0,
            0,
            0,
            1
           ],
           [
            0,
            0,
            0,
            1
           ],
           [
            0,
            0,
            0,
            1
           ],
           [
            0,
            0,
            0,
            1
           ],
           [
            0,
            0,
            0,
            1
           ],
           [
            0,
            0,
            0,
            1
           ],
           [
            0,
            0,
            0,
            1
           ],
           [
            0,
            0,
            0,
            1
           ],
           [
            0,
            0,
            0,
            1
           ],
           [
            0,
            0,
            0,
            1
           ],
           [
            0,
            0,
            0,
            1
           ],
           [
            0,
            0,
            0,
            1
           ],
           [
            0,
            0,
            0,
            1
           ],
           [
            0,
            0,
            0,
            1
           ],
           [
            0,
            0,
            0,
            1
           ],
           [
            0,
            0,
            0,
            1
           ],
           [
            0,
            0,
            0,
            1
           ],
           [
            0,
            0,
            0,
            1
           ],
           [
            0,
            0,
            0,
            1
           ],
           [
            0,
            0,
            0,
            1
           ],
           [
            0,
            0,
            0.963458110516934,
            1
           ],
           [
            0,
            0,
            0,
            1
           ],
           [
            0,
            0,
            0,
            1
           ],
           [
            0,
            0,
            0,
            1
           ],
           [
            0,
            0,
            0,
            1
           ],
           [
            0,
            0,
            0,
            1
           ],
           [
            0,
            0,
            0,
            1
           ],
           [
            0,
            0,
            0,
            1
           ],
           [
            0,
            0,
            0,
            1
           ],
           [
            0,
            0,
            0,
            1
           ],
           [
            0,
            0,
            0,
            1
           ],
           [
            0,
            0,
            0,
            1
           ],
           [
            0,
            0,
            0,
            1
           ],
           [
            0,
            0,
            0,
            1
           ],
           [
            0,
            0,
            0,
            1
           ],
           [
            0,
            0,
            0,
            1
           ],
           [
            0,
            0,
            0,
            1
           ],
           [
            0,
            0,
            0,
            1
           ],
           [
            0,
            0,
            0,
            1
           ],
           [
            0,
            0,
            0.963458110516934,
            1
           ],
           [
            0,
            0,
            0,
            1
           ],
           [
            0,
            0,
            0,
            1
           ],
           [
            0,
            0,
            0,
            1
           ],
           [
            0,
            0,
            0,
            1
           ],
           [
            0,
            0,
            0,
            1
           ],
           [
            0,
            0,
            0,
            1
           ],
           [
            0,
            0,
            0,
            1
           ],
           [
            0,
            0,
            0,
            1
           ],
           [
            0,
            0,
            0,
            1
           ],
           [
            0,
            0,
            0,
            1
           ],
           [
            0,
            0,
            0,
            1
           ],
           [
            0,
            0,
            0,
            1
           ],
           [
            0,
            0,
            0.963458110516934,
            1
           ],
           [
            0,
            0,
            0,
            1
           ],
           [
            0,
            0,
            0,
            1
           ],
           [
            0,
            0,
            0,
            1
           ],
           [
            0,
            0,
            0,
            1
           ],
           [
            0,
            0,
            0,
            1
           ],
           [
            0,
            0,
            0,
            1
           ],
           [
            0,
            0,
            0,
            1
           ],
           [
            0,
            0,
            0,
            1
           ],
           [
            0,
            0,
            0,
            1
           ],
           [
            0,
            0,
            0,
            1
           ],
           [
            0,
            0,
            0,
            1
           ],
           [
            0,
            0,
            0.963458110516934,
            1
           ],
           [
            0,
            0,
            0,
            1
           ],
           [
            0,
            0,
            0,
            1
           ],
           [
            0,
            0,
            0,
            1
           ],
           [
            0,
            0,
            0,
            1
           ],
           [
            0,
            0,
            0,
            1
           ],
           [
            0,
            0,
            0,
            1
           ],
           [
            0,
            0,
            0,
            1
           ],
           [
            0,
            0,
            0,
            1
           ],
           [
            0,
            0,
            0,
            1
           ],
           [
            0,
            0,
            0,
            1
           ],
           [
            0,
            0,
            0,
            1
           ],
           [
            0,
            0,
            0,
            1
           ],
           [
            0,
            0,
            0,
            1
           ],
           [
            0,
            0,
            0,
            1
           ],
           [
            0,
            0,
            0,
            1
           ],
           [
            0,
            0,
            0,
            1
           ],
           [
            0,
            0,
            0,
            1
           ],
           [
            0,
            0,
            0,
            1
           ],
           [
            0,
            0,
            0,
            1
           ],
           [
            0,
            0,
            0,
            1
           ],
           [
            0,
            0,
            0,
            1
           ],
           [
            0,
            0,
            0,
            1
           ],
           [
            0,
            0,
            0,
            1
           ],
           [
            0,
            0,
            0,
            1
           ],
           [
            0,
            0,
            0,
            1
           ],
           [
            0,
            0,
            0,
            1
           ],
           [
            0,
            0,
            0,
            1
           ],
           [
            0,
            0,
            0,
            1
           ],
           [
            0,
            0,
            0,
            1
           ],
           [
            0,
            0,
            0,
            1
           ],
           [
            0,
            0,
            0,
            1
           ],
           [
            0,
            0,
            0,
            1
           ],
           [
            0,
            0,
            0,
            1
           ],
           [
            0,
            0,
            0,
            1
           ],
           [
            0,
            0,
            0,
            1
           ],
           [
            0,
            0,
            0,
            1
           ],
           [
            0,
            0,
            0,
            1
           ],
           [
            0,
            0,
            0,
            1
           ],
           [
            0,
            0,
            0,
            1
           ],
           [
            0,
            0,
            0,
            1
           ],
           [
            0,
            0,
            0,
            1
           ],
           [
            0,
            0,
            0,
            1
           ],
           [
            0,
            0,
            0,
            1
           ],
           [
            0,
            0,
            0,
            1
           ],
           [
            0,
            0,
            0,
            1
           ],
           [
            0,
            0,
            0,
            1
           ],
           [
            0,
            0,
            0,
            1
           ],
           [
            0,
            0,
            0,
            1
           ],
           [
            0,
            0,
            0,
            1
           ],
           [
            0,
            0,
            0,
            1
           ],
           [
            0,
            0,
            0,
            1
           ],
           [
            0,
            0,
            0,
            1
           ],
           [
            0,
            0,
            0,
            1
           ],
           [
            0,
            0,
            0,
            1
           ],
           [
            0,
            0,
            0,
            1
           ],
           [
            0,
            0,
            0,
            1
           ],
           [
            0,
            0,
            0,
            1
           ],
           [
            0,
            0,
            0,
            1
           ],
           [
            0,
            0,
            0,
            1
           ],
           [
            0,
            0,
            0,
            1
           ],
           [
            0,
            0,
            0,
            1
           ],
           [
            0,
            0,
            0,
            1
           ],
           [
            0,
            0,
            0,
            1
           ],
           [
            0,
            0,
            0,
            1
           ],
           [
            0,
            0,
            0,
            1
           ],
           [
            0,
            0,
            0,
            1
           ],
           [
            0,
            0,
            0,
            1
           ],
           [
            0,
            0,
            0,
            1
           ],
           [
            0,
            0,
            0,
            1
           ],
           [
            0,
            0,
            0,
            1
           ],
           [
            0,
            0,
            0,
            1
           ],
           [
            0,
            0,
            0,
            1
           ],
           [
            0,
            0,
            0,
            1
           ],
           [
            0,
            0,
            0,
            1
           ],
           [
            0,
            0,
            0,
            1
           ],
           [
            0,
            0,
            0,
            1
           ],
           [
            0,
            0,
            0,
            1
           ],
           [
            0,
            0,
            0,
            1
           ],
           [
            0,
            0,
            0,
            1
           ],
           [
            0,
            0,
            0,
            1
           ],
           [
            0,
            0,
            0,
            1
           ],
           [
            0,
            0,
            0,
            1
           ],
           [
            0,
            0,
            0,
            1
           ],
           [
            0,
            0,
            0,
            1
           ],
           [
            0,
            0,
            0,
            1
           ],
           [
            0,
            0,
            0,
            1
           ],
           [
            0,
            0,
            0,
            1
           ],
           [
            0,
            0,
            0,
            1
           ],
           [
            0,
            0,
            0,
            1
           ],
           [
            0,
            0,
            0,
            1
           ],
           [
            0,
            0,
            0,
            1
           ],
           [
            0,
            0,
            0,
            1
           ],
           [
            0,
            0,
            0,
            1
           ],
           [
            0,
            0,
            0,
            1
           ],
           [
            0,
            0,
            0,
            1
           ],
           [
            0,
            0,
            0,
            1
           ],
           [
            0,
            0,
            0,
            1
           ],
           [
            0,
            0,
            0,
            1
           ],
           [
            0,
            0,
            0,
            1
           ],
           [
            0,
            0,
            0,
            1
           ],
           [
            0,
            0,
            0.963458110516934,
            1
           ],
           [
            0,
            0,
            0,
            1
           ],
           [
            0,
            0,
            0,
            1
           ],
           [
            0,
            0,
            0,
            1
           ],
           [
            0,
            0,
            0,
            1
           ],
           [
            0,
            0,
            0,
            1
           ],
           [
            0,
            0,
            0,
            1
           ],
           [
            0,
            0,
            0,
            1
           ],
           [
            0,
            0,
            0,
            1
           ],
           [
            0,
            0,
            0,
            1
           ],
           [
            0,
            0,
            0,
            1
           ],
           [
            0,
            0,
            0,
            1
           ],
           [
            0,
            0,
            0,
            1
           ],
           [
            0,
            0,
            0,
            1
           ],
           [
            0,
            0,
            0,
            1
           ],
           [
            0,
            0,
            0,
            1
           ],
           [
            0,
            0,
            0,
            1
           ],
           [
            0,
            0,
            0,
            1
           ],
           [
            0,
            0,
            0,
            1
           ],
           [
            0,
            0,
            0,
            1
           ],
           [
            0,
            0,
            0,
            1
           ],
           [
            0,
            0,
            0,
            1
           ],
           [
            0,
            0,
            0,
            1
           ],
           [
            0,
            0,
            0,
            1
           ],
           [
            0,
            0,
            0,
            1
           ],
           [
            0,
            0,
            0,
            1
           ],
           [
            0,
            0,
            0,
            1
           ],
           [
            0,
            0,
            0,
            1
           ],
           [
            0,
            0,
            0,
            1
           ],
           [
            0,
            0,
            0,
            1
           ],
           [
            0,
            0,
            0,
            1
           ],
           [
            0,
            0,
            0,
            1
           ],
           [
            0,
            0,
            0,
            1
           ],
           [
            0,
            0,
            0,
            1
           ],
           [
            0,
            0,
            0,
            1
           ],
           [
            0,
            0,
            0,
            1
           ],
           [
            0,
            0,
            0,
            1
           ],
           [
            0,
            0,
            0,
            1
           ],
           [
            0,
            0,
            0,
            1
           ],
           [
            0,
            0,
            0,
            1
           ],
           [
            0,
            0,
            0,
            1
           ],
           [
            0,
            0,
            0,
            1
           ],
           [
            0,
            0,
            0,
            1
           ],
           [
            0,
            0,
            0,
            1
           ],
           [
            0,
            0,
            0,
            1
           ],
           [
            0,
            0,
            0,
            1
           ],
           [
            0,
            0,
            0,
            1
           ],
           [
            0,
            0,
            0,
            1
           ],
           [
            0,
            0,
            0,
            1
           ],
           [
            0,
            0,
            0,
            1
           ],
           [
            0,
            0,
            0,
            1
           ],
           [
            0,
            0,
            0,
            1
           ],
           [
            0,
            0,
            0,
            1
           ],
           [
            0,
            0,
            0,
            1
           ],
           [
            0,
            0,
            0,
            1
           ],
           [
            0,
            0,
            0,
            1
           ],
           [
            0,
            0,
            0,
            1
           ],
           [
            0,
            0,
            0,
            1
           ],
           [
            0,
            0,
            0,
            1
           ],
           [
            0,
            0,
            0,
            1
           ],
           [
            0,
            0,
            0,
            1
           ],
           [
            0,
            0,
            0,
            1
           ],
           [
            0,
            0,
            0,
            1
           ],
           [
            0,
            0,
            0,
            1
           ],
           [
            0,
            0,
            0,
            1
           ],
           [
            0,
            0,
            0,
            1
           ],
           [
            0,
            0,
            0,
            1
           ],
           [
            0,
            0,
            0,
            1
           ],
           [
            0,
            0,
            0,
            1
           ],
           [
            0,
            0,
            0.963458110516934,
            1
           ],
           [
            0,
            0,
            0,
            1
           ],
           [
            0,
            0,
            0,
            1
           ],
           [
            0,
            0,
            0,
            1
           ],
           [
            0,
            0,
            0,
            1
           ],
           [
            0,
            0,
            0,
            1
           ],
           [
            0,
            0,
            0,
            1
           ],
           [
            0,
            0,
            0.963458110516934,
            1
           ],
           [
            0,
            0,
            0,
            1
           ],
           [
            0,
            0,
            0,
            1
           ],
           [
            0,
            0,
            0,
            1
           ],
           [
            0,
            0,
            0,
            1
           ],
           [
            0,
            0,
            0,
            1
           ],
           [
            0,
            0,
            0,
            1
           ],
           [
            0,
            0,
            0,
            1
           ],
           [
            0,
            0,
            0,
            1
           ],
           [
            0,
            0,
            0,
            1
           ],
           [
            0,
            0,
            0,
            1
           ],
           [
            0,
            0,
            0,
            1
           ],
           [
            0,
            0,
            0,
            1
           ],
           [
            0,
            0,
            0,
            1
           ],
           [
            0,
            0,
            0,
            1
           ],
           [
            0,
            0,
            0,
            1
           ],
           [
            0,
            0,
            0,
            1
           ],
           [
            0,
            0,
            0,
            1
           ],
           [
            0,
            0,
            0,
            1
           ],
           [
            0,
            0,
            0,
            1
           ],
           [
            0,
            0,
            0,
            1
           ],
           [
            0,
            0,
            0,
            1
           ],
           [
            0,
            0,
            0,
            1
           ],
           [
            0,
            0,
            0,
            1
           ],
           [
            0,
            0,
            0,
            1
           ],
           [
            0,
            0,
            0,
            1
           ],
           [
            0,
            0,
            0,
            1
           ],
           [
            0,
            0,
            0,
            1
           ],
           [
            0,
            0,
            0,
            1
           ],
           [
            0,
            0,
            0,
            1
           ],
           [
            0,
            0,
            0,
            1
           ],
           [
            0,
            0,
            0,
            1
           ],
           [
            0,
            0,
            0,
            1
           ],
           [
            0,
            0,
            0,
            1
           ],
           [
            0,
            0,
            0,
            1
           ],
           [
            0,
            0,
            0,
            1
           ],
           [
            0,
            0,
            0,
            1
           ],
           [
            0,
            0,
            0,
            1
           ],
           [
            0,
            0,
            0,
            1
           ],
           [
            0,
            0,
            0,
            1
           ],
           [
            0,
            0,
            0,
            1
           ],
           [
            0,
            0,
            0,
            1
           ],
           [
            0,
            0,
            0,
            1
           ],
           [
            0,
            0,
            0,
            1
           ],
           [
            0,
            0,
            0,
            1
           ],
           [
            0,
            0,
            0,
            1
           ],
           [
            0,
            0,
            0,
            1
           ],
           [
            0,
            0,
            0,
            1
           ],
           [
            0,
            0,
            0,
            1
           ],
           [
            0,
            0,
            0,
            1
           ],
           [
            0,
            0,
            0,
            1
           ],
           [
            0,
            0,
            0.963458110516934,
            1
           ],
           [
            0,
            0,
            0,
            1
           ],
           [
            0,
            0,
            0,
            1
           ],
           [
            0,
            0,
            0.963458110516934,
            1
           ],
           [
            0,
            0,
            0,
            1
           ],
           [
            0,
            0,
            0,
            1
           ],
           [
            0,
            0,
            0,
            1
           ],
           [
            0,
            0,
            0,
            1
           ],
           [
            0,
            0,
            0,
            1
           ],
           [
            0,
            0,
            0,
            1
           ],
           [
            0,
            0,
            0,
            1
           ],
           [
            0,
            0,
            0,
            1
           ],
           [
            0,
            0,
            0,
            1
           ],
           [
            0,
            0,
            0,
            1
           ],
           [
            0,
            0,
            0,
            1
           ],
           [
            0,
            0,
            0,
            1
           ],
           [
            0,
            0,
            0,
            1
           ],
           [
            0,
            0,
            0,
            1
           ],
           [
            0,
            0,
            0,
            1
           ],
           [
            0,
            0,
            0,
            1
           ],
           [
            0,
            0,
            0,
            1
           ],
           [
            0,
            0,
            0,
            1
           ],
           [
            0,
            0,
            0,
            1
           ],
           [
            0,
            0,
            0.963458110516934,
            1
           ],
           [
            0,
            0,
            0,
            1
           ],
           [
            0,
            0,
            0,
            1
           ],
           [
            0,
            0,
            0,
            1
           ],
           [
            0,
            0,
            0,
            1
           ],
           [
            0,
            0,
            0,
            1
           ],
           [
            0,
            0,
            0,
            1
           ],
           [
            0,
            0,
            0,
            1
           ],
           [
            0,
            0,
            0,
            1
           ],
           [
            0,
            0,
            0,
            1
           ],
           [
            0,
            0,
            0,
            1
           ],
           [
            0,
            0,
            0,
            1
           ],
           [
            0,
            0,
            0,
            1
           ],
           [
            0,
            0,
            0,
            1
           ],
           [
            0,
            0,
            0,
            1
           ],
           [
            0,
            0,
            0,
            1
           ],
           [
            0,
            0,
            0,
            1
           ],
           [
            0,
            0,
            0,
            1
           ],
           [
            0,
            0,
            0,
            1
           ],
           [
            0,
            0,
            0,
            1
           ],
           [
            0,
            0,
            0,
            1
           ],
           [
            0,
            0,
            0,
            1
           ],
           [
            0,
            0,
            0,
            1
           ],
           [
            0,
            0,
            0,
            1
           ],
           [
            0,
            0,
            0,
            1
           ],
           [
            0,
            0,
            0,
            1
           ],
           [
            0,
            0,
            0,
            1
           ],
           [
            0,
            0,
            0,
            1
           ],
           [
            0,
            0,
            0,
            1
           ],
           [
            0,
            0,
            0,
            1
           ],
           [
            0,
            0,
            0,
            1
           ],
           [
            0,
            0,
            0,
            1
           ],
           [
            0,
            0,
            0,
            1
           ],
           [
            0,
            0,
            0,
            1
           ],
           [
            0,
            0,
            0,
            1
           ],
           [
            0,
            0,
            0,
            1
           ],
           [
            0,
            0,
            0,
            1
           ],
           [
            0,
            0,
            0,
            1
           ],
           [
            0,
            0,
            0,
            1
           ],
           [
            0,
            0,
            0,
            1
           ],
           [
            0,
            0,
            0,
            1
           ],
           [
            0,
            0,
            0,
            1
           ],
           [
            0,
            0,
            0,
            1
           ],
           [
            0,
            0,
            0,
            1
           ],
           [
            0,
            0,
            0,
            1
           ],
           [
            0,
            0,
            0,
            1
           ],
           [
            0,
            0,
            0,
            1
           ],
           [
            0,
            0,
            0,
            1
           ],
           [
            0,
            0,
            0,
            1
           ],
           [
            0,
            0,
            0,
            1
           ],
           [
            0,
            0,
            0,
            1
           ],
           [
            0,
            0,
            0,
            1
           ],
           [
            0,
            0,
            0,
            1
           ],
           [
            0,
            0,
            0,
            1
           ],
           [
            0,
            0,
            0,
            1
           ],
           [
            0,
            0,
            0,
            1
           ],
           [
            0,
            0,
            0,
            1
           ],
           [
            0,
            0,
            0,
            1
           ],
           [
            0,
            0,
            0,
            1
           ],
           [
            0,
            0,
            0,
            1
           ],
           [
            0,
            0,
            0,
            1
           ],
           [
            0,
            0,
            0,
            1
           ],
           [
            0,
            0,
            0,
            1
           ],
           [
            0,
            0,
            0,
            1
           ],
           [
            0,
            0,
            0,
            1
           ],
           [
            0,
            0,
            0,
            1
           ],
           [
            0,
            0,
            0,
            1
           ],
           [
            0,
            0,
            0,
            1
           ],
           [
            0,
            0,
            0,
            1
           ],
           [
            0,
            0,
            0,
            1
           ],
           [
            0,
            0,
            0,
            1
           ],
           [
            0,
            0,
            0,
            1
           ],
           [
            0,
            0,
            0,
            1
           ],
           [
            0,
            0,
            0,
            1
           ],
           [
            0,
            0,
            0,
            1
           ],
           [
            0,
            0,
            0,
            1
           ],
           [
            0,
            0,
            0,
            1
           ],
           [
            0,
            0,
            0,
            1
           ],
           [
            0,
            0,
            0,
            1
           ],
           [
            0,
            0,
            0,
            1
           ],
           [
            0,
            0,
            0,
            1
           ],
           [
            0,
            0,
            0.963458110516934,
            1
           ],
           [
            0,
            0,
            0,
            1
           ],
           [
            0,
            0,
            0,
            1
           ],
           [
            0,
            0,
            0,
            1
           ],
           [
            0,
            0,
            0,
            1
           ],
           [
            0,
            0,
            0,
            1
           ],
           [
            0,
            0,
            0,
            1
           ],
           [
            0,
            0,
            0,
            1
           ],
           [
            0,
            0,
            0,
            1
           ],
           [
            0,
            0,
            0.963458110516934,
            1
           ],
           [
            0,
            0,
            0,
            1
           ],
           [
            0,
            0,
            0,
            1
           ],
           [
            0,
            0,
            0,
            1
           ],
           [
            0,
            0,
            0,
            1
           ],
           [
            0,
            0,
            0,
            1
           ],
           [
            0,
            0,
            0,
            1
           ],
           [
            0,
            0,
            0,
            1
           ],
           [
            0,
            0,
            0,
            1
           ],
           [
            0,
            0,
            0,
            1
           ],
           [
            0,
            0,
            0,
            1
           ],
           [
            0,
            0,
            0,
            1
           ],
           [
            0,
            0,
            0,
            1
           ],
           [
            0,
            0,
            0,
            1
           ],
           [
            0,
            0,
            0,
            1
           ],
           [
            0,
            0,
            0,
            1
           ],
           [
            0,
            0,
            0,
            1
           ],
           [
            0,
            0,
            0,
            1
           ],
           [
            0,
            0,
            0,
            1
           ],
           [
            0,
            0,
            0,
            1
           ],
           [
            0,
            0,
            0,
            1
           ],
           [
            0,
            0,
            0,
            1
           ],
           [
            0,
            0,
            0,
            1
           ],
           [
            0,
            0,
            0,
            1
           ],
           [
            0,
            0,
            0,
            1
           ],
           [
            0,
            0,
            0,
            1
           ],
           [
            0,
            0,
            0,
            1
           ],
           [
            0,
            0,
            0,
            1
           ],
           [
            0,
            0,
            0,
            1
           ],
           [
            0,
            0,
            0,
            1
           ],
           [
            0,
            0,
            0,
            1
           ],
           [
            0,
            0,
            0,
            1
           ],
           [
            0,
            0,
            0,
            1
           ],
           [
            0,
            0,
            0,
            1
           ],
           [
            0,
            0,
            0,
            1
           ],
           [
            0,
            0,
            0,
            1
           ],
           [
            0,
            0,
            0,
            1
           ],
           [
            0,
            0,
            0,
            1
           ],
           [
            0,
            0,
            0,
            1
           ],
           [
            0,
            0,
            0.963458110516934,
            1
           ],
           [
            0,
            0,
            0,
            1
           ],
           [
            0,
            0,
            0,
            1
           ],
           [
            0,
            0,
            0,
            1
           ],
           [
            0,
            0,
            0,
            1
           ],
           [
            0,
            0,
            0,
            1
           ],
           [
            0,
            0,
            0,
            1
           ],
           [
            0,
            0,
            0,
            1
           ],
           [
            0,
            0,
            0,
            1
           ],
           [
            0,
            0,
            0,
            1
           ],
           [
            0,
            0,
            0,
            1
           ],
           [
            0,
            0,
            0,
            1
           ],
           [
            0,
            0,
            0,
            1
           ],
           [
            0,
            0,
            0,
            1
           ],
           [
            0,
            0,
            0,
            1
           ],
           [
            0,
            0,
            0,
            1
           ],
           [
            0,
            0,
            0,
            1
           ],
           [
            0,
            0,
            0,
            1
           ],
           [
            0,
            0,
            0,
            1
           ],
           [
            0,
            0,
            0,
            1
           ],
           [
            0,
            0,
            0,
            1
           ],
           [
            0,
            0,
            0,
            1
           ],
           [
            0,
            0,
            0,
            1
           ],
           [
            0,
            0,
            0,
            1
           ],
           [
            0,
            0,
            0,
            1
           ],
           [
            0,
            0,
            0,
            1
           ],
           [
            0,
            0,
            0,
            1
           ],
           [
            0,
            0,
            0,
            1
           ],
           [
            0,
            0,
            0,
            1
           ],
           [
            0,
            0,
            0,
            1
           ],
           [
            0,
            0,
            0,
            1
           ],
           [
            0,
            0,
            0,
            1
           ],
           [
            0,
            0,
            0,
            1
           ],
           [
            0,
            0,
            0,
            1
           ],
           [
            0,
            0,
            0,
            1
           ],
           [
            0,
            0,
            0,
            1
           ],
           [
            0,
            0,
            0,
            1
           ],
           [
            0,
            0,
            0,
            1
           ],
           [
            0,
            0,
            0,
            1
           ],
           [
            0,
            0,
            0,
            1
           ],
           [
            0,
            0,
            0,
            1
           ],
           [
            0,
            0,
            0,
            1
           ],
           [
            0,
            0,
            0,
            1
           ],
           [
            0,
            0,
            0,
            1
           ],
           [
            0,
            0,
            0,
            1
           ],
           [
            0,
            0,
            0,
            1
           ],
           [
            0,
            0,
            0,
            1
           ],
           [
            0,
            0,
            0,
            1
           ],
           [
            0,
            0,
            0,
            1
           ],
           [
            0,
            0,
            0,
            1
           ],
           [
            0,
            0,
            0,
            1
           ],
           [
            0,
            0,
            0,
            1
           ],
           [
            0,
            0,
            0,
            1
           ],
           [
            0,
            0,
            0,
            1
           ],
           [
            0,
            0,
            0,
            1
           ],
           [
            0,
            0,
            0,
            1
           ],
           [
            0,
            0,
            0,
            1
           ],
           [
            0,
            0,
            0,
            1
           ],
           [
            0,
            0,
            0,
            1
           ],
           [
            0,
            0,
            0,
            1
           ],
           [
            0,
            0,
            0,
            1
           ],
           [
            0,
            0,
            0,
            1
           ],
           [
            0,
            0,
            0,
            1
           ],
           [
            0,
            0,
            0,
            1
           ],
           [
            0,
            0,
            0,
            1
           ],
           [
            0,
            0,
            0,
            1
           ],
           [
            0,
            0,
            0,
            1
           ],
           [
            0,
            0,
            0,
            1
           ],
           [
            0,
            0,
            0,
            1
           ],
           [
            0,
            0,
            0,
            1
           ],
           [
            0,
            0,
            0,
            1
           ],
           [
            0,
            0,
            0.963458110516934,
            1
           ],
           [
            0,
            0,
            0,
            1
           ],
           [
            0,
            0,
            0,
            1
           ],
           [
            0,
            0,
            0,
            1
           ],
           [
            0,
            0,
            0,
            1
           ],
           [
            0,
            0,
            0,
            1
           ],
           [
            0,
            0,
            0,
            1
           ],
           [
            0,
            0,
            0,
            1
           ],
           [
            0,
            0,
            0,
            1
           ],
           [
            0,
            0,
            0,
            1
           ],
           [
            0,
            0,
            0,
            1
           ],
           [
            0,
            0,
            0,
            1
           ],
           [
            0,
            0,
            0,
            1
           ],
           [
            0,
            0,
            0,
            1
           ],
           [
            0,
            0,
            0,
            1
           ],
           [
            0,
            0,
            0,
            1
           ],
           [
            0,
            0,
            0,
            1
           ],
           [
            0,
            0,
            0,
            1
           ],
           [
            0,
            0,
            0,
            1
           ],
           [
            0,
            0,
            0,
            1
           ],
           [
            0,
            0,
            0,
            1
           ],
           [
            0,
            0,
            0,
            1
           ],
           [
            0,
            0,
            0,
            1
           ],
           [
            0,
            0,
            0.963458110516934,
            1
           ],
           [
            0,
            0,
            0,
            1
           ],
           [
            0,
            0,
            0,
            1
           ],
           [
            0,
            0,
            0,
            1
           ],
           [
            0,
            0,
            0,
            1
           ],
           [
            0,
            0,
            0,
            1
           ],
           [
            0,
            0,
            0,
            1
           ],
           [
            0,
            0,
            0,
            1
           ],
           [
            0,
            0,
            0,
            1
           ],
           [
            0,
            0,
            0,
            1
           ],
           [
            0,
            0,
            0,
            1
           ],
           [
            0,
            0,
            0,
            1
           ],
           [
            0,
            0,
            0,
            1
           ],
           [
            0,
            0,
            0,
            1
           ],
           [
            0,
            0,
            0,
            1
           ],
           [
            0,
            0,
            0,
            1
           ],
           [
            0,
            0,
            0,
            1
           ],
           [
            0,
            0,
            0,
            1
           ],
           [
            0,
            0,
            0,
            1
           ],
           [
            0,
            0,
            0,
            1
           ],
           [
            0,
            0,
            0,
            1
           ],
           [
            0,
            0,
            0,
            1
           ],
           [
            0,
            0,
            0,
            1
           ],
           [
            0,
            0,
            0,
            1
           ],
           [
            0,
            0,
            0,
            1
           ],
           [
            0,
            0,
            0,
            1
           ],
           [
            0,
            0,
            0,
            1
           ],
           [
            0,
            0,
            0,
            1
           ],
           [
            0,
            0,
            0,
            1
           ],
           [
            0,
            0,
            0,
            1
           ],
           [
            0,
            0,
            0,
            1
           ],
           [
            0,
            0,
            0,
            1
           ],
           [
            0,
            0,
            0,
            1
           ],
           [
            0,
            0,
            0,
            1
           ],
           [
            0,
            0,
            0,
            1
           ],
           [
            0,
            0,
            0,
            1
           ],
           [
            0,
            0,
            0,
            1
           ],
           [
            0,
            0,
            0,
            1
           ],
           [
            0,
            0,
            0,
            1
           ],
           [
            0,
            0,
            0,
            1
           ],
           [
            0,
            0,
            0,
            1
           ],
           [
            0,
            0,
            0,
            1
           ],
           [
            0,
            0,
            0,
            1
           ],
           [
            0,
            0,
            0,
            1
           ],
           [
            0,
            0,
            0,
            1
           ],
           [
            0,
            0,
            0,
            1
           ],
           [
            0,
            0,
            0,
            1
           ],
           [
            0,
            0,
            0,
            1
           ],
           [
            0,
            0,
            0,
            1
           ],
           [
            0,
            0,
            0,
            1
           ],
           [
            0,
            0,
            0,
            1
           ],
           [
            0,
            0,
            0,
            1
           ],
           [
            0,
            0,
            0,
            1
           ],
           [
            0,
            0,
            0,
            1
           ],
           [
            0,
            0,
            0,
            1
           ],
           [
            0,
            0,
            0,
            1
           ],
           [
            0,
            0,
            0,
            1
           ],
           [
            0,
            0,
            0,
            1
           ],
           [
            0,
            0,
            0,
            1
           ],
           [
            0,
            0,
            0,
            1
           ],
           [
            0,
            0,
            0,
            1
           ],
           [
            0,
            0,
            0,
            1
           ],
           [
            0,
            0,
            0,
            1
           ],
           [
            0,
            0,
            0,
            1
           ],
           [
            0,
            0,
            0,
            1
           ],
           [
            0,
            0,
            0,
            1
           ],
           [
            0,
            0,
            0,
            1
           ],
           [
            0,
            0,
            0,
            1
           ],
           [
            0,
            0,
            0,
            1
           ],
           [
            0,
            0,
            0,
            1
           ],
           [
            0,
            0,
            0,
            1
           ],
           [
            0,
            0,
            0,
            1
           ],
           [
            0,
            0,
            0,
            1
           ],
           [
            0,
            0,
            0,
            1
           ],
           [
            0,
            0,
            0,
            1
           ],
           [
            0,
            0,
            0,
            1
           ],
           [
            0,
            0,
            0,
            1
           ],
           [
            0,
            0,
            0,
            1
           ],
           [
            0,
            0,
            0,
            1
           ],
           [
            0,
            0,
            0,
            1
           ],
           [
            0,
            0,
            0,
            1
           ],
           [
            0,
            0,
            0,
            1
           ],
           [
            0,
            0,
            0,
            1
           ],
           [
            0,
            0,
            0,
            1
           ],
           [
            0,
            0,
            0,
            1
           ],
           [
            0,
            0,
            0,
            1
           ],
           [
            0,
            0,
            0.963458110516934,
            1
           ],
           [
            0,
            0,
            0,
            1
           ],
           [
            0,
            0,
            0,
            1
           ],
           [
            0,
            0,
            0,
            1
           ],
           [
            0,
            0,
            0,
            1
           ],
           [
            0,
            0,
            0,
            1
           ],
           [
            0,
            0,
            0,
            1
           ],
           [
            0,
            0,
            0,
            1
           ],
           [
            0,
            0,
            0,
            1
           ],
           [
            0,
            0,
            0,
            1
           ],
           [
            0,
            0,
            0,
            1
           ],
           [
            0,
            0,
            0,
            1
           ],
           [
            0,
            0,
            0,
            1
           ],
           [
            0,
            0,
            0,
            1
           ],
           [
            0,
            0,
            0,
            1
           ],
           [
            0,
            0,
            0,
            1
           ],
           [
            0,
            0,
            0,
            1
           ],
           [
            0,
            0,
            0,
            1
           ],
           [
            0,
            0,
            0,
            1
           ],
           [
            0,
            0,
            0,
            1
           ],
           [
            0,
            0,
            0,
            1
           ],
           [
            0,
            0,
            0,
            1
           ],
           [
            0,
            0,
            0,
            1
           ],
           [
            0,
            0,
            0,
            1
           ],
           [
            0,
            0,
            0,
            1
           ],
           [
            0,
            0,
            0,
            1
           ],
           [
            0,
            0,
            0,
            1
           ],
           [
            0,
            0,
            0,
            1
           ],
           [
            0,
            0,
            0,
            1
           ],
           [
            0,
            0,
            0,
            1
           ],
           [
            0,
            0,
            0,
            1
           ],
           [
            0,
            0,
            0,
            1
           ],
           [
            0,
            0,
            0,
            1
           ],
           [
            0,
            0,
            0,
            1
           ],
           [
            0,
            0,
            0,
            1
           ],
           [
            0,
            0,
            0.963458110516934,
            1
           ],
           [
            0,
            0,
            0,
            1
           ],
           [
            0,
            0,
            0,
            1
           ],
           [
            0,
            0,
            0,
            1
           ],
           [
            0,
            0,
            0,
            1
           ],
           [
            0,
            0,
            0,
            1
           ],
           [
            0,
            0,
            0,
            1
           ],
           [
            0,
            0,
            0.963458110516934,
            1
           ],
           [
            0,
            0,
            0,
            1
           ],
           [
            0,
            0,
            0,
            1
           ],
           [
            0,
            0,
            0,
            1
           ],
           [
            0,
            0,
            0,
            1
           ],
           [
            0,
            0,
            0,
            1
           ],
           [
            0,
            0,
            0,
            1
           ],
           [
            0,
            0,
            0,
            1
           ],
           [
            0,
            0,
            0,
            1
           ],
           [
            0,
            0,
            0,
            1
           ],
           [
            0,
            0,
            0,
            1
           ],
           [
            0,
            0,
            0,
            1
           ],
           [
            0,
            0,
            0,
            1
           ],
           [
            0,
            0,
            0,
            1
           ],
           [
            0,
            0,
            0,
            1
           ],
           [
            0,
            0,
            0,
            1
           ],
           [
            0,
            0,
            0,
            1
           ],
           [
            0,
            0,
            0,
            1
           ],
           [
            0,
            0,
            0,
            1
           ],
           [
            0,
            0,
            0,
            1
           ],
           [
            0,
            0,
            0,
            1
           ],
           [
            0,
            0,
            0,
            1
           ],
           [
            0,
            0,
            0,
            1
           ],
           [
            0,
            0,
            0,
            1
           ],
           [
            0,
            0,
            0,
            1
           ],
           [
            0,
            0,
            0,
            1
           ],
           [
            0,
            0,
            0,
            1
           ],
           [
            0,
            0,
            0,
            1
           ],
           [
            0,
            0,
            0,
            1
           ],
           [
            0,
            0,
            0,
            1
           ],
           [
            0,
            0,
            0,
            1
           ],
           [
            0,
            0,
            0,
            1
           ],
           [
            0,
            0,
            0,
            1
           ],
           [
            0,
            0,
            0.963458110516934,
            1
           ],
           [
            0,
            0,
            0,
            1
           ],
           [
            0,
            0,
            0,
            1
           ],
           [
            0,
            0,
            0,
            1
           ],
           [
            0,
            0,
            0,
            1
           ],
           [
            0,
            0,
            0,
            1
           ],
           [
            0,
            0,
            0,
            1
           ],
           [
            0,
            0,
            0,
            1
           ],
           [
            0,
            0,
            0,
            1
           ],
           [
            0,
            0,
            0,
            1
           ],
           [
            0,
            0,
            0,
            1
           ],
           [
            0,
            0,
            0,
            1
           ],
           [
            0,
            0,
            0,
            1
           ],
           [
            0,
            0,
            0,
            1
           ],
           [
            0,
            0,
            0,
            1
           ],
           [
            0,
            0,
            0,
            1
           ],
           [
            0,
            0,
            0,
            1
           ],
           [
            0,
            0,
            0,
            1
           ],
           [
            0,
            0,
            0,
            1
           ],
           [
            0,
            0,
            0,
            1
           ],
           [
            0,
            0,
            0,
            1
           ],
           [
            0,
            0,
            0,
            1
           ],
           [
            0,
            0,
            0,
            1
           ],
           [
            0,
            0,
            0,
            1
           ],
           [
            0,
            0,
            0.963458110516934,
            1
           ],
           [
            0,
            0,
            0,
            1
           ],
           [
            0,
            0,
            0,
            1
           ],
           [
            0,
            0,
            0,
            1
           ],
           [
            0,
            0,
            0,
            1
           ],
           [
            0,
            0,
            0,
            1
           ],
           [
            0,
            0,
            0,
            1
           ],
           [
            0,
            0,
            0.963458110516934,
            1
           ],
           [
            0,
            0,
            0,
            1
           ],
           [
            0,
            0,
            0.731729055258467,
            1
           ],
           [
            0,
            0,
            0,
            1
           ],
           [
            0,
            0,
            0,
            1
           ],
           [
            0,
            0,
            0,
            1
           ],
           [
            0,
            0,
            0,
            1
           ],
           [
            0,
            0,
            0,
            1
           ],
           [
            0,
            0,
            0,
            1
           ],
           [
            0,
            0,
            0,
            1
           ],
           [
            0,
            0,
            0,
            1
           ],
           [
            0,
            0,
            0,
            1
           ],
           [
            0,
            0,
            0,
            1
           ],
           [
            0,
            0,
            0,
            1
           ],
           [
            0,
            0,
            0,
            1
           ],
           [
            0,
            0,
            0,
            1
           ],
           [
            0,
            0,
            0,
            1
           ],
           [
            0,
            0,
            0,
            1
           ],
           [
            0,
            0,
            0,
            1
           ],
           [
            0,
            0,
            0,
            1
           ],
           [
            0,
            0,
            0,
            1
           ],
           [
            0,
            0,
            0,
            1
           ],
           [
            0,
            0,
            0,
            1
           ],
           [
            0,
            0,
            0,
            1
           ],
           [
            0,
            0,
            0,
            1
           ],
           [
            0,
            0,
            0,
            1
           ],
           [
            0,
            0,
            0,
            1
           ],
           [
            0,
            0,
            0,
            1
           ],
           [
            0,
            0,
            0,
            1
           ],
           [
            0,
            0,
            0,
            1
           ],
           [
            0,
            0,
            0,
            1
           ],
           [
            0,
            0,
            0,
            1
           ],
           [
            0,
            0,
            0,
            1
           ],
           [
            0,
            0,
            0,
            1
           ],
           [
            0,
            0,
            0,
            1
           ],
           [
            0,
            0,
            0,
            1
           ],
           [
            0,
            0,
            0.963458110516934,
            1
           ],
           [
            0,
            0,
            0,
            1
           ],
           [
            0,
            0,
            0.731729055258467,
            1
           ],
           [
            0,
            0,
            0,
            1
           ],
           [
            0,
            0,
            0,
            1
           ],
           [
            0,
            0,
            0,
            1
           ],
           [
            0,
            0,
            0,
            1
           ],
           [
            0,
            0,
            0,
            1
           ],
           [
            0,
            0,
            0,
            1
           ],
           [
            0,
            0,
            0,
            1
           ],
           [
            0,
            0,
            0,
            1
           ],
           [
            0,
            0,
            0,
            1
           ],
           [
            0,
            0,
            0,
            1
           ],
           [
            0,
            0,
            0,
            1
           ],
           [
            0,
            0,
            0,
            1
           ],
           [
            0,
            0,
            0,
            1
           ],
           [
            0,
            0,
            0,
            1
           ],
           [
            0,
            0,
            0,
            1
           ],
           [
            0,
            0,
            0,
            1
           ],
           [
            0,
            0,
            0,
            1
           ],
           [
            0,
            0,
            0,
            1
           ],
           [
            0,
            0,
            0,
            1
           ],
           [
            0,
            0,
            0,
            1
           ],
           [
            0,
            0,
            0,
            1
           ],
           [
            0,
            0,
            0,
            1
           ],
           [
            0,
            0,
            0,
            1
           ],
           [
            0,
            0,
            0,
            1
           ],
           [
            0,
            0,
            0,
            1
           ],
           [
            0,
            0,
            0,
            1
           ],
           [
            0,
            0,
            0,
            1
           ],
           [
            0,
            0,
            0,
            1
           ],
           [
            0,
            0,
            0,
            1
           ],
           [
            0,
            0,
            0,
            1
           ],
           [
            0,
            0,
            0,
            1
           ],
           [
            0,
            0.12745098039215685,
            1,
            1
           ],
           [
            0,
            0,
            0,
            1
           ],
           [
            0,
            0,
            0,
            1
           ],
           [
            0,
            0,
            0,
            1
           ],
           [
            0,
            0,
            0,
            1
           ],
           [
            0,
            0,
            0,
            1
           ],
           [
            0,
            0,
            0,
            1
           ],
           [
            0,
            0,
            0,
            1
           ],
           [
            0,
            0,
            0,
            1
           ],
           [
            0,
            0,
            0,
            1
           ],
           [
            0,
            0,
            0,
            1
           ],
           [
            0,
            0,
            0,
            1
           ],
           [
            0,
            0,
            0,
            1
           ],
           [
            0,
            0,
            0,
            1
           ],
           [
            0,
            0,
            0.963458110516934,
            1
           ],
           [
            0,
            0,
            0,
            1
           ],
           [
            0,
            0,
            0,
            1
           ],
           [
            0,
            0,
            0,
            1
           ],
           [
            0,
            0,
            0,
            1
           ],
           [
            0,
            0,
            0,
            1
           ],
           [
            0,
            0,
            0,
            1
           ],
           [
            0,
            0,
            0,
            1
           ],
           [
            0,
            0.12745098039215685,
            1,
            1
           ],
           [
            0,
            0,
            0,
            1
           ],
           [
            0,
            0,
            0,
            1
           ],
           [
            0,
            0,
            0,
            1
           ],
           [
            0,
            0,
            0,
            1
           ],
           [
            0,
            0,
            0,
            1
           ],
           [
            0,
            0,
            0,
            1
           ],
           [
            0,
            0,
            0,
            1
           ],
           [
            0,
            0,
            0,
            1
           ],
           [
            0,
            0,
            0,
            1
           ],
           [
            0,
            0,
            0,
            1
           ],
           [
            0,
            0,
            0,
            1
           ],
           [
            0,
            0,
            0,
            1
           ],
           [
            0,
            0,
            0,
            1
           ],
           [
            0,
            0,
            0,
            1
           ],
           [
            0,
            0,
            0,
            1
           ],
           [
            0,
            0,
            0,
            1
           ],
           [
            0,
            0,
            0,
            1
           ],
           [
            0,
            0,
            0,
            1
           ],
           [
            0,
            0,
            0,
            1
           ],
           [
            0,
            0,
            0,
            1
           ],
           [
            0,
            0,
            0,
            1
           ],
           [
            0,
            0,
            0,
            1
           ],
           [
            0,
            0,
            0,
            1
           ],
           [
            0,
            0,
            0,
            1
           ],
           [
            0,
            0,
            0,
            1
           ],
           [
            0,
            0,
            0,
            1
           ],
           [
            0,
            0,
            0,
            1
           ],
           [
            0,
            0,
            0,
            1
           ],
           [
            0,
            0,
            0,
            1
           ],
           [
            0,
            0,
            0,
            1
           ],
           [
            0,
            0,
            0,
            1
           ],
           [
            0,
            0,
            0,
            1
           ],
           [
            0,
            0,
            0,
            1
           ],
           [
            0,
            0,
            0,
            1
           ],
           [
            0,
            0,
            0,
            1
           ],
           [
            0,
            0,
            0,
            1
           ],
           [
            0,
            0,
            0,
            1
           ],
           [
            0,
            0,
            0,
            1
           ],
           [
            0,
            0,
            0,
            1
           ],
           [
            0,
            0,
            0,
            1
           ],
           [
            0,
            0,
            0,
            1
           ],
           [
            0,
            0,
            0,
            1
           ],
           [
            0,
            0,
            0,
            1
           ],
           [
            0,
            0,
            0,
            1
           ],
           [
            0,
            0,
            0,
            1
           ],
           [
            0,
            0,
            0,
            1
           ],
           [
            0,
            0,
            0,
            1
           ],
           [
            0,
            0,
            0,
            1
           ],
           [
            0,
            0,
            0,
            1
           ],
           [
            0,
            0,
            0,
            1
           ],
           [
            0,
            0,
            0,
            1
           ],
           [
            0,
            0,
            0,
            1
           ],
           [
            0,
            0,
            0,
            1
           ],
           [
            0,
            0,
            0,
            1
           ],
           [
            0,
            0,
            0,
            1
           ],
           [
            0,
            0,
            0,
            1
           ],
           [
            0,
            0,
            0,
            1
           ]
          ],
          "opacity": 0.1,
          "size": 7,
          "symbol": "circle"
         },
         "mode": "markers",
         "type": "scatter3d",
         "x": [
          1.5895298719406128,
          -9.654085159301758,
          8.080636978149414,
          -0.27242910861968994,
          4.923617362976074,
          -1.5793200731277466,
          7.2830424308776855,
          -0.4339168667793274,
          0.542976438999176,
          -6.232507705688477,
          -3.3618876934051514,
          7.433859348297119,
          -2.1234893798828125,
          6.654664516448975,
          -1.0361160039901733,
          -10.186544418334961,
          -1.4004355669021606,
          -1.1296778917312622,
          -1.7561390399932861,
          -10.162314414978027,
          -11.497640609741211,
          2.471233606338501,
          -4.1627912521362305,
          -11.108187675476074,
          8.905957221984863,
          -7.90836763381958,
          -0.20286285877227783,
          4.419979572296143,
          -9.29110050201416,
          -1.2828731536865234,
          -9.254790306091309,
          5.152353763580322,
          6.30311393737793,
          1.2312252521514893,
          5.197509288787842,
          6.580649375915527,
          5.902637481689453,
          -4.276971817016602,
          -2.2258760929107666,
          -12.136716842651367,
          4.7005791664123535,
          -12.739327430725098,
          -12.252091407775879,
          8.859286308288574,
          12.770683288574219,
          -0.8413658142089844,
          -1.020685076713562,
          0.12763555347919464,
          -4.357226848602295,
          6.368163108825684,
          2.565459728240967,
          -4.5476555824279785,
          -9.723769187927246,
          3.3608438968658447,
          -4.966762065887451,
          0.35536685585975647,
          1.0492300987243652,
          -5.017646312713623,
          -0.6846349835395813,
          -5.029468536376953,
          -4.262587547302246,
          -0.003957693465054035,
          1.4625779390335083,
          2.2128818035125732,
          -3.9720757007598877,
          7.017465591430664,
          6.327473163604736,
          -4.599637985229492,
          -6.268430709838867,
          7.21695613861084,
          6.083526134490967,
          4.942447185516357,
          -0.15896345674991608,
          -5.065887928009033,
          4.710545539855957,
          6.35020112991333,
          8.823892593383789,
          5.2983012199401855,
          -0.6919043660163879,
          -0.3312729597091675,
          7.580519199371338,
          3.4020161628723145,
          -11.384743690490723,
          -3.987457036972046,
          5.880091667175293,
          5.682283878326416,
          -0.9771509766578674,
          -4.176644325256348,
          -12.461259841918945,
          -4.729438304901123,
          -6.918510437011719,
          5.503112316131592,
          1.864122986793518,
          -3.883779525756836,
          -0.36162662506103516,
          -10.167695999145508,
          7.395902633666992,
          6.4930572509765625,
          -1.6023204326629639,
          8.02202033996582,
          -0.28750187158584595,
          -5.1687140464782715,
          7.996204376220703,
          10.139453887939453,
          0.8401419520378113,
          -3.8894543647766113,
          -7.810445308685303,
          0.5344460606575012,
          -1.3535842895507812,
          -2.1720550060272217,
          5.534066200256348,
          6.742142200469971,
          8.191070556640625,
          -5.264748573303223,
          4.87154483795166,
          9.887852668762207,
          7.949613094329834,
          -4.8014678955078125,
          3.230417490005493,
          -2.255054235458374,
          -2.7325387001037598,
          8.529722213745117,
          -3.684253692626953,
          -9.265344619750977,
          -2.225271701812744,
          -3.4016809463500977,
          -2.0457420349121094,
          -11.685832023620605,
          7.0314741134643555,
          -2.0125186443328857,
          6.751976490020752,
          -0.7309946417808533,
          -7.408191680908203,
          6.68886661529541,
          4.303304672241211,
          0.45452621579170227,
          -0.8914839029312134,
          11.168813705444336,
          -4.490260601043701,
          -3.400421380996704,
          3.0412120819091797,
          -9.159446716308594,
          6.505707263946533,
          -3.607750654220581,
          -3.7300806045532227,
          -4.0061211585998535,
          5.381979942321777,
          4.3137311935424805,
          5.856987476348877,
          4.84222936630249,
          6.032570838928223,
          -5.282702445983887,
          5.272790908813477,
          0.7074976563453674,
          -0.7405990362167358,
          7.078848838806152,
          4.390716075897217,
          -1.7480570077896118,
          2.5068511962890625,
          -0.32681503891944885,
          -0.8871791362762451,
          -6.592034339904785,
          6.918800354003906,
          -4.257757663726807,
          -2.510580539703369,
          7.079774379730225,
          3.016472101211548,
          11.940091133117676,
          -8.03050422668457,
          -8.740484237670898,
          -4.258879661560059,
          -3.604534149169922,
          -1.4511202573776245,
          -1.960076093673706,
          10.818552017211914,
          -2.6450910568237305,
          -5.515223503112793,
          -9.517705917358398,
          4.819568634033203,
          -1.4671087265014648,
          4.161784648895264,
          3.2471330165863037,
          6.526388645172119,
          -3.1511013507843018,
          0.9145389795303345,
          4.151960372924805,
          8.043944358825684,
          -4.2100982666015625,
          -0.22562414407730103,
          -4.403148174285889,
          7.059075832366943,
          1.5848051309585571,
          0.26863592863082886,
          -4.549595832824707,
          -11.384232521057129,
          8.555678367614746,
          -4.169100761413574,
          -10.916498184204102,
          -2.4134676456451416,
          -5.357519149780273,
          -2.8833751678466797,
          -3.8284780979156494,
          -4.367093086242676,
          -1.3839761018753052,
          7.899621963500977,
          12.50825309753418,
          -4.628859043121338,
          -4.900330066680908,
          9.19324016571045,
          7.466116905212402,
          -8.564342498779297,
          4.702431678771973,
          -2.26953125,
          1.8088544607162476,
          -9.159390449523926,
          3.7189276218414307,
          2.9958529472351074,
          4.5195770263671875,
          5.359389781951904,
          -4.602754592895508,
          -12.054131507873535,
          -3.4998276233673096,
          -2.5757930278778076,
          -2.74491286277771,
          8.183752059936523,
          -2.3900370597839355,
          4.797001361846924,
          -3.673997402191162,
          -2.2747249603271484,
          -3.810088872909546,
          -10.3731050491333,
          -4.857497692108154,
          -0.6907978653907776,
          7.444514751434326,
          11.459696769714355,
          -1.1325830221176147,
          4.5078511238098145,
          4.26674222946167,
          -0.8080941438674927,
          5.112627029418945,
          -10.225296974182129,
          1.4488180875778198,
          1.1430456638336182,
          -3.427255868911743,
          2.277336359024048,
          -0.5762194395065308,
          -1.0616024732589722,
          6.38824987411499,
          8.176816940307617,
          11.052133560180664,
          -4.706300258636475,
          -11.95506763458252,
          7.400302886962891,
          3.918088674545288,
          -10.808286666870117,
          4.71349573135376,
          -1.8364253044128418,
          -0.9434491395950317,
          -1.2627769708633423,
          -3.8442108631134033,
          -0.8178783059120178,
          -1.2284175157546997,
          -2.665846586227417,
          -7.848832130432129,
          4.979333877563477,
          -5.793597221374512,
          -1.747393250465393,
          -1.8450599908828735,
          11.016653060913086,
          10.97021770477295,
          4.992166519165039,
          4.493681907653809,
          -0.22858840227127075,
          -9.363990783691406,
          8.28890323638916,
          -4.805427551269531,
          -0.7078081965446472,
          -0.5515163540840149,
          -7.882023334503174,
          -2.4801101684570312,
          -4.11182165145874,
          9.033872604370117,
          4.298145294189453,
          -4.355373859405518,
          -6.1635332107543945,
          5.2832489013671875,
          4.431919574737549,
          -2.9555482864379883,
          4.213471412658691,
          -2.047070264816284,
          -1.9960922002792358,
          -3.3972010612487793,
          -1.1602134704589844,
          -4.05907678604126,
          3.7223289012908936,
          6.206709861755371,
          5.0584282875061035,
          -3.493925094604492,
          -2.7908434867858887,
          -4.0367536544799805,
          -1.1926344633102417,
          7.838034629821777,
          6.12714147567749,
          4.892089366912842,
          3.9207568168640137,
          1.4515384435653687,
          8.593489646911621,
          -5.288040637969971,
          0.4003087878227234,
          2.9819693565368652,
          2.643688678741455,
          6.322403907775879,
          -3.832401752471924,
          -3.4633677005767822,
          1.9930419921875,
          4.415409564971924,
          -1.3888763189315796,
          5.07623291015625,
          -0.011211222037672997,
          6.073020935058594,
          -11.819579124450684,
          8.551525115966797,
          3.315697431564331,
          1.606144905090332,
          -3.581683397293091,
          -1.975626826286316,
          3.145413875579834,
          1.9586060047149658,
          3.840381622314453,
          6.5357842445373535,
          7.245492935180664,
          -9.80024242401123,
          -4.713250160217285,
          -12.587096214294434,
          6.227982997894287,
          -4.456926345825195,
          10.141032218933105,
          -0.8859490752220154,
          -0.9197599291801453,
          -9.895381927490234,
          -0.8442754149436951,
          12.545710563659668,
          -4.634456157684326,
          -2.7017951011657715,
          9.092814445495605,
          3.164177179336548,
          -1.3630748987197876,
          -2.2871503829956055,
          -6.113177299499512,
          10.637349128723145,
          7.015994071960449,
          10.044990539550781,
          7.649143218994141,
          0.24174228310585022,
          -0.8549666404724121,
          8.254029273986816,
          -0.856557309627533,
          6.886328220367432,
          -8.027159690856934,
          -1.1738349199295044,
          -4.869968891143799,
          -9.127420425415039,
          -4.114307880401611,
          -3.2000722885131836,
          -1.493611216545105,
          -4.224717617034912,
          -1.0598057508468628,
          3.614403247833252,
          -5.576141834259033,
          8.324984550476074,
          6.954939365386963,
          10.837321281433105,
          -3.5135693550109863,
          8.765754699707031,
          2.8756608963012695,
          7.892416477203369,
          -0.9354824423789978,
          9.043903350830078,
          -5.877597808837891,
          0.013891278766095638,
          5.3974103927612305,
          0.07718858867883682,
          11.634832382202148,
          -0.8016326427459717,
          5.343550205230713,
          12.47192668914795,
          5.494040012359619,
          -6.170731067657471,
          7.489613056182861,
          -4.777697563171387,
          6.379178524017334,
          -1.0197641849517822,
          -1.653735637664795,
          1.0631080865859985,
          5.241798400878906,
          -4.328869819641113,
          0.5105530023574829,
          -1.1630758047103882,
          -4.047892093658447,
          -0.6016765236854553,
          7.520276069641113,
          9.887901306152344,
          -3.088041067123413,
          6.18773078918457,
          -9.74041748046875,
          -1.2540451288223267,
          7.020113945007324,
          4.3596367835998535,
          -1.7890859842300415,
          -11.644256591796875,
          -4.557293891906738,
          -11.449655532836914,
          -2.2993226051330566,
          -5.3494086265563965,
          1.3538509607315063,
          -9.614405632019043,
          -0.9442147016525269,
          -3.532956838607788,
          3.223916530609131,
          6.662837982177734,
          -0.9148581624031067,
          -4.703623294830322,
          -3.0467395782470703,
          -12.063210487365723,
          -9.356040954589844,
          1.9939466714859009,
          -4.525475978851318,
          5.945486545562744,
          -3.7314412593841553,
          3.2000763416290283,
          -5.44130802154541,
          3.1402063369750977,
          7.718771934509277,
          3.824739456176758,
          0.14839932322502136,
          5.389793872833252,
          4.845916271209717,
          -2.783447265625,
          -3.667827606201172,
          6.983628273010254,
          4.935436248779297,
          -0.11569611728191376,
          7.99490213394165,
          0.40580129623413086,
          3.575984239578247,
          0.31876492500305176,
          -11.045714378356934,
          -4.884035587310791,
          -0.7086241841316223,
          -1.8832498788833618,
          -3.6802268028259277,
          -9.128353118896484,
          5.680949687957764,
          -5.081392765045166,
          -1.2118866443634033,
          -3.8541948795318604,
          -1.6358219385147095,
          -1.8082170486450195,
          -3.131178379058838,
          7.099118232727051,
          -5.787694454193115,
          3.606496810913086,
          0.298044353723526,
          8.835491180419922,
          -9.280892372131348,
          -1.433042049407959,
          9.56054973602295,
          -3.7513206005096436,
          -3.1786837577819824,
          3.5180046558380127,
          -0.27190080285072327,
          1.4478957653045654,
          10.300386428833008,
          -0.5392892360687256,
          -3.6767256259918213,
          6.9784016609191895,
          -0.9101992249488831,
          10.75627326965332,
          1.2222344875335693,
          -5.253903865814209,
          -4.391323566436768,
          1.651432752609253,
          2.7553558349609375,
          -5.477970123291016,
          2.2687981128692627,
          -2.533778190612793,
          2.2077713012695312,
          -0.5716701745986938,
          1.9014943838119507,
          -9.817100524902344,
          -5.141320705413818,
          5.382574558258057,
          -3.8589160442352295,
          -6.656581878662109,
          -2.0785489082336426,
          9.535564422607422,
          7.4509196281433105,
          -4.561456680297852,
          -5.743741035461426,
          4.795310974121094,
          -3.3846986293792725,
          -1.0638483762741089,
          -4.419491291046143,
          -3.4146649837493896,
          -1.5598602294921875,
          3.2929446697235107,
          2.781768560409546,
          1.3306900262832642,
          3.448091983795166,
          -3.7118115425109863,
          10.292017936706543,
          9.443010330200195,
          -2.4200022220611572,
          -12.369979858398438,
          -4.048538684844971,
          -4.823000431060791,
          -5.2997660636901855,
          3.3659842014312744,
          -2.159287691116333,
          1.591277003288269,
          6.69289493560791,
          6.120606422424316,
          -3.3226747512817383,
          4.339473247528076,
          -3.7401633262634277,
          -2.6716246604919434,
          0.027283908799290657,
          -4.233747959136963,
          1.1267163753509521,
          -0.8448317646980286,
          -3.024683952331543,
          3.0734267234802246,
          4.912721157073975,
          -0.9988624453544617,
          -5.055575370788574,
          7.84305477142334,
          -8.794280052185059,
          0.7545298337936401,
          -11.922872543334961,
          11.108981132507324,
          -1.724265217781067,
          3.9958643913269043,
          8.133807182312012,
          6.218168258666992,
          6.208338737487793,
          -1.9454859495162964,
          -3.2186708450317383,
          4.357558727264404,
          -3.79819393157959,
          -8.302298545837402,
          -8.965999603271484,
          -1.1227564811706543,
          4.940143585205078,
          5.142824172973633,
          -1.3964911699295044,
          4.458697319030762,
          3.7789371013641357,
          0.9314888119697571,
          3.8910696506500244,
          -3.8928513526916504,
          7.5812296867370605,
          1.8971425294876099,
          -4.81456184387207,
          -6.397278308868408,
          1.0151021480560303,
          5.44694185256958,
          -0.46604081988334656,
          2.301792621612549,
          -3.1579091548919678,
          -2.414405584335327,
          7.875946998596191,
          -10.76318645477295,
          -5.137202739715576,
          -1.659273624420166,
          5.915812015533447,
          8.052606582641602,
          -1.9197200536727905,
          -10.027300834655762,
          -0.3747948706150055,
          5.139683723449707,
          -0.9169309735298157,
          -0.7850512862205505,
          -3.5510268211364746,
          11.044812202453613,
          2.5457422733306885,
          7.304525852203369,
          3.376310110092163,
          -5.455719947814941,
          10.780973434448242,
          -4.376193046569824,
          -2.949634313583374,
          0.49014049768447876,
          -3.1187946796417236,
          -4.783936023712158,
          -4.6421427726745605,
          -1.6529603004455566,
          -1.5365078449249268,
          1.391295313835144,
          -1.9633605480194092,
          -5.365767955780029,
          5.072183132171631,
          9.466607093811035,
          -1.7105892896652222,
          -5.541830539703369,
          0.7889290452003479,
          -2.438115358352661,
          1.2449434995651245,
          -9.503211975097656,
          7.371861457824707,
          -2.9307472705841064,
          -2.464707612991333,
          -4.473291397094727,
          6.553967475891113,
          -2.021479845046997,
          0.2371007651090622,
          11.630119323730469,
          5.479991436004639,
          -8.41109848022461,
          -8.755866050720215,
          -1.3159687519073486,
          -4.389057159423828,
          10.329310417175293,
          -4.137184143066406,
          3.572692632675171,
          3.706486940383911,
          -0.7742679119110107,
          -3.719109535217285,
          -10.240243911743164,
          -4.6745524406433105,
          -4.735096454620361,
          -1.5129491090774536,
          11.537642478942871,
          4.93775749206543,
          -4.875280380249023,
          0.034367989748716354,
          -3.7626097202301025,
          4.463897228240967,
          3.0598723888397217,
          1.5235515832901,
          6.196739673614502,
          -2.5569565296173096,
          8.519885063171387,
          2.9810173511505127,
          6.215672492980957,
          -5.503780841827393,
          3.378939390182495,
          -3.615633249282837,
          10.40878677368164,
          4.3748955726623535,
          11.080750465393066,
          3.986814260482788,
          10.260184288024902,
          -1.2876007556915283,
          -0.9914839863777161,
          -11.71487045288086,
          -3.4347565174102783,
          -10.7264404296875,
          -0.5854365825653076,
          -3.8818161487579346,
          -10.61562728881836,
          -3.0648794174194336,
          6.606624603271484,
          5.3357086181640625,
          -4.91965389251709,
          -4.339771270751953,
          -1.8253546953201294,
          4.929773330688477,
          -1.3213109970092773,
          -11.311259269714355,
          -2.39046049118042,
          -3.935082197189331,
          -8.546255111694336,
          -3.5698981285095215,
          -11.807699203491211,
          -4.747761249542236,
          5.802222728729248,
          0.19934633374214172,
          6.86124849319458,
          -1.338382363319397,
          5.124763488769531,
          0.12969498336315155,
          -2.9301035404205322,
          -0.8380556702613831,
          10.475236892700195,
          -9.601893424987793,
          -4.6389079093933105,
          -6.5732927322387695,
          -5.557586669921875,
          5.561588287353516,
          7.0577073097229,
          -4.432159423828125,
          11.381756782531738,
          -5.02285099029541,
          -0.16777516901493073,
          1.439282774925232,
          -8.692042350769043,
          0.9454165697097778,
          -4.69080924987793,
          1.8570663928985596,
          11.42684555053711,
          -1.3537166118621826,
          -0.7964202761650085,
          1.5305676460266113,
          -1.3148407936096191,
          -2.432800054550171,
          5.502734661102295,
          -2.5036556720733643,
          4.33432149887085,
          -1.7043564319610596,
          1.7407536506652832,
          8.56865406036377,
          4.030975341796875,
          1.7649656534194946,
          -0.24993346631526947,
          7.028582572937012,
          -4.631960391998291,
          -0.8372347950935364,
          6.487967014312744,
          -3.594496726989746,
          -3.5527217388153076,
          11.239483833312988,
          -4.6383819580078125,
          -0.7321220636367798,
          -8.687267303466797,
          7.985184669494629,
          -1.1012078523635864,
          -2.2219269275665283,
          -2.3096892833709717,
          -9.53054141998291,
          -1.5729883909225464,
          5.662996768951416,
          -2.93383526802063,
          6.637126922607422,
          -5.305067539215088,
          0.6989906430244446,
          8.833318710327148,
          -2.1509222984313965,
          7.8841142654418945,
          5.051552772521973,
          1.9165605306625366,
          0.28690341114997864,
          -3.272597551345825,
          8.620010375976562,
          6.76732063293457,
          6.867687225341797,
          9.509288787841797,
          -1.2580773830413818,
          11.3818359375,
          -1.6028937101364136,
          -5.165300369262695,
          -0.6536899209022522,
          -4.845579147338867,
          -11.363870620727539,
          2.7238733768463135,
          -9.8905611038208,
          1.4403496980667114,
          11.217519760131836,
          6.4750847816467285,
          3.6582040786743164,
          4.19409704208374,
          4.183913707733154,
          -4.404618740081787,
          -1.4855526685714722,
          4.867942810058594,
          4.628677845001221,
          0.009023558348417282,
          5.173668384552002,
          3.2786200046539307,
          -10.749163627624512,
          6.716786861419678,
          3.3649303913116455,
          -0.8453164100646973,
          -12.62890911102295,
          2.1568551063537598,
          -3.958111524581909,
          -0.1350918859243393,
          -9.034978866577148,
          0.3272416293621063,
          -6.86828088760376,
          5.512259006500244,
          7.778758525848389,
          -5.926640510559082,
          10.38576602935791,
          8.378376007080078,
          -4.956298351287842,
          -3.7434794902801514,
          -4.702473163604736,
          1.0484822988510132,
          6.199981212615967,
          -2.0479555130004883,
          8.033580780029297,
          -2.6404001712799072,
          12.790399551391602,
          -3.8217153549194336,
          6.489858627319336,
          5.6478776931762695,
          -0.6452305912971497,
          -9.2223482131958,
          3.9011456966400146,
          8.372052192687988,
          -4.932150840759277,
          -3.508726119995117,
          6.303646564483643,
          9.680849075317383,
          -5.502233982086182,
          0.8421738147735596,
          -9.955044746398926,
          -9.994837760925293,
          3.1937026977539062,
          1.3520280122756958,
          2.7106144428253174,
          1.0093283653259277,
          -9.921466827392578,
          1.524714708328247,
          -0.2623709738254547,
          3.943047046661377,
          10.5468168258667,
          8.868793487548828,
          3.0119996070861816,
          -1.261128306388855,
          -3.719633102416992,
          -4.5033063888549805,
          -4.254942417144775,
          9.894098281860352,
          1.027900218963623,
          3.562181234359741,
          -1.4738472700119019,
          7.074918270111084,
          12.563064575195312,
          -4.74387264251709,
          -1.7214624881744385,
          -2.4520139694213867,
          -4.9405646324157715,
          -3.9960553646087646,
          10.033461570739746,
          -3.8056509494781494,
          10.638583183288574,
          -12.205021858215332,
          6.275500774383545,
          2.4971463680267334,
          -1.8138924837112427,
          -2.228973865509033,
          5.460203647613525,
          6.074553489685059,
          11.18513298034668,
          9.148146629333496,
          4.049747943878174,
          -0.07794748991727829,
          -0.4428805708885193,
          5.41970157623291,
          2.8941051959991455,
          -11.949956893920898,
          4.412936687469482,
          -3.513881206512451,
          -10.474300384521484,
          -10.016390800476074,
          2.3160645961761475,
          -2.697866678237915,
          3.2819015979766846,
          -10.183396339416504,
          8.114404678344727,
          -10.7376708984375,
          6.128678798675537,
          4.729228973388672,
          -4.566783428192139,
          -2.3722338676452637,
          -1.0005465745925903,
          -0.11688070744276047,
          4.390845775604248,
          -7.990360260009766,
          8.849196434020996,
          -1.7537169456481934,
          2.3771426677703857,
          8.669473648071289,
          -1.6396576166152954,
          -8.961039543151855,
          -10.454586029052734,
          11.734538078308105,
          7.1127729415893555,
          -0.07477421313524246,
          -6.269151210784912,
          -8.912370681762695,
          2.5542335510253906,
          -2.58632493019104,
          8.226587295532227,
          4.180485725402832,
          0.2422683835029602,
          -0.5690819025039673,
          1.9674369096755981,
          10.237717628479004,
          3.0946102142333984,
          -0.5605064630508423,
          -3.4673471450805664,
          -3.057406187057495,
          -5.15932559967041,
          -2.8048343658447266,
          -1.1904096603393555,
          4.829408645629883,
          -4.656677722930908,
          1.306409239768982,
          1.3457735776901245,
          1.7935960292816162,
          11.303914070129395,
          7.288419246673584,
          -1.0730682611465454,
          -4.941554069519043,
          -1.8977794647216797,
          2.591879367828369,
          0.36508458852767944,
          0.2691708207130432,
          3.706578254699707,
          -3.7879345417022705,
          -0.3274877071380615,
          3.993088483810425,
          -0.9919442534446716,
          6.252570629119873,
          2.6477534770965576,
          -2.0158064365386963,
          -2.907062292098999,
          1.6951377391815186,
          2.016860246658325,
          4.3105669021606445,
          6.6636643409729,
          4.624773025512695,
          -11.20678424835205,
          -1.7774771451950073,
          6.829406261444092,
          8.4027738571167,
          -1.165961742401123,
          -10.509842872619629,
          -3.4355437755584717,
          -4.157679557800293,
          -4.715784549713135,
          -8.928301811218262,
          5.596274375915527,
          2.8546884059906006,
          0.9953172206878662,
          -5.180673599243164,
          -3.2888643741607666,
          -2.31266713142395
         ],
         "y": [
          1.2578145265579224,
          -8.004762649536133,
          -1.233091115951538,
          -6.89937162399292,
          -0.9667038917541504,
          11.556517601013184,
          -2.2154343128204346,
          12.602763175964355,
          -4.444408893585205,
          -1.4731379747390747,
          -9.492366790771484,
          -2.0002245903015137,
          8.108985900878906,
          -3.935194253921509,
          7.470815658569336,
          -9.02894115447998,
          7.641932010650635,
          -5.1393022537231445,
          0.449480265378952,
          0.7395482063293457,
          2.137977361679077,
          2.0675268173217773,
          -0.0013074579183012247,
          1.179406762123108,
          1.9528374671936035,
          -7.656431674957275,
          11.925926208496094,
          5.191543102264404,
          -8.043664932250977,
          -0.10972336679697037,
          -7.420685291290283,
          6.631739616394043,
          -9.800287246704102,
          1.9197261333465576,
          -1.121192216873169,
          -2.7236928939819336,
          6.134206771850586,
          -1.5491992235183716,
          6.589459419250488,
          0.8009459376335144,
          -1.8252787590026855,
          0.8535182476043701,
          1.800600290298462,
          -0.9327144026756287,
          -6.7403106689453125,
          12.15967082977295,
          12.852376937866211,
          -5.619637489318848,
          6.650686264038086,
          -0.078877754509449,
          -5.185939788818359,
          5.690164566040039,
          -8.74582576751709,
          4.840728282928467,
          -1.9826284646987915,
          11.34593391418457,
          -3.364328384399414,
          6.402871131896973,
          10.16968822479248,
          6.117527008056641,
          0.12959961593151093,
          11.974932670593262,
          -4.971538066864014,
          2.862149238586426,
          -10.27538776397705,
          -9.734533309936523,
          -9.553266525268555,
          0.590251624584198,
          -1.7851685285568237,
          1.094756007194519,
          -9.460463523864746,
          -9.443120002746582,
          -6.844404220581055,
          -0.6959020495414734,
          7.590794563293457,
          -1.875337839126587,
          -7.507457256317139,
          -1.0803172588348389,
          -4.9008026123046875,
          12.829802513122559,
          -0.3709602952003479,
          5.450255870819092,
          0.22531156241893768,
          6.892974376678467,
          0.18699492514133453,
          -2.456683874130249,
          10.276436805725098,
          -0.4660491645336151,
          1.5406312942504883,
          5.485630035400391,
          -1.2385867834091187,
          -1.050203800201416,
          0.1865936815738678,
          0.0014359266497194767,
          -4.76502799987793,
          2.3580057621002197,
          -2.567330837249756,
          1.022095799446106,
          -5.096912860870361,
          -0.35366666316986084,
          -5.9313740730285645,
          -1.3211029767990112,
          -2.6642091274261475,
          -8.044273376464844,
          -4.921921253204346,
          -0.7634344100952148,
          -8.049139022827148,
          -4.689065933227539,
          11.862588882446289,
          -10.032904624938965,
          -10.894224166870117,
          -0.31233030557632446,
          -0.6761892437934875,
          -2.5411508083343506,
          7.113468170166016,
          -0.07046762108802795,
          -2.17199969291687,
          -3.2232367992401123,
          3.638049364089966,
          -9.534234046936035,
          7.016613483428955,
          1.2528122663497925,
          7.318650722503662,
          -7.541479110717773,
          7.0814385414123535,
          7.859525203704834,
          7.768589973449707,
          0.8316133618354797,
          -3.9258627891540527,
          -9.22475528717041,
          -0.1189156249165535,
          7.9554314613342285,
          -7.236363410949707,
          -9.99084758758545,
          4.998048782348633,
          -5.476998805999756,
          -6.209153175354004,
          -6.81386661529541,
          8.030460357666016,
          6.985678195953369,
          3.986708879470825,
          -8.825571060180664,
          -1.7019480466842651,
          6.455031871795654,
          -10.808748245239258,
          6.946507453918457,
          5.999567031860352,
          4.509629726409912,
          -0.2743856608867645,
          -2.0524094104766846,
          -2.6018946170806885,
          -2.5801258087158203,
          6.6253437995910645,
          12.224205017089844,
          12.180524826049805,
          -1.0487139225006104,
          2.1259560585021973,
          0.5224364995956421,
          4.959081172943115,
          0.1255478858947754,
          -6.896482944488525,
          -2.500685930252075,
          -3.643604278564453,
          3.6473848819732666,
          -10.084319114685059,
          -3.7205495834350586,
          4.441900253295898,
          -6.5697340965271,
          -8.094282150268555,
          -7.773630619049072,
          -1.4447531700134277,
          4.523278713226318,
          -5.187994003295898,
          -0.050537481904029846,
          -8.399359703063965,
          -8.790812492370605,
          4.681506633758545,
          1.293840765953064,
          6.618696212768555,
          6.817831516265869,
          3.445657968521118,
          4.713564395904541,
          -3.8756542205810547,
          0.7001107931137085,
          1.644877552986145,
          4.665123462677002,
          -2.7072391510009766,
          5.7490925788879395,
          0.6391271352767944,
          0.09179697930812836,
          1.2886450290679932,
          -4.414963245391846,
          12.120306015014648,
          -0.5363186001777649,
          1.6164594888687134,
          0.7465071678161621,
          -10.66324520111084,
          1.9514997005462646,
          -10.884917259216309,
          -1.285407543182373,
          -10.834717750549316,
          6.43197774887085,
          -0.48426055908203125,
          7.705578804016113,
          -0.6950875520706177,
          -6.966467380523682,
          6.3528547286987305,
          6.322875499725342,
          -3.4025955200195312,
          -3.7910964488983154,
          -8.799198150634766,
          -9.786705017089844,
          7.522387504577637,
          0.6006396412849426,
          -7.293933391571045,
          3.765296220779419,
          4.482518196105957,
          5.473048210144043,
          5.59030294418335,
          7.733757019042969,
          1.3854538202285767,
          4.558330535888672,
          -0.6072804927825928,
          7.112848281860352,
          1.8416043519973755,
          1.48847496509552,
          -10.17318058013916,
          8.13193130493164,
          -10.143939971923828,
          -9.390945434570312,
          0.5204381942749023,
          0.17861735820770264,
          -6.484060764312744,
          -0.20288218557834625,
          -6.1885151863098145,
          -6.018276214599609,
          7.071982383728027,
          -3.8059988021850586,
          -6.05430269241333,
          -9.507648468017578,
          -8.153010368347168,
          1.9193148612976074,
          -4.676167011260986,
          -9.600321769714355,
          2.4095656871795654,
          7.426891803741455,
          -6.675796985626221,
          -8.677294731140137,
          1.1978697776794434,
          -8.14087963104248,
          6.221456527709961,
          0.6906226873397827,
          -3.321077823638916,
          4.467295169830322,
          0.755017101764679,
          7.549078941345215,
          1.2333067655563354,
          1.1989095211029053,
          -0.10607509315013885,
          7.5755157470703125,
          12.849246978759766,
          11.290069580078125,
          7.478612422943115,
          -9.41445541381836,
          -1.2344341278076172,
          -2.3378796577453613,
          1.7678145170211792,
          0.7967380285263062,
          -7.098999977111816,
          -6.889461994171143,
          5.6746344566345215,
          -9.785075187683105,
          -6.286961078643799,
          -9.120760917663574,
          -1.7178287506103516,
          -0.2042916715145111,
          7.384260654449463,
          10.157251358032227,
          -8.79643726348877,
          8.019987106323242,
          0.840939462184906,
          0.2573097050189972,
          -0.30470991134643555,
          -1.4047834873199463,
          -1.5625721216201782,
          -1.0668866634368896,
          3.8623311519622803,
          -0.9186065196990967,
          7.453810691833496,
          1.172995686531067,
          -10.351061820983887,
          7.4135003089904785,
          -4.467942237854004,
          -0.23265428841114044,
          5.627318382263184,
          -3.498387098312378,
          6.506433010101318,
          4.425317287445068,
          -10.397869110107422,
          8.047981262207031,
          8.301217079162598,
          -1.014346957206726,
          -10.260594367980957,
          -11.046565055847168,
          4.290699005126953,
          3.0140609741210938,
          0.3604198098182678,
          -0.18111027777194977,
          -5.302781105041504,
          3.8705832958221436,
          3.667804002761841,
          -1.1779255867004395,
          -10.4533052444458,
          6.567935466766357,
          1.4101861715316772,
          4.870052814483643,
          7.6631574630737305,
          -1.2878456115722656,
          10.824737548828125,
          -9.477775573730469,
          0.7248148322105408,
          0.333627849817276,
          5.140600681304932,
          -3.6089611053466797,
          5.993774890899658,
          6.333850860595703,
          -4.803542613983154,
          0.884892463684082,
          4.7674880027771,
          -3.9326257705688477,
          -1.5037987232208252,
          1.8173915147781372,
          7.565823554992676,
          1.0210840702056885,
          -9.28298568725586,
          7.012997627258301,
          -4.226357460021973,
          7.607036113739014,
          9.351286888122559,
          -7.900311470031738,
          11.13673210144043,
          -6.833374500274658,
          -0.7597593665122986,
          -0.22911837697029114,
          0.65386962890625,
          -3.972728729248047,
          0.38873937726020813,
          1.3603730201721191,
          -2.317049503326416,
          -7.849740505218506,
          -9.171496391296387,
          -7.081040859222412,
          -0.36934560537338257,
          11.19405460357666,
          12.9595308303833,
          -1.367192029953003,
          8.107681274414062,
          -2.05985426902771,
          -7.530147552490234,
          1.975699543952942,
          7.083371162414551,
          1.6604690551757812,
          4.021782875061035,
          -11.45323371887207,
          1.3189783096313477,
          6.427897930145264,
          1.2936632633209229,
          4.101500034332275,
          -2.6998021602630615,
          -3.3798365592956543,
          -9.754168510437012,
          -6.776432991027832,
          7.89081335067749,
          2.323387861251831,
          3.605231523513794,
          -0.5454179048538208,
          0.4874086380004883,
          1.8243260383605957,
          -2.8499324321746826,
          0.13246771693229675,
          0.8611578941345215,
          11.933719635009766,
          -8.152976989746094,
          11.760149002075195,
          -9.40631103515625,
          -7.2178425788879395,
          -1.2344025373458862,
          -1.9384859800338745,
          -0.9385505318641663,
          -1.3365925550460815,
          -8.910916328430176,
          5.965678691864014,
          8.43057918548584,
          -4.870071887969971,
          6.016032695770264,
          6.278727054595947,
          -4.475329399108887,
          0.2000834345817566,
          5.61075496673584,
          0.04895583912730217,
          -1.3083574771881104,
          0.005772517062723637,
          6.829407691955566,
          -1.7410826683044434,
          -9.661224365234375,
          -6.234078407287598,
          0.33496078848838806,
          4.262339115142822,
          -9.75135326385498,
          1.567548155784607,
          -2.2494752407073975,
          1.9797964096069336,
          8.594585418701172,
          6.035977840423584,
          0.7870614528656006,
          -8.242576599121094,
          6.866066932678223,
          7.596880912780762,
          5.620567321777344,
          -3.9613471031188965,
          6.68156623840332,
          -0.8380256295204163,
          6.414625644683838,
          1.3384807109832764,
          -9.365154266357422,
          -4.233331203460693,
          5.94400691986084,
          -9.566471099853516,
          5.245532035827637,
          1.3468804359436035,
          -1.3068671226501465,
          3.6245198249816895,
          0.7171260714530945,
          6.3562726974487305,
          12.46744155883789,
          5.815439701080322,
          5.690158367156982,
          6.702899932861328,
          -10.206034660339355,
          -0.9934682250022888,
          7.278054714202881,
          -4.66057014465332,
          2.075132369995117,
          -5.028204917907715,
          -0.4424668550491333,
          0.4650585651397705,
          1.4334558248519897,
          7.720088005065918,
          -5.9740400314331055,
          11.882779121398926,
          -9.395416259765625,
          -8.70980453491211,
          -10.279335975646973,
          -1.3805992603302002,
          8.335785865783691,
          6.732327938079834,
          8.308388710021973,
          7.128254413604736,
          -10.923758506774902,
          -3.948707342147827,
          -3.55553936958313,
          -0.03863301873207092,
          0.4318785071372986,
          2.2109875679016113,
          -9.286421775817871,
          6.949754238128662,
          -6.963773250579834,
          5.064384460449219,
          5.3548054695129395,
          0.5316364169120789,
          10.686646461486816,
          -5.1436567306518555,
          -7.917181015014648,
          12.724043846130371,
          -9.610196113586426,
          0.37728261947631836,
          -5.005989074707031,
          -7.014588356018066,
          -5.529576301574707,
          -1.7394405603408813,
          4.94288444519043,
          1.9262757301330566,
          4.773808479309082,
          -3.4764912128448486,
          4.223625183105469,
          -8.664072036743164,
          -3.163072109222412,
          6.087265491485596,
          0.8828493356704712,
          -8.900193214416504,
          5.41326379776001,
          -1.753400444984436,
          -9.922438621520996,
          -2.4062747955322266,
          -10.67447566986084,
          1.5512133836746216,
          -0.9643945693969727,
          6.058475017547607,
          -3.2452380657196045,
          5.4952921867370605,
          7.0744948387146,
          1.6866530179977417,
          -2.699601173400879,
          -11.655799865722656,
          -5.982083797454834,
          -3.889820098876953,
          -4.908993721008301,
          -5.962568283081055,
          5.319506645202637,
          -0.9788041710853577,
          -8.442513465881348,
          1.0134308338165283,
          7.341350078582764,
          1.332554817199707,
          7.8327531814575195,
          -2.114569664001465,
          -0.5463755130767822,
          3.289654016494751,
          -9.97897720336914,
          2.004746675491333,
          -3.9073596000671387,
          -0.5073380470275879,
          -1.1211334466934204,
          5.060647010803223,
          6.013799667358398,
          -9.901902198791504,
          -4.48387336730957,
          -0.5274035334587097,
          -3.815678358078003,
          1.2176562547683716,
          -10.312840461730957,
          3.5587141513824463,
          -11.285089492797852,
          12.215132713317871,
          -0.6991775631904602,
          -2.614731550216675,
          -8.132015228271484,
          -4.847133636474609,
          2.100165843963623,
          -7.571238040924072,
          12.638079643249512,
          6.54348611831665,
          -2.6567177772521973,
          -1.1988694667816162,
          -2.2014987468719482,
          8.022880554199219,
          6.034303665161133,
          5.219851493835449,
          -0.06643558293581009,
          -8.599969863891602,
          -7.757903099060059,
          -5.370998382568359,
          7.9356889724731445,
          -10.661467552185059,
          0.4687223434448242,
          4.689510822296143,
          3.795642375946045,
          1.7304816246032715,
          6.315619945526123,
          -0.3101901710033417,
          -1.973128318786621,
          0.1595623940229416,
          -2.0981383323669434,
          -1.5580159425735474,
          1.3932533264160156,
          5.595441818237305,
          1.9109408855438232,
          4.949830532073975,
          -0.5454938411712646,
          -0.1035400852560997,
          -1.9726108312606812,
          1.2965106964111328,
          4.901859760284424,
          8.161554336547852,
          -2.277467966079712,
          -1.3402345180511475,
          1.3432395458221436,
          -8.648612022399902,
          0.5997627377510071,
          -1.9506666660308838,
          -5.429738998413086,
          0.538956880569458,
          -9.212481498718262,
          -6.424011707305908,
          4.294607639312744,
          -0.19434261322021484,
          4.572758197784424,
          -1.8620442152023315,
          -8.057806015014648,
          6.214766502380371,
          -0.8817129135131836,
          -6.370588302612305,
          -0.6268885135650635,
          -1.4894622564315796,
          -0.2154121696949005,
          8.573163032531738,
          6.280335903167725,
          -3.5036611557006836,
          6.4070868492126465,
          -2.556057929992676,
          -10.602787971496582,
          -7.044185161590576,
          0.08962034434080124,
          -3.640899896621704,
          -3.8332431316375732,
          -10.47375774383545,
          1.564322829246521,
          -8.739426612854004,
          -8.017332077026367,
          -0.8587208986282349,
          -10.676119804382324,
          6.986481666564941,
          -3.762979030609131,
          -9.417157173156738,
          -4.036908149719238,
          -7.526273250579834,
          -2.157686471939087,
          -8.437699317932129,
          -7.8725361824035645,
          12.582723617553711,
          7.8532538414001465,
          -6.288492202758789,
          -0.3521612882614136,
          4.734419822692871,
          -4.333460330963135,
          7.64893913269043,
          4.812376976013184,
          1.631970763206482,
          -2.9042749404907227,
          6.509618759155273,
          7.197475433349609,
          -6.21354866027832,
          -9.417825698852539,
          -3.3436777591705322,
          -5.8756232261657715,
          -11.077110290527344,
          7.545980453491211,
          3.266024112701416,
          1.8252482414245605,
          -2.472291946411133,
          -11.433049201965332,
          -3.544945001602173,
          4.656895160675049,
          6.101860046386719,
          5.129713535308838,
          4.0603508949279785,
          0.2087642103433609,
          -6.191758632659912,
          2.367231845855713,
          -8.132823944091797,
          4.632238864898682,
          -5.373415946960449,
          11.689632415771484,
          11.471254348754883,
          1.2433756589889526,
          -1.7927390336990356,
          0.3516365587711334,
          6.845741271972656,
          -10.010108947753906,
          0.7000429630279541,
          5.887175559997559,
          -9.181458473205566,
          0.8961984515190125,
          4.61224365234375,
          -2.6491575241088867,
          0.01344250701367855,
          -1.930416226387024,
          8.360803604125977,
          0.9624013900756836,
          7.752223014831543,
          6.063582897186279,
          -8.293293952941895,
          5.997637748718262,
          0.3170122504234314,
          5.348660945892334,
          -9.629490852355957,
          0.3229377567768097,
          -3.555480718612671,
          6.48356294631958,
          -2.074150323867798,
          11.64600944519043,
          -0.9165528416633606,
          -5.350444793701172,
          -4.9604973793029785,
          -7.556498050689697,
          -1.99463951587677,
          -2.596576690673828,
          5.627712249755859,
          -10.08337116241455,
          -2.1623358726501465,
          -1.522605538368225,
          -7.1072211265563965,
          5.666130065917969,
          -4.678472518920898,
          -5.923095703125,
          -8.130200386047363,
          -5.208637237548828,
          -0.6329737305641174,
          0.27831724286079407,
          -6.14387321472168,
          12.608418464660645,
          1.0200083255767822,
          1.941975474357605,
          -0.10771703720092773,
          7.125387668609619,
          -10.572954177856445,
          7.906300067901611,
          -3.764768123626709,
          11.186413764953613,
          -5.68080997467041,
          1.5571224689483643,
          6.508251667022705,
          -3.8579368591308594,
          1.2208932638168335,
          0.40007278323173523,
          6.872517108917236,
          -6.773075580596924,
          -8.332558631896973,
          -1.254368543624878,
          5.799736499786377,
          -7.409978866577148,
          -2.2840847969055176,
          1.4400274753570557,
          -9.13741397857666,
          2.1128761768341064,
          0.923307478427887,
          -5.061495304107666,
          6.7624711990356445,
          0.5080481171607971,
          0.9258251786231995,
          -1.6386841535568237,
          -0.886756420135498,
          2.486098051071167,
          -3.514691114425659,
          -4.90023946762085,
          0.5375336408615112,
          7.43536376953125,
          -3.3661916255950928,
          -11.307694435119629,
          -4.508732795715332,
          -5.348410606384277,
          -9.960272789001465,
          2.1612372398376465,
          -3.94470477104187,
          -7.768283367156982,
          0.43550029397010803,
          0.13532255589962006,
          -5.502684593200684,
          12.614575386047363,
          -2.527832269668579,
          12.323267936706543,
          -1.446324348449707,
          0.6491193175315857,
          5.106226921081543,
          -8.393036842346191,
          -4.860576629638672,
          -6.804901599884033,
          -3.9925928115844727,
          6.220118045806885,
          6.953176498413086,
          5.5143938064575195,
          8.046015739440918,
          7.872621536254883,
          7.0546088218688965,
          -1.7970670461654663,
          -5.859909534454346,
          -1.9464751482009888,
          5.712429523468018,
          1.9394917488098145,
          -3.1394741535186768,
          3.642798662185669,
          8.342638969421387,
          0.762417733669281,
          0.9554610848426819,
          8.064454078674316,
          -5.962469577789307,
          -9.085838317871094,
          12.243525505065918,
          -1.5696505308151245,
          -1.4482011795043945,
          -3.3662352561950684,
          -2.003861904144287,
          -4.8918609619140625,
          -1.077209234237671,
          -1.3392449617385864,
          7.631953239440918,
          4.2797722816467285,
          -5.659698009490967,
          -0.3070729672908783,
          1.1767867803573608,
          -0.775856614112854,
          -11.001776695251465,
          -6.353323459625244,
          -11.508764266967773,
          -2.5899696350097656,
          -1.2731796503067017,
          -4.619678974151611,
          -8.894227027893066,
          -4.218683242797852,
          1.779771089553833,
          -0.05971500277519226,
          -0.25728678703308105,
          -3.220177173614502,
          2.194873571395874,
          5.543262481689453,
          -3.992464303970337,
          1.5230969190597534,
          -7.834644794464111,
          -4.541310787200928,
          -3.814786195755005,
          2.0975942611694336,
          12.086807250976562,
          -8.76172161102295,
          1.883854627609253,
          12.34090805053711,
          5.325700759887695,
          -4.89581823348999,
          0.567284345626831,
          4.136896133422852,
          1.9126919507980347,
          5.656744480133057,
          6.786237716674805,
          5.813442230224609,
          1.7984579801559448,
          1.419761061668396,
          -4.759709358215332,
          -5.151169300079346,
          -2.7473573684692383,
          -7.431737422943115,
          7.598880290985107,
          -10.347701072692871,
          -9.520709991455078,
          6.6371169090271,
          3.340470790863037,
          1.6406031847000122,
          -1.4966181516647339,
          -5.624241828918457,
          0.34452611207962036,
          -9.283452033996582,
          -0.15699857473373413,
          0.9212602972984314,
          7.715424537658691,
          -1.161788821220398,
          -10.837258338928223,
          -6.987627983093262,
          0.05534839630126953,
          3.3691482543945312,
          0.2430083006620407,
          -7.00504732131958,
          -9.40548038482666,
          1.7242006063461304,
          0.49008360505104065,
          -9.804001808166504,
          -9.500997543334961,
          1.8710105419158936,
          -8.685184478759766,
          2.2766571044921875,
          6.700706958770752,
          5.678890705108643,
          1.132989525794983,
          -0.6102200746536255,
          2.2093265056610107,
          -1.2977275848388672,
          -9.506806373596191,
          4.857936859130859,
          0.5656912326812744,
          7.430760383605957,
          -6.740912437438965,
          6.217015266418457,
          -8.525218963623047,
          -0.8507407307624817,
          7.473269462585449,
          -0.12571437656879425,
          0.3788664638996124,
          -5.697250843048096,
          0.008083779364824295,
          -8.940960884094238,
          -7.899709701538086,
          -1.7443674802780151,
          -4.644768238067627,
          -3.1330158710479736,
          -7.635361671447754,
          4.459690093994141,
          -11.03615951538086,
          -6.8930983543396,
          7.501730918884277,
          10.827518463134766,
          -6.475062847137451,
          4.0223774909973145,
          -4.34521484375,
          5.590807914733887,
          12.862383842468262,
          -11.000787734985352,
          -0.7836882472038269,
          0.14884988963603973,
          -8.58426570892334,
          10.576586723327637,
          -10.046364784240723,
          7.124937057495117,
          -4.728984355926514,
          -5.389822959899902,
          -4.639007091522217,
          -8.169194221496582,
          -0.41442322731018066,
          -4.971997261047363,
          -0.4586265981197357,
          0.3197426497936249,
          -4.970462322235107,
          -4.686543941497803,
          12.188055992126465,
          5.263225555419922,
          6.399866580963135,
          -4.295291900634766,
          6.187285423278809,
          11.12740707397461,
          -3.094080924987793,
          2.232522487640381,
          1.311505913734436,
          5.885672569274902,
          2.192842483520508,
          4.192725658416748,
          -3.7089436054229736,
          -0.5295614004135132,
          -11.363359451293945,
          2.2640886306762695,
          1.5798522233963013,
          -2.6814723014831543,
          1.6590580940246582,
          11.863402366638184,
          0.015497621148824692,
          -10.712294578552246,
          5.305994987487793,
          -1.48489511013031,
          -9.17127513885498,
          -11.224345207214355,
          1.861608624458313,
          -3.8181259632110596,
          -1.4631428718566895,
          7.010993003845215,
          0.8625634908676147
         ],
         "z": [
          -3.419257402420044,
          3.4080021381378174,
          -5.987978935241699,
          4.814886093139648,
          -2.5889534950256348,
          0.044512566179037094,
          -3.4816362857818604,
          -0.14101004600524902,
          -2.943681478500366,
          -2.456230640411377,
          -6.182175636291504,
          -3.7825539112091064,
          11.264771461486816,
          5.029433250427246,
          11.307547569274902,
          4.488481521606445,
          11.721850395202637,
          4.215566635131836,
          -9.696849822998047,
          2.1301214694976807,
          0.5680986642837524,
          0.1542261838912964,
          5.555457592010498,
          0.3826025724411011,
          0.42874476313591003,
          3.3565244674682617,
          1.413731575012207,
          -0.7104804515838623,
          4.086394309997559,
          -9.821606636047363,
          3.6284258365631104,
          -1.5827223062515259,
          0.9286032319068909,
          -2.7536351680755615,
          -2.591391086578369,
          3.497347354888916,
          -2.064272403717041,
          6.640928745269775,
          -4.878879070281982,
          0.1649927943944931,
          3.3149547576904297,
          0.9213358759880066,
          1.2848414182662964,
          1.0950571298599243,
          -1.6370301246643066,
          1.5061224699020386,
          0.24953217804431915,
          4.585493564605713,
          3.41398024559021,
          -4.95165491104126,
          -2.8990042209625244,
          4.395744800567627,
          2.4205827713012695,
          -0.2801710069179535,
          -3.349705457687378,
          -0.9444124698638916,
          -1.1160972118377686,
          3.462519645690918,
          0.48037266731262207,
          2.0543410778045654,
          5.772943496704102,
          -1.1987864971160889,
          -1.9979441165924072,
          0.07025808840990067,
          -5.493589878082275,
          -0.7069534659385681,
          0.8424317240715027,
          6.748399257659912,
          -2.562617063522339,
          0.4145466089248657,
          -2.032806634902954,
          -0.7061992287635803,
          3.825559139251709,
          6.686896800994873,
          -1.5934197902679443,
          -2.9631896018981934,
          -1.3108211755752563,
          1.5280101299285889,
          3.087160348892212,
          1.034281611442566,
          -6.154439449310303,
          5.164294242858887,
          1.0347498655319214,
          4.08715295791626,
          1.3020644187927246,
          2.407886266708374,
          0.716927170753479,
          8.102079391479492,
          0.1885422021150589,
          3.045703172683716,
          -2.926295280456543,
          -1.0212037563323975,
          -3.185337543487549,
          7.427460670471191,
          2.4610440731048584,
          1.0091805458068848,
          1.206168293952942,
          0.6673611998558044,
          3.007906913757324,
          -5.8947930335998535,
          3.6164305210113525,
          -2.7674405574798584,
          -1.6022766828536987,
          -2.0841243267059326,
          3.9830305576324463,
          5.563311576843262,
          3.067500591278076,
          2.7388601303100586,
          -0.4744182229042053,
          -4.160810470581055,
          0.4090573191642761,
          -4.935757160186768,
          -5.760521411895752,
          -1.760168194770813,
          -1.4458694458007812,
          1.0924146175384521,
          -3.8602817058563232,
          -3.0622963905334473,
          2.895000457763672,
          -5.764859676361084,
          -4.2851057052612305,
          1.0172532796859741,
          -5.43866491317749,
          2.3827829360961914,
          10.964966773986816,
          -6.037534713745117,
          9.215667724609375,
          1.3620681762695312,
          4.757431983947754,
          -4.861566066741943,
          1.3435527086257935,
          9.966553688049316,
          3.2208218574523926,
          0.21896037459373474,
          4.3935699462890625,
          2.3231751918792725,
          3.2128570079803467,
          -1.3882535696029663,
          -6.279579162597656,
          -5.624990940093994,
          4.399556636810303,
          3.2608704566955566,
          3.149897813796997,
          -4.5398101806640625,
          -5.5472493171691895,
          -5.511924743652344,
          -0.7582148909568787,
          -0.6657693386077881,
          -4.068177700042725,
          3.0258240699768066,
          2.0698816776275635,
          -2.21713924407959,
          -1.1455919742584229,
          0.7565244436264038,
          0.8889888525009155,
          -5.849848747253418,
          3.143944025039673,
          -11.131648063659668,
          4.670772075653076,
          -9.127925872802734,
          3.8480136394500732,
          -2.693918466567993,
          2.878413200378418,
          2.8959882259368896,
          -5.093087196350098,
          4.671997547149658,
          5.027249813079834,
          -1.282045602798462,
          4.52031946182251,
          2.9498729705810547,
          6.935000896453857,
          2.4408650398254395,
          3.122312307357788,
          -9.794589042663574,
          -1.00008225440979,
          -5.155229091644287,
          2.8178842067718506,
          0.6585925221443176,
          -3.387097120285034,
          9.425469398498535,
          4.780700206756592,
          4.06528377532959,
          5.06831169128418,
          6.128997802734375,
          -3.24605655670166,
          -0.5282422304153442,
          -1.7317113876342773,
          2.946042060852051,
          -11.209177017211914,
          6.511577606201172,
          2.1424732208251953,
          3.3360981941223145,
          0.3983013927936554,
          5.95768404006958,
          1.7144743204116821,
          2.2616920471191406,
          -4.980034828186035,
          0.96730637550354,
          -4.9674530029296875,
          -4.026398181915283,
          -4.224153995513916,
          2.9651601314544678,
          6.983720779418945,
          11.807501792907715,
          -5.221892833709717,
          -1.240855097770691,
          -4.362320423126221,
          2.5877387523651123,
          -1.757341980934143,
          4.402945518493652,
          2.516817331314087,
          0.8387407660484314,
          -4.976737022399902,
          -0.5319079160690308,
          3.547252655029297,
          4.160699367523193,
          5.549018383026123,
          -0.7671508193016052,
          -2.8930411338806152,
          -5.174818515777588,
          0.17454418540000916,
          3.3559043407440186,
          6.583998203277588,
          9.7391357421875,
          0.9731917381286621,
          -10.09268856048584,
          -0.7526683807373047,
          -5.243041515350342,
          -4.2686028480529785,
          -4.642220973968506,
          0.5402601957321167,
          7.610808849334717,
          3.160688877105713,
          -5.539917469024658,
          -1.222535490989685,
          4.507432460784912,
          -2.9760873317718506,
          -2.3938467502593994,
          3.038227081298828,
          1.086042881011963,
          3.820876121520996,
          0.6165747046470642,
          3.498060703277588,
          -6.181390285491943,
          0.17352741956710815,
          11.409521102905273,
          4.581432819366455,
          -0.46725383400917053,
          2.396362543106079,
          -1.2829147577285767,
          2.309877634048462,
          1.6646515130996704,
          2.261784553527832,
          5.656631946563721,
          1.9897061586380005,
          -1.7077152729034424,
          -11.249383926391602,
          -9.626179695129395,
          -9.807382583618164,
          -4.371860980987549,
          1.3656092882156372,
          -0.5114628076553345,
          -4.830566883087158,
          3.9080870151519775,
          -1.3166683912277222,
          -3.642575263977051,
          -9.933927536010742,
          -8.764812469482422,
          -1.9730180501937866,
          -2.8857526779174805,
          -1.3975456953048706,
          0.7704519629478455,
          5.160505771636963,
          3.3340511322021484,
          -5.071621417999268,
          7.874819278717041,
          8.98654842376709,
          1.050075650215149,
          2.9706881046295166,
          10.470234870910645,
          5.973986625671387,
          2.0021731853485107,
          -1.9059103727340698,
          6.391106605529785,
          -2.480036973953247,
          1.785377860069275,
          4.686922073364258,
          2.389038562774658,
          -2.0678980350494385,
          -8.70890998840332,
          -5.44221830368042,
          -6.233516216278076,
          2.831888198852539,
          5.0847392082214355,
          -0.9043651819229126,
          3.81699275970459,
          -2.183476686477661,
          3.7108676433563232,
          -4.139833450317383,
          -5.588926315307617,
          11.04544448852539,
          -6.272177696228027,
          0.45996057987213135,
          -0.41225096583366394,
          5.002049446105957,
          -0.6780990958213806,
          -0.49740198254585266,
          6.8266706466674805,
          4.380657196044922,
          5.399958610534668,
          3.8019392490386963,
          -3.121208906173706,
          -5.430273532867432,
          -6.529844284057617,
          -1.6955057382583618,
          4.836927890777588,
          10.388033866882324,
          -1.2052255868911743,
          0.4175534248352051,
          -2.0248947143554688,
          0.3656478226184845,
          1.9775177240371704,
          4.947538375854492,
          -2.917189359664917,
          4.25811243057251,
          9.265580177307129,
          -2.6057255268096924,
          -0.14666862785816193,
          3.841186046600342,
          3.2371983528137207,
          -5.867084503173828,
          0.6991698145866394,
          -5.420709133148193,
          0.9674600958824158,
          -0.4175529181957245,
          -6.4900689125061035,
          -1.7487480640411377,
          10.416799545288086,
          0.5331166982650757,
          2.632328510284424,
          1.2889736890792847,
          -1.2116568088531494,
          8.036319732666016,
          6.976274013519287,
          1.997225046157837,
          -2.2674732208251953,
          -11.54796028137207,
          -10.696548461914062,
          -3.539487600326538,
          -2.0195152759552,
          0.9877232909202576,
          -1.1294513940811157,
          -6.189501762390137,
          -0.34552285075187683,
          0.11671940982341766,
          -5.814115047454834,
          11.394491195678711,
          -3.3601694107055664,
          2.5365397930145264,
          -10.378473281860352,
          -5.075278282165527,
          1.047286868095398,
          3.300389289855957,
          -5.716568470001221,
          -8.451244354248047,
          -4.396783351898193,
          -9.129666328430176,
          5.8339080810546875,
          -3.2292819023132324,
          2.752133369445801,
          -0.6886520981788635,
          -1.4922337532043457,
          -5.31919002532959,
          0.5873470902442932,
          2.0702247619628906,
          -6.190691947937012,
          -10.691226959228516,
          1.6744974851608276,
          -4.040770530700684,
          -8.867642402648926,
          -4.4487481117248535,
          1.2822543382644653,
          -1.458654761314392,
          1.1422497034072876,
          0.5836753845214844,
          -1.2787387371063232,
          -1.0874818563461304,
          -3.744257688522339,
          0.7378538250923157,
          6.109699249267578,
          0.5126563310623169,
          9.674527168273926,
          10.45161247253418,
          -3.330075740814209,
          -1.9082887172698975,
          -4.160179138183594,
          -2.692237377166748,
          -9.214210510253906,
          -5.479330539703369,
          -10.053034782409668,
          -5.711479663848877,
          1.4382141828536987,
          3.8694229125976562,
          -3.017920970916748,
          3.0793328285217285,
          4.239068984985352,
          1.6168944835662842,
          -1.4726670980453491,
          -5.482577323913574,
          1.2819808721542358,
          -1.629934549331665,
          1.6633501052856445,
          10.105965614318848,
          2.712594509124756,
          -1.9385919570922852,
          4.432893753051758,
          10.864789962768555,
          -6.298201084136963,
          4.442709922790527,
          4.970275402069092,
          9.516016006469727,
          8.414022445678711,
          -5.055047035217285,
          0.7696018815040588,
          4.174499988555908,
          -1.5907611846923828,
          -5.580895900726318,
          -1.8395715951919556,
          3.443176507949829,
          -0.6701911091804504,
          -3.7288143634796143,
          2.38722562789917,
          1.392250418663025,
          -2.259920120239258,
          0.7280437350273132,
          -3.210843086242676,
          -2.505824327468872,
          -5.710968017578125,
          -3.9860634803771973,
          -0.32014691829681396,
          -2.6508073806762695,
          -2.3801052570343018,
          1.6818345785140991,
          -2.8267087936401367,
          -2.3973467350006104,
          -1.6069716215133667,
          1.715189814567566,
          -5.7181477546691895,
          4.886204719543457,
          0.5348499417304993,
          -4.151654243469238,
          4.074461460113525,
          0.06644955277442932,
          6.866168975830078,
          10.65328311920166,
          -4.192258358001709,
          10.082921028137207,
          10.641523361206055,
          -6.5614118576049805,
          4.724676609039307,
          -3.5518362522125244,
          -2.200328826904297,
          -1.598493218421936,
          0.6761086583137512,
          3.155301094055176,
          11.400701522827148,
          -1.0258917808532715,
          2.2617814540863037,
          3.486355781555176,
          -1.910871982574463,
          0.20056971907615662,
          -2.2260007858276367,
          -2.0388667583465576,
          1.1270376443862915,
          -5.630765914916992,
          0.22088085114955902,
          4.514847755432129,
          -1.1652746200561523,
          -2.949151039123535,
          -3.421740770339966,
          4.190266132354736,
          -1.2565033435821533,
          5.888352870941162,
          -2.7625732421875,
          4.728157043457031,
          -4.9534382820129395,
          -1.8467023372650146,
          10.06932258605957,
          -1.6437283754348755,
          2.8426620960235596,
          3.821053981781006,
          1.8459420204162598,
          -4.726850986480713,
          -2.4968221187591553,
          -6.373345375061035,
          1.3454078435897827,
          0.7491850852966309,
          4.191518783569336,
          -2.146371841430664,
          -1.3544896841049194,
          -3.9916391372680664,
          -10.680384635925293,
          -3.16526198387146,
          -4.710004806518555,
          4.264974594116211,
          -2.0021305084228516,
          -2.6453351974487305,
          -3.667229652404785,
          5.192739486694336,
          7.281937599182129,
          -2.2776567935943604,
          1.831967830657959,
          10.758259773254395,
          1.4142444133758545,
          -4.494430065155029,
          -3.4580399990081787,
          6.188113689422607,
          3.3676068782806396,
          -6.353875160217285,
          -3.1607515811920166,
          3.1882054805755615,
          -4.155765056610107,
          7.090043067932129,
          4.721738815307617,
          -5.653215408325195,
          -3.625613212585449,
          3.832653522491455,
          8.071385383605957,
          -0.7466967105865479,
          -8.854358673095703,
          -3.955897331237793,
          3.058610200881958,
          -0.14473973214626312,
          -0.021375760436058044,
          5.731318950653076,
          0.8565937876701355,
          2.2754361629486084,
          -1.5396058559417725,
          0.5428430438041687,
          -0.9684587717056274,
          0.3969106078147888,
          -0.4740336835384369,
          -2.0230350494384766,
          -3.4789934158325195,
          1.7666125297546387,
          11.489286422729492,
          4.302356243133545,
          -1.5177233219146729,
          4.726766586303711,
          3.292205572128296,
          4.065290927886963,
          2.7247767448425293,
          -1.9863886833190918,
          -0.5722312331199646,
          -8.515279769897461,
          5.557082176208496,
          5.298870086669922,
          -3.0532867908477783,
          -2.12365984916687,
          8.079627990722656,
          -4.005865573883057,
          -3.111501932144165,
          -2.709245443344116,
          -3.6000404357910156,
          0.07615452259778976,
          -3.1058688163757324,
          -10.217727661132812,
          5.839407920837402,
          7.505204677581787,
          6.8476338386535645,
          -4.166436672210693,
          0.17572695016860962,
          2.4349989891052246,
          11.222114562988281,
          3.7283527851104736,
          -6.068939685821533,
          -9.51075553894043,
          4.798023223876953,
          -8.526335716247559,
          1.9482946395874023,
          2.449470281600952,
          -8.754411697387695,
          -4.439474582672119,
          -2.290785789489746,
          5.4313788414001465,
          -0.3002873659133911,
          3.7974770069122314,
          -2.205249547958374,
          -2.184119939804077,
          -5.9795708656311035,
          2.4204206466674805,
          3.811204195022583,
          6.830628871917725,
          -1.9014835357666016,
          8.102949142456055,
          9.747599601745605,
          9.98171615600586,
          -2.4375948905944824,
          10.317933082580566,
          -2.215728282928467,
          -0.5728877782821655,
          -1.1801567077636719,
          -8.637621879577637,
          -2.5777456760406494,
          -0.7484278678894043,
          -5.4871649742126465,
          -3.440934658050537,
          2.7265102863311768,
          -0.8230040669441223,
          2.424272298812866,
          -5.189814567565918,
          -5.052095890045166,
          3.9563698768615723,
          -5.170306205749512,
          -1.8746823072433472,
          -1.221097707748413,
          -2.0154850482940674,
          3.6601009368896484,
          3.0147151947021484,
          0.7659892439842224,
          -6.165798187255859,
          -1.9981659650802612,
          6.315795421600342,
          -1.402998447418213,
          -2.113189220428467,
          8.933633804321289,
          4.259899616241455,
          1.482750654220581,
          -4.137139797210693,
          2.5027425289154053,
          9.171491622924805,
          -1.5009013414382935,
          0.7283676266670227,
          -3.796581268310547,
          4.4800238609313965,
          -4.76685094833374,
          -1.748070240020752,
          4.992025375366211,
          -1.4673866033554077,
          3.401484489440918,
          -5.239696025848389,
          2.945063829421997,
          -1.1678521633148193,
          -1.9962990283966064,
          3.652907609939575,
          5.7506327629089355,
          6.86601448059082,
          -1.304561734199524,
          3.5161068439483643,
          -1.134005069732666,
          5.550078392028809,
          -2.435755968093872,
          1.189672589302063,
          -0.18735027313232422,
          1.8975234031677246,
          -1.5080442428588867,
          0.9401587247848511,
          10.243962287902832,
          -3.9842472076416016,
          1.4262216091156006,
          3.7551894187927246,
          0.6462478041648865,
          -4.398043632507324,
          3.9050545692443848,
          -3.4188144207000732,
          -9.158792495727539,
          1.9810351133346558,
          9.149683952331543,
          0.08654031157493591,
          9.802886009216309,
          4.043569087982178,
          4.528992652893066,
          2.0094640254974365,
          1.122140645980835,
          1.7667893171310425,
          0.8949798941612244,
          -1.5717507600784302,
          2.779258966445923,
          9.721343994140625,
          2.633444309234619,
          0.08511696010828018,
          2.3941104412078857,
          4.554166793823242,
          -1.774288535118103,
          4.208573341369629,
          -2.5662057399749756,
          -3.3479135036468506,
          3.016087770462036,
          0.40033581852912903,
          -3.388542652130127,
          -1.6054037809371948,
          -2.1419448852539062,
          3.5143401622772217,
          4.546482563018799,
          -3.6558189392089844,
          4.205498218536377,
          -1.99498450756073,
          5.550541877746582,
          -3.1615524291992188,
          -2.3136444091796875,
          1.0107799768447876,
          -10.004470825195312,
          0.5868780016899109,
          -8.95937728881836,
          -5.160265922546387,
          -0.25181618332862854,
          10.191959381103516,
          -2.6105332374572754,
          0.6222540736198425,
          -3.287318706512451,
          1.3999227285385132,
          -0.41085904836654663,
          -2.678650140762329,
          -9.10235595703125,
          1.6727299690246582,
          -6.129293918609619,
          3.8877134323120117,
          -0.8539118766784668,
          6.527332305908203,
          2.284120798110962,
          -2.2826247215270996,
          -1.4964693784713745,
          -10.783010482788086,
          3.2344484329223633,
          1.392844557762146,
          -11.19140338897705,
          3.111116647720337,
          9.691803932189941,
          1.4946147203445435,
          -9.7777099609375,
          -1.1486177444458008,
          2.4363067150115967,
          1.7475826740264893,
          -2.5126748085021973,
          3.6803719997406006,
          0.052096277475357056,
          10.805509567260742,
          1.8890304565429688,
          -0.15784364938735962,
          -2.646925210952759,
          3.387629508972168,
          -4.768318176269531,
          1.4900416135787964,
          4.898270130157471,
          -0.939288854598999,
          1.8465797901153564,
          -10.683566093444824,
          -2.1303279399871826,
          0.22075040638446808,
          -1.3699549436569214,
          -0.5243069529533386,
          -1.8305485248565674,
          1.4993648529052734,
          5.204203128814697,
          3.537158489227295,
          -2.749721050262451,
          -2.8411686420440674,
          5.267062187194824,
          -1.4964189529418945,
          -0.7808722257614136,
          -0.47136491537094116,
          -5.860260963439941,
          10.239518165588379,
          -2.0099663734436035,
          3.391103506088257,
          3.100428342819214,
          2.9249484539031982,
          -1.1594642400741577,
          0.6063207983970642,
          -1.79975426197052,
          4.881672382354736,
          10.81036376953125,
          1.1608929634094238,
          -0.0012201720383018255,
          -5.029007434844971,
          4.264534950256348,
          4.60972261428833,
          -0.04776543006300926,
          -2.6997451782226562,
          2.361729383468628,
          2.962390661239624,
          -1.9197616577148438,
          -2.074373483657837,
          -5.544416904449463,
          7.128846645355225,
          -4.343076705932617,
          3.194772243499756,
          -2.8010103702545166,
          -4.45817756652832,
          -10.360479354858398,
          -6.175806522369385,
          -6.363675594329834,
          -1.597086787223816,
          -4.9056854248046875,
          3.416487693786621,
          -2.963932514190674,
          3.6365139484405518,
          2.6114137172698975,
          -2.3836984634399414,
          2.1383895874023438,
          7.110733985900879,
          6.273262023925781,
          2.9726598262786865,
          1.9917634725570679,
          3.087977409362793,
          -0.6230080723762512,
          0.469277024269104,
          2.92513108253479,
          -2.7717599868774414,
          -1.630588173866272,
          -1.8814308643341064,
          -0.5523843765258789,
          3.6442086696624756,
          -0.9796701669692993,
          -0.48590290546417236,
          0.1326029896736145,
          -1.676109790802002,
          0.04551118239760399,
          3.8680737018585205,
          -10.43664836883545,
          3.2818987369537354,
          -6.421964168548584,
          3.5409059524536133,
          1.791579246520996,
          0.07642804831266403,
          -1.844176173210144,
          3.6242239475250244,
          2.1755058765411377,
          -1.6392463445663452,
          -4.8394646644592285,
          -5.738365650177002,
          -4.696828365325928,
          3.4480140209198,
          2.902097463607788,
          1.7121500968933105,
          5.660210609436035,
          -1.5555371046066284,
          1.2385423183441162,
          -1.957732081413269,
          -2.9730889797210693,
          -10.498297691345215,
          9.233112335205078,
          2.424872636795044,
          0.12768788635730743,
          -2.8547658920288086,
          1.605373740196228,
          5.028813362121582,
          -10.432851791381836,
          4.7020263671875,
          -0.7733903527259827,
          -0.31248319149017334,
          0.5253914594650269,
          -0.5232053399085999,
          -5.78286075592041,
          1.6577147245407104,
          3.55519437789917,
          0.17462365329265594,
          -5.009617805480957,
          4.837950706481934,
          1.0603007078170776,
          -5.794186592102051,
          0.9290637969970703,
          2.9805686473846436,
          0.5891713500022888,
          2.3026115894317627,
          -10.727439880371094,
          9.074714660644531,
          4.4451823234558105,
          -1.9296642541885376,
          4.016366004943848,
          0.14114785194396973,
          11.516316413879395,
          -3.1206116676330566,
          -0.4846847355365753,
          3.994258165359497,
          0.7266984581947327,
          4.80819034576416,
          -1.4720401763916016,
          -5.1187310218811035,
          -2.3647634983062744,
          -3.5707690715789795,
          2.3573362827301025,
          3.0885720252990723,
          -4.511541843414307,
          -1.1068475246429443,
          -1.7443056106567383,
          0.4777919352054596,
          4.400535583496094,
          4.79639196395874,
          -1.7610794305801392,
          -0.8639984726905823,
          0.48754826188087463,
          -5.839239120483398,
          6.038368225097656,
          6.4151692390441895,
          -4.414797782897949,
          0.06101047620177269,
          -0.6171557903289795,
          -5.052240371704102,
          -1.2798361778259277,
          -3.572802782058716,
          -1.4748401641845703,
          -1.1267324686050415,
          0.8736085295677185,
          4.202824115753174,
          6.266536235809326,
          -10.72428035736084,
          -2.9419307708740234,
          -2.6846723556518555,
          0.36574995517730713,
          4.381891250610352,
          3.105205535888672,
          -0.7055801153182983,
          -0.6065144538879395,
          0.8437453508377075,
          2.661947250366211,
          -1.9043232202529907,
          -9.223197937011719,
          -4.938021183013916,
          -2.8827531337738037,
          4.601100444793701,
          -2.365402936935425,
          -4.952357769012451,
          0.020920759066939354,
          0.8650243282318115,
          -10.68830680847168,
          3.8368101119995117,
          1.3675572872161865,
          0.34158051013946533,
          1.4501967430114746,
          -5.280329704284668,
          2.8777785301208496,
          -2.9557878971099854,
          3.1869051456451416,
          -0.10343111306428909,
          -1.8004807233810425,
          -2.8072197437286377,
          -1.9815585613250732,
          -5.675446033477783,
          -10.252102851867676
         ]
        },
        {
         "marker": {
          "color": [
           [
            0,
            0,
            0.5,
            1
           ],
           [
            0,
            0,
            0.731729055258467,
            1
           ],
           [
            0,
            0,
            0.963458110516934,
            1
           ],
           [
            0,
            0.12745098039215685,
            1,
            1
           ]
          ],
          "opacity": 1,
          "size": 7,
          "symbol": "cross"
         },
         "mode": "markers",
         "type": "scatter3d",
         "x": [
          -0.27242910861968994,
          12.563064575195312,
          7.580519199371338,
          8.114404678344727
         ],
         "y": [
          -6.89937162399292,
          -7.431737422943115,
          -0.3709602952003479,
          -0.6102200746536255
         ],
         "z": [
          4.814886093139648,
          -1.6392463445663452,
          -6.154439449310303,
          -5.794186592102051
         ]
        }
       ],
       "layout": {
        "margin": {
         "b": 0,
         "l": 0,
         "r": 0,
         "t": 0
        },
        "template": {
         "data": {
          "bar": [
           {
            "error_x": {
             "color": "#2a3f5f"
            },
            "error_y": {
             "color": "#2a3f5f"
            },
            "marker": {
             "line": {
              "color": "#E5ECF6",
              "width": 0.5
             },
             "pattern": {
              "fillmode": "overlay",
              "size": 10,
              "solidity": 0.2
             }
            },
            "type": "bar"
           }
          ],
          "barpolar": [
           {
            "marker": {
             "line": {
              "color": "#E5ECF6",
              "width": 0.5
             },
             "pattern": {
              "fillmode": "overlay",
              "size": 10,
              "solidity": 0.2
             }
            },
            "type": "barpolar"
           }
          ],
          "carpet": [
           {
            "aaxis": {
             "endlinecolor": "#2a3f5f",
             "gridcolor": "white",
             "linecolor": "white",
             "minorgridcolor": "white",
             "startlinecolor": "#2a3f5f"
            },
            "baxis": {
             "endlinecolor": "#2a3f5f",
             "gridcolor": "white",
             "linecolor": "white",
             "minorgridcolor": "white",
             "startlinecolor": "#2a3f5f"
            },
            "type": "carpet"
           }
          ],
          "choropleth": [
           {
            "colorbar": {
             "outlinewidth": 0,
             "ticks": ""
            },
            "type": "choropleth"
           }
          ],
          "contour": [
           {
            "colorbar": {
             "outlinewidth": 0,
             "ticks": ""
            },
            "colorscale": [
             [
              0,
              "#0d0887"
             ],
             [
              0.1111111111111111,
              "#46039f"
             ],
             [
              0.2222222222222222,
              "#7201a8"
             ],
             [
              0.3333333333333333,
              "#9c179e"
             ],
             [
              0.4444444444444444,
              "#bd3786"
             ],
             [
              0.5555555555555556,
              "#d8576b"
             ],
             [
              0.6666666666666666,
              "#ed7953"
             ],
             [
              0.7777777777777778,
              "#fb9f3a"
             ],
             [
              0.8888888888888888,
              "#fdca26"
             ],
             [
              1,
              "#f0f921"
             ]
            ],
            "type": "contour"
           }
          ],
          "contourcarpet": [
           {
            "colorbar": {
             "outlinewidth": 0,
             "ticks": ""
            },
            "type": "contourcarpet"
           }
          ],
          "heatmap": [
           {
            "colorbar": {
             "outlinewidth": 0,
             "ticks": ""
            },
            "colorscale": [
             [
              0,
              "#0d0887"
             ],
             [
              0.1111111111111111,
              "#46039f"
             ],
             [
              0.2222222222222222,
              "#7201a8"
             ],
             [
              0.3333333333333333,
              "#9c179e"
             ],
             [
              0.4444444444444444,
              "#bd3786"
             ],
             [
              0.5555555555555556,
              "#d8576b"
             ],
             [
              0.6666666666666666,
              "#ed7953"
             ],
             [
              0.7777777777777778,
              "#fb9f3a"
             ],
             [
              0.8888888888888888,
              "#fdca26"
             ],
             [
              1,
              "#f0f921"
             ]
            ],
            "type": "heatmap"
           }
          ],
          "heatmapgl": [
           {
            "colorbar": {
             "outlinewidth": 0,
             "ticks": ""
            },
            "colorscale": [
             [
              0,
              "#0d0887"
             ],
             [
              0.1111111111111111,
              "#46039f"
             ],
             [
              0.2222222222222222,
              "#7201a8"
             ],
             [
              0.3333333333333333,
              "#9c179e"
             ],
             [
              0.4444444444444444,
              "#bd3786"
             ],
             [
              0.5555555555555556,
              "#d8576b"
             ],
             [
              0.6666666666666666,
              "#ed7953"
             ],
             [
              0.7777777777777778,
              "#fb9f3a"
             ],
             [
              0.8888888888888888,
              "#fdca26"
             ],
             [
              1,
              "#f0f921"
             ]
            ],
            "type": "heatmapgl"
           }
          ],
          "histogram": [
           {
            "marker": {
             "pattern": {
              "fillmode": "overlay",
              "size": 10,
              "solidity": 0.2
             }
            },
            "type": "histogram"
           }
          ],
          "histogram2d": [
           {
            "colorbar": {
             "outlinewidth": 0,
             "ticks": ""
            },
            "colorscale": [
             [
              0,
              "#0d0887"
             ],
             [
              0.1111111111111111,
              "#46039f"
             ],
             [
              0.2222222222222222,
              "#7201a8"
             ],
             [
              0.3333333333333333,
              "#9c179e"
             ],
             [
              0.4444444444444444,
              "#bd3786"
             ],
             [
              0.5555555555555556,
              "#d8576b"
             ],
             [
              0.6666666666666666,
              "#ed7953"
             ],
             [
              0.7777777777777778,
              "#fb9f3a"
             ],
             [
              0.8888888888888888,
              "#fdca26"
             ],
             [
              1,
              "#f0f921"
             ]
            ],
            "type": "histogram2d"
           }
          ],
          "histogram2dcontour": [
           {
            "colorbar": {
             "outlinewidth": 0,
             "ticks": ""
            },
            "colorscale": [
             [
              0,
              "#0d0887"
             ],
             [
              0.1111111111111111,
              "#46039f"
             ],
             [
              0.2222222222222222,
              "#7201a8"
             ],
             [
              0.3333333333333333,
              "#9c179e"
             ],
             [
              0.4444444444444444,
              "#bd3786"
             ],
             [
              0.5555555555555556,
              "#d8576b"
             ],
             [
              0.6666666666666666,
              "#ed7953"
             ],
             [
              0.7777777777777778,
              "#fb9f3a"
             ],
             [
              0.8888888888888888,
              "#fdca26"
             ],
             [
              1,
              "#f0f921"
             ]
            ],
            "type": "histogram2dcontour"
           }
          ],
          "mesh3d": [
           {
            "colorbar": {
             "outlinewidth": 0,
             "ticks": ""
            },
            "type": "mesh3d"
           }
          ],
          "parcoords": [
           {
            "line": {
             "colorbar": {
              "outlinewidth": 0,
              "ticks": ""
             }
            },
            "type": "parcoords"
           }
          ],
          "pie": [
           {
            "automargin": true,
            "type": "pie"
           }
          ],
          "scatter": [
           {
            "fillpattern": {
             "fillmode": "overlay",
             "size": 10,
             "solidity": 0.2
            },
            "type": "scatter"
           }
          ],
          "scatter3d": [
           {
            "line": {
             "colorbar": {
              "outlinewidth": 0,
              "ticks": ""
             }
            },
            "marker": {
             "colorbar": {
              "outlinewidth": 0,
              "ticks": ""
             }
            },
            "type": "scatter3d"
           }
          ],
          "scattercarpet": [
           {
            "marker": {
             "colorbar": {
              "outlinewidth": 0,
              "ticks": ""
             }
            },
            "type": "scattercarpet"
           }
          ],
          "scattergeo": [
           {
            "marker": {
             "colorbar": {
              "outlinewidth": 0,
              "ticks": ""
             }
            },
            "type": "scattergeo"
           }
          ],
          "scattergl": [
           {
            "marker": {
             "colorbar": {
              "outlinewidth": 0,
              "ticks": ""
             }
            },
            "type": "scattergl"
           }
          ],
          "scattermapbox": [
           {
            "marker": {
             "colorbar": {
              "outlinewidth": 0,
              "ticks": ""
             }
            },
            "type": "scattermapbox"
           }
          ],
          "scatterpolar": [
           {
            "marker": {
             "colorbar": {
              "outlinewidth": 0,
              "ticks": ""
             }
            },
            "type": "scatterpolar"
           }
          ],
          "scatterpolargl": [
           {
            "marker": {
             "colorbar": {
              "outlinewidth": 0,
              "ticks": ""
             }
            },
            "type": "scatterpolargl"
           }
          ],
          "scatterternary": [
           {
            "marker": {
             "colorbar": {
              "outlinewidth": 0,
              "ticks": ""
             }
            },
            "type": "scatterternary"
           }
          ],
          "surface": [
           {
            "colorbar": {
             "outlinewidth": 0,
             "ticks": ""
            },
            "colorscale": [
             [
              0,
              "#0d0887"
             ],
             [
              0.1111111111111111,
              "#46039f"
             ],
             [
              0.2222222222222222,
              "#7201a8"
             ],
             [
              0.3333333333333333,
              "#9c179e"
             ],
             [
              0.4444444444444444,
              "#bd3786"
             ],
             [
              0.5555555555555556,
              "#d8576b"
             ],
             [
              0.6666666666666666,
              "#ed7953"
             ],
             [
              0.7777777777777778,
              "#fb9f3a"
             ],
             [
              0.8888888888888888,
              "#fdca26"
             ],
             [
              1,
              "#f0f921"
             ]
            ],
            "type": "surface"
           }
          ],
          "table": [
           {
            "cells": {
             "fill": {
              "color": "#EBF0F8"
             },
             "line": {
              "color": "white"
             }
            },
            "header": {
             "fill": {
              "color": "#C8D4E3"
             },
             "line": {
              "color": "white"
             }
            },
            "type": "table"
           }
          ]
         },
         "layout": {
          "annotationdefaults": {
           "arrowcolor": "#2a3f5f",
           "arrowhead": 0,
           "arrowwidth": 1
          },
          "autotypenumbers": "strict",
          "coloraxis": {
           "colorbar": {
            "outlinewidth": 0,
            "ticks": ""
           }
          },
          "colorscale": {
           "diverging": [
            [
             0,
             "#8e0152"
            ],
            [
             0.1,
             "#c51b7d"
            ],
            [
             0.2,
             "#de77ae"
            ],
            [
             0.3,
             "#f1b6da"
            ],
            [
             0.4,
             "#fde0ef"
            ],
            [
             0.5,
             "#f7f7f7"
            ],
            [
             0.6,
             "#e6f5d0"
            ],
            [
             0.7,
             "#b8e186"
            ],
            [
             0.8,
             "#7fbc41"
            ],
            [
             0.9,
             "#4d9221"
            ],
            [
             1,
             "#276419"
            ]
           ],
           "sequential": [
            [
             0,
             "#0d0887"
            ],
            [
             0.1111111111111111,
             "#46039f"
            ],
            [
             0.2222222222222222,
             "#7201a8"
            ],
            [
             0.3333333333333333,
             "#9c179e"
            ],
            [
             0.4444444444444444,
             "#bd3786"
            ],
            [
             0.5555555555555556,
             "#d8576b"
            ],
            [
             0.6666666666666666,
             "#ed7953"
            ],
            [
             0.7777777777777778,
             "#fb9f3a"
            ],
            [
             0.8888888888888888,
             "#fdca26"
            ],
            [
             1,
             "#f0f921"
            ]
           ],
           "sequentialminus": [
            [
             0,
             "#0d0887"
            ],
            [
             0.1111111111111111,
             "#46039f"
            ],
            [
             0.2222222222222222,
             "#7201a8"
            ],
            [
             0.3333333333333333,
             "#9c179e"
            ],
            [
             0.4444444444444444,
             "#bd3786"
            ],
            [
             0.5555555555555556,
             "#d8576b"
            ],
            [
             0.6666666666666666,
             "#ed7953"
            ],
            [
             0.7777777777777778,
             "#fb9f3a"
            ],
            [
             0.8888888888888888,
             "#fdca26"
            ],
            [
             1,
             "#f0f921"
            ]
           ]
          },
          "colorway": [
           "#636efa",
           "#EF553B",
           "#00cc96",
           "#ab63fa",
           "#FFA15A",
           "#19d3f3",
           "#FF6692",
           "#B6E880",
           "#FF97FF",
           "#FECB52"
          ],
          "font": {
           "color": "#2a3f5f"
          },
          "geo": {
           "bgcolor": "white",
           "lakecolor": "white",
           "landcolor": "#E5ECF6",
           "showlakes": true,
           "showland": true,
           "subunitcolor": "white"
          },
          "hoverlabel": {
           "align": "left"
          },
          "hovermode": "closest",
          "mapbox": {
           "style": "light"
          },
          "paper_bgcolor": "white",
          "plot_bgcolor": "#E5ECF6",
          "polar": {
           "angularaxis": {
            "gridcolor": "white",
            "linecolor": "white",
            "ticks": ""
           },
           "bgcolor": "#E5ECF6",
           "radialaxis": {
            "gridcolor": "white",
            "linecolor": "white",
            "ticks": ""
           }
          },
          "scene": {
           "xaxis": {
            "backgroundcolor": "#E5ECF6",
            "gridcolor": "white",
            "gridwidth": 2,
            "linecolor": "white",
            "showbackground": true,
            "ticks": "",
            "zerolinecolor": "white"
           },
           "yaxis": {
            "backgroundcolor": "#E5ECF6",
            "gridcolor": "white",
            "gridwidth": 2,
            "linecolor": "white",
            "showbackground": true,
            "ticks": "",
            "zerolinecolor": "white"
           },
           "zaxis": {
            "backgroundcolor": "#E5ECF6",
            "gridcolor": "white",
            "gridwidth": 2,
            "linecolor": "white",
            "showbackground": true,
            "ticks": "",
            "zerolinecolor": "white"
           }
          },
          "shapedefaults": {
           "line": {
            "color": "#2a3f5f"
           }
          },
          "ternary": {
           "aaxis": {
            "gridcolor": "white",
            "linecolor": "white",
            "ticks": ""
           },
           "baxis": {
            "gridcolor": "white",
            "linecolor": "white",
            "ticks": ""
           },
           "bgcolor": "#E5ECF6",
           "caxis": {
            "gridcolor": "white",
            "linecolor": "white",
            "ticks": ""
           }
          },
          "title": {
           "x": 0.05
          },
          "xaxis": {
           "automargin": true,
           "gridcolor": "white",
           "linecolor": "white",
           "ticks": "",
           "title": {
            "standoff": 15
           },
           "zerolinecolor": "white",
           "zerolinewidth": 2
          },
          "yaxis": {
           "automargin": true,
           "gridcolor": "white",
           "linecolor": "white",
           "ticks": "",
           "title": {
            "standoff": 15
           },
           "zerolinecolor": "white",
           "zerolinewidth": 2
          }
         }
        }
       }
      }
     },
     "metadata": {},
     "output_type": "display_data"
    }
   ],
   "source": [
    "max_len = max(len(standardSets), len(num_clusters_unique))\n",
    "colors = plt.cm.jet(np.linspace(0, 1, max_len))\n",
    "# print(\"colors\", colors.shape, colors)\n",
    "\n",
    "# print(\"medoid labels\", [labels_HDBSCAN[i] for i in medoidsIndices])\n",
    "# print(\"argmax\", argmax)\n",
    "\n",
    "if len(medoidSets) > 0 and CAN_BE_ORDERED:\n",
    "    print(\"medoids added to plots and reordered\")\n",
    "    color_map = dict(zip(range(max_len), colors[unique_labels_reordered]))\n",
    "    #rint(\"color_map\", color_map)\n",
    "else:\n",
    "    color_map = dict(zip(range(max_len), colors))   # 0=red, 1=blue, 2=green, 3=yellow, 4=purple, 5=lightblue, 6=lightgreen, 7=lightyellow, 8=lightpurple\n",
    "    \n",
    "marker_colors = [color_map[label] if label > -1 else np.array([0,0,0,1]) for label in labels_HDBSCAN]\n",
    "marker_colors_medoids = [color_map[label] if label > -1 else np.array([0,0,0,1]) for label in labels_HDBSCAN[medoidsIndices]]\n",
    "#marker_colors_medoids = [color_map[label] if label > -1 else np.array([0,0,0,1]) for label in unique_labels]\n",
    "\n",
    "\n",
    "# Create a trace for each type (centroids data)\n",
    "traceStandard = go.Scatter3d(\n",
    "    x=completeSetTSNE[len(actualSets):,0],\n",
    "    y=completeSetTSNE[len(actualSets):,1],\n",
    "    z=completeSetTSNE[len(actualSets):,2],\n",
    "    mode='markers',\n",
    "    marker=dict(\n",
    "        size=7,\n",
    "        color=colors,                # set color to an array/list of desired values\n",
    "        opacity=1,\n",
    "        symbol='diamond'\n",
    "    )\n",
    ")\n",
    "\n",
    "if len(medoidSets) > 0:\n",
    "    medoidsElements = completeSetTSNE[medoidsIndices] # medoidsIndices = [921, 123]\n",
    "    traceMedoids = go.Scatter3d(\n",
    "        x=medoidsElements[:,0],\n",
    "        y=medoidsElements[:,1],\n",
    "        z=medoidsElements[:,2],\n",
    "        mode='markers',\n",
    "        marker=dict(\n",
    "            size=7,\n",
    "            color=marker_colors_medoids,                # set color to an array/list of desired values\n",
    "            opacity=1,\n",
    "            symbol='cross'\n",
    "        )\n",
    "    )\n",
    "\n",
    "# Create a trace for each type (centroids data)\n",
    "traceActual = go.Scatter3d(\n",
    "    x=completeSetTSNE[:len(actualSets),0],\n",
    "    y=completeSetTSNE[:len(actualSets),1],\n",
    "    z=completeSetTSNE[:len(actualSets),2],\n",
    "    mode='markers',\n",
    "    marker=dict(\n",
    "        size=7,\n",
    "        color=marker_colors,                # set color to an array/list of desired values\n",
    "        opacity=0.1,\n",
    "        symbol='circle'\n",
    "    )\n",
    ")\n",
    "\n",
    "# Plot\n",
    "if len(medoidSets) > 0:\n",
    "    data = [traceStandard, traceActual, traceMedoids]\n",
    "else:\n",
    "    data = [traceStandard, traceActual]\n",
    "\n",
    "layout = go.Layout(\n",
    "    margin=dict(\n",
    "        l=0,\n",
    "        r=0,\n",
    "        b=0,\n",
    "        t=0\n",
    "    )\n",
    ")\n",
    "\n",
    "fig = go.Figure(data=data, layout=layout)\n",
    "fig.show()"
   ]
  },
  {
   "cell_type": "markdown",
   "metadata": {},
   "source": [
    "## 2D Visualization"
   ]
  },
  {
   "cell_type": "code",
   "execution_count": null,
   "metadata": {},
   "outputs": [],
   "source": [
    "fig, ax = plt.subplots(figsize = (14, 10))\n",
    "\n",
    "for i in range(len(std_dev)):\n",
    "    coordinates = off[len(std_dev)-1-i] \n",
    "    x = [point[0] for point in coordinates]\n",
    "    y = [point[1] for point in coordinates]  \n",
    "\n",
    "    ax.scatter(x, y, s = 100,  edgecolor = \"black\", label=\"std_dev = {}\".format(std_dev[len(std_dev)-1-i]))\n",
    "    ax.scatter(0,0, s=100, color=\"black\", marker='*')\n",
    "\n",
    "ax.set_xlabel('X')\n",
    "ax.set_ylabel('Y')\n",
    "ax.axhline(y=0, color='black', linestyle='--', label = \"Global minima\")\n",
    "ax.axhline(y=10, color='grey', linestyle='--')\n",
    "ax.axvline(x=0, color='black', linestyle='--')\n",
    "ax.axvline(x=10, color='grey', linestyle='--',label = \"Starting point\")\n",
    "\n",
    "ax.set_title(\"Offspring generated with different standard deviation values\", fontsize=20)\n",
    "ax.legend()\n",
    "\n",
    "plt.show()"
   ]
  }
 ],
 "metadata": {
  "kernelspec": {
   "display_name": "datamining",
   "language": "python",
   "name": "python3"
  },
  "language_info": {
   "codemirror_mode": {
    "name": "ipython",
    "version": 3
   },
   "file_extension": ".py",
   "mimetype": "text/x-python",
   "name": "python",
   "nbconvert_exporter": "python",
   "pygments_lexer": "ipython3",
   "version": "3.11.4"
  }
 },
 "nbformat": 4,
 "nbformat_minor": 2
}
