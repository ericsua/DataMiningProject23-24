{
 "cells": [
  {
   "cell_type": "markdown",
   "metadata": {},
   "source": [
    "for each driver, generates the ideal standard route that the driver will have the least divergence.\n",
    "\n",
    "**OUTPUT**\n",
    "\n",
    "3. a file called perfectRoute.json that contains for each driver what would be the perfect ideal route. The\n",
    "format of the file is as follows:\n",
    "\n",
    "{driver:C, \n",
    "\n",
    "route:[\n",
    "\n",
    "{from:‘Rome’, to:‘Milan’, merchandise: {milk:4, pens:4, butter:20}},\n",
    "\n",
    "{from:‘Milan’, to:‘Bergamo’, merchandise: {milk:5, honey:19, butter:10, tomatoes:20}},\n",
    "\n",
    "{from:‘Bergamo’, to:‘Venezia’, merchandise:{butter:47, pens:2, tomatoes:1}}\n",
    "\n",
    "]\n",
    "\n",
    "},\n",
    "\n",
    "{driver:E,\n",
    " \n",
    "route:[\n",
    "\n",
    "{from:‘Bolzano’, to:‘Trento’, merchandise: {milk:2, pens:10, butter:22}},\n",
    "\n",
    "{from:‘Trento’, to:‘Verona’, merchandise: {milk:15, tomatoes:4}},\n",
    "\n",
    "{from:‘Verona’, to:‘Venezia’, merchandise:{butter:7, coca-cola:21, tomatoes:10}}\n",
    "\n",
    "]\n",
    "\n",
    "},"
   ]
  },
  {
   "cell_type": "code",
   "execution_count": 49,
   "metadata": {},
   "outputs": [
    {
     "name": "stdout",
     "output_type": "stream",
     "text": [
      "HOME:  c:\\Users\\User\\Desktop\\VSCodeProjects\\DataMining\\DataMiningProject23-24\n"
     ]
    }
   ],
   "source": [
    "import os\n",
    "HOME = os.getcwd()\n",
    "print('HOME: ',HOME)\n",
    "\n",
    "import json\n",
    "import random\n",
    "import pandas as pd\n",
    "import sys\n",
    "import lxml\n",
    "import sklearn as sk\n",
    "import numpy as np\n",
    "import umap\n",
    "\n",
    "from sklearn.manifold import TSNE\n",
    "import matplotlib.pyplot as plt\n",
    "from mpl_toolkits.mplot3d import Axes3D\n",
    "import plotly.graph_objects as go\n",
    "from sklearn.decomposition import TruncatedSVD\n",
    "from scipy.sparse import csr_matrix"
   ]
  },
  {
   "cell_type": "code",
   "execution_count": 50,
   "metadata": {},
   "outputs": [],
   "source": [
    "STANDARD_FILE = 'standard.json'\n",
    "ACTUAL_FILE = 'actual.json'\n",
    "\n",
    "OUTPUT_FILE = 'perfectRoute.json'\n",
    "DATA_DIR = os.path.join(HOME,'data')"
   ]
  },
  {
   "cell_type": "code",
   "execution_count": 51,
   "metadata": {},
   "outputs": [
    {
     "name": "stdout",
     "output_type": "stream",
     "text": [
      "   id                                              route\n",
      "0  s0  [{'from': 'Manfredonia', 'to': 'Reggio Emilia'...\n",
      "1  s1  [{'from': 'Cesena', 'to': 'Turin', 'merchandis...\n",
      "2  s2  [{'from': 'Massa', 'to': 'Giugliano in Campani...\n",
      "3  s3  [{'from': 'Padua', 'to': 'Ancona', 'merchandis...\n",
      "4  s4  [{'from': 'Bagheria', 'to': 'Massa', 'merchand...\n",
      "   id driver sroute                                              route\n",
      "0  a0      J     s0  [{'from': 'Manfredonia', 'to': 'Reggio Emilia'...\n",
      "1  a1      H     s0  [{'from': 'Manfredonia', 'to': 'Reggio Emilia'...\n",
      "2  a2      C     s0  [{'from': 'Manfredonia', 'to': 'Reggio Emilia'...\n",
      "3  a3      A     s0  [{'from': 'Manfredonia', 'to': 'Cuneo', 'merch...\n",
      "4  a4      H     s0  [{'from': 'Manfredonia', 'to': 'Reggio Emilia'...\n",
      "Unique cities:  ['Acireale', 'Alessandria', 'Ancona', 'Anzio', 'Aprilia', 'Asti', 'Aversa', 'Bagheria', 'Bari', 'Benevento', 'Bitonto', 'Brindisi', 'Cagliari', 'Cesena', 'Cinisello Balsamo', 'Como', 'Cremona', 'Cuneo', 'Fiumicino', 'Florence', 'Foggia', 'Giugliano in Campania', 'Grosseto', 'Guidonia Montecelio', 'La Spezia', 'Latina', 'Livorno', 'Lucca', 'Manfredonia', 'Massa', 'Matera', 'Montesilvano', 'Monza', 'Padua', 'Palermo', 'Pavia', 'Piacenza', 'Pistoia', 'Pomezia', 'Pozzuoli', 'Reggio Calabria', 'Reggio Emilia', 'Rho', 'Sassari', 'Teramo', 'Treviso', 'Turin', 'Velletri', 'Viareggio', 'Viterbo']\n",
      "Unique items:  ['Air Freshener', 'Air Mattress', 'Air Purifier', 'Aluminum Foil', 'Baby Wipes', 'Batteries', 'Bedside Table', 'Bookshelf', 'Camp Stove', 'Canned Beans', 'Chocolate', 'Cookware Set', 'Cooling Fan', 'Eggs', 'Fabric Softener', 'Firewood', 'First Aid Kit', 'Fishing Rod', 'Gloves', 'Glue', 'Ice Skates', 'Jump Rope', 'Lock', 'Luggage', 'Markers', 'Mustard', 'Napkins', 'Office Chair', 'Onion', 'Outdoor Furniture', 'Pasta', 'Peanut Butter', 'Plastic Wrap', 'Puzzle', 'Sausages', 'Shampoo', 'Ski Equipment', 'Sleeping Bag', 'Stationary Bike', 'Strawberries', 'Sunscreen', 'Tea', 'Tissues', 'Toaster', 'Towels', 'Trash Cans', 'Treadmill', 'Umbrella', 'Vacuum Cleaner', 'Yogurt']\n",
      "Unique drivers:  ['A', 'B', 'C', 'D', 'E', 'F', 'G', 'H', 'I', 'J']\n",
      "Number of cities:  50\n",
      "Number of items:  50\n",
      "Number of drivers:  10\n",
      "Longest route:  49\n",
      "Shortest route:  2\n"
     ]
    }
   ],
   "source": [
    "# load standard and actual data\n",
    "with open(os.path.join('data',STANDARD_FILE)) as f:\n",
    "    standard = json.load(f)\n",
    "\n",
    "with open(os.path.join('data', ACTUAL_FILE)) as f:\n",
    "    actual = json.load(f)\n",
    "\n",
    "# load the data into a dataframe\n",
    "dfStandard = pd.DataFrame(standard)\n",
    "dfActual = pd.DataFrame(actual)\n",
    "\n",
    "# print head of the dataframes\n",
    "print(dfStandard.head())\n",
    "print(dfActual.head())\n",
    "\n",
    "# get the unique cities, items and drivers of the standard data\n",
    "cities = []\n",
    "items = []\n",
    "drivers = []\n",
    "longestRoute = 0\n",
    "shortestRoute = np.inf\n",
    "for index, s in dfStandard.iterrows():\n",
    "    #print(s)\n",
    "    idS = s['id']\n",
    "    route = s['route']\n",
    "    for trip in route:\n",
    "        cities.append(trip['from']) \n",
    "        items.extend(trip['merchandise'].keys())\n",
    "    if len(route) > 0:\n",
    "        cities.append(route[-1]['to'])\n",
    "        \n",
    "    if len(route) > longestRoute:\n",
    "        longestRoute = len(route)\n",
    "        \n",
    "    if len(route) < shortestRoute:\n",
    "        shortestRoute = len(route)\n",
    "\n",
    "for index, s in dfActual.iterrows():\n",
    "    #print(s)\n",
    "    idS = s['id']\n",
    "    route = s['route']\n",
    "    drivers.append(s['driver'])\n",
    "    for trip in route:\n",
    "        cities.append(trip['from'])\n",
    "        items.extend(trip['merchandise'].keys())\n",
    "        \n",
    "    if len(route) > 0:\n",
    "        cities.append(route[-1]['to'])\n",
    "        \n",
    "    if len(route) > longestRoute:\n",
    "        longestRoute = len(route)\n",
    "    \n",
    "    if len(route) < shortestRoute:\n",
    "        shortestRoute = len(route)\n",
    "\n",
    "# find the unique cities and items\n",
    "uniqueCities = sorted(list(set(cities)))\n",
    "uniqueItems = sorted(list(set(items)))\n",
    "uniqueDrivers = sorted(list(set(drivers)))\n",
    "\n",
    "print(\"Unique cities: \", uniqueCities)\n",
    "print(\"Unique items: \", uniqueItems)\n",
    "print(\"Unique drivers: \", uniqueDrivers)\n",
    "\n",
    "print(\"Number of cities: \", len(uniqueCities))\n",
    "print(\"Number of items: \", len(uniqueItems))\n",
    "print(\"Number of drivers: \", len(uniqueDrivers))\n",
    "\n",
    "print(\"Longest route: \", longestRoute)\n",
    "print(\"Shortest route: \", shortestRoute)"
   ]
  },
  {
   "cell_type": "markdown",
   "metadata": {},
   "source": [
    "# Vectorizing the Routes \n",
    "\n",
    "Using one-hot encoding of the all possible tuple of two cities (from-to) and the summed merchandise along a route weighted by the total number of merch"
   ]
  },
  {
   "cell_type": "code",
   "execution_count": 52,
   "metadata": {},
   "outputs": [],
   "source": [
    "def create_couples(items):\n",
    "    results = []\n",
    "\n",
    "    for i in items:\n",
    "        for j in items:\n",
    "            if i==j:\n",
    "                continue\n",
    "            results.append((i,j))\n",
    "\n",
    "    return results"
   ]
  },
  {
   "cell_type": "code",
   "execution_count": 53,
   "metadata": {},
   "outputs": [],
   "source": [
    "def create_feature_vector(data, list_of_cities, list_of_items, use_SVD=True):\n",
    "    # create a feature vector for each row\n",
    "    featureVector = []\n",
    "    for index, row in data.iterrows():\n",
    "        cityVector = np.zeros(len(list_of_cities), dtype=float)\n",
    "        itemsVector = np.zeros(len(list_of_items), dtype=float)\n",
    "        #idS = row['id']\n",
    "        route = row['route']\n",
    "        for trip in route:\n",
    "            cityVector[list_of_cities.index((trip['from'], trip['to']))] = 1\n",
    "\n",
    "            for item, n in trip[\"merchandise\"].items():\n",
    "                itemsVector[list_of_items.index(item)] += n\n",
    "\n",
    "        itemsVector = itemsVector / np.sum(itemsVector)\n",
    "        featureVector.append(np.concatenate((cityVector, itemsVector), axis=0))\n",
    "\n",
    "    featureVector = np.array(featureVector).astype(float)\n",
    "    if use_SVD:\n",
    "        n_comp = len(dfStandard)\n",
    "        X = csr_matrix(featureVector)\n",
    "        svd = TruncatedSVD(n_components=n_comp, n_iter=7, random_state=42)\n",
    "        featureVector = svd.fit_transform(X)\n",
    "    return featureVector"
   ]
  },
  {
   "cell_type": "code",
   "execution_count": 54,
   "metadata": {},
   "outputs": [
    {
     "name": "stdout",
     "output_type": "stream",
     "text": [
      "Standard vector shape:  (10, 2500)\n",
      "Standard labels:  10\n",
      "Actual vector shape:  (300, 2500)\n",
      "actual labels:  300\n"
     ]
    }
   ],
   "source": [
    "shingles = create_couples(uniqueCities) \n",
    "\n",
    "standard_vector = create_feature_vector(dfStandard, shingles, uniqueItems, use_SVD=False)\n",
    "actual_vector = create_feature_vector(dfActual, shingles, uniqueItems, use_SVD=False)\n",
    "standardIds = dfStandard['id'].tolist()\n",
    "actualIds = dfActual['sroute'].tolist()\n",
    "\n",
    "print('Standard vector shape: ', standard_vector.shape)\n",
    "print('Standard labels: ', len(standardIds))\n",
    "print('Actual vector shape: ', actual_vector.shape)\n",
    "print('actual labels: ',len(actualIds))"
   ]
  },
  {
   "cell_type": "code",
   "execution_count": 55,
   "metadata": {},
   "outputs": [
    {
     "name": "stdout",
     "output_type": "stream",
     "text": [
      "300\n"
     ]
    }
   ],
   "source": [
    "## Get the drivers\n",
    "actual_drivers = dfActual['driver'].tolist()\n",
    "print(len(actual_drivers))"
   ]
  },
  {
   "cell_type": "code",
   "execution_count": 56,
   "metadata": {},
   "outputs": [],
   "source": [
    "def assign_numbers(lst):\n",
    "    element_to_number = {}\n",
    "    result = []\n",
    "\n",
    "    for element in lst:\n",
    "        if element not in element_to_number:\n",
    "            element_to_number[element] = len(element_to_number)\n",
    "\n",
    "        result.append(element_to_number[element])\n",
    "\n",
    "    return np.array(result, dtype=int)"
   ]
  },
  {
   "cell_type": "markdown",
   "metadata": {},
   "source": [
    "## Visualize data using UMAP"
   ]
  },
  {
   "cell_type": "code",
   "execution_count": 57,
   "metadata": {},
   "outputs": [],
   "source": [
    "import matplotlib.pyplot as plt\n",
    "import pandas as pd\n",
    "import umap\n",
    "%matplotlib inline"
   ]
  },
  {
   "cell_type": "code",
   "execution_count": 58,
   "metadata": {},
   "outputs": [],
   "source": [
    "from matplotlib.colors import Normalize\n",
    "\n",
    "def normalize_array(vec: np.ndarray):\n",
    "    return vec / np.linalg.norm(vec, axis=1, keepdims=True)\n",
    "\n",
    "def draw_umap(data, target, classnames, n_neighbors=15, min_dist=0.1, n_components=2, metric='euclidean', title='', add_color_bar=False):\n",
    "    fit = umap.UMAP(n_neighbors=n_neighbors,min_dist=min_dist,n_components=n_components,metric=metric)\n",
    "    u = fit.fit_transform(data)\n",
    "\n",
    "    fig = plt.figure(figsize=(8,8))\n",
    "    if n_components == 1:\n",
    "        ax = fig.add_subplot(111)\n",
    "        ax.scatter(u[:,0], range(len(u)), c=target, cmap='Spectral')\n",
    "    if n_components == 2:\n",
    "        ax = fig.add_subplot(111)\n",
    "        ax.scatter(u[:,0], u[:,1], c=target, cmap='Spectral')\n",
    "    if n_components == 3:\n",
    "        ax = fig.add_subplot(111, projection='3d')\n",
    "        ax.scatter(u[:,0], u[:,1], u[:,2], c=target, cmap='Spectral', s=20)\n",
    "\n",
    "    # Create a ScalarMappable object to associate with the colorbar\n",
    "    norm = Normalize(vmin=target.min(), vmax=target.max())\n",
    "    sm = plt.cm.ScalarMappable(cmap='Spectral',norm=norm)\n",
    "    sm.set_array([])\n",
    "\n",
    "    # Add colorbar\n",
    "    if add_color_bar:\n",
    "        cbar = plt.colorbar(sm, boundaries=np.arange(len(classnames)+1)-0.5, label='Class Labels', ax=ax)\n",
    "        cbar.set_ticks(np.arange(len(classnames)))\n",
    "        cbar.set_ticklabels(classnames)\n",
    "    plt.title(title, fontsize=18)\n",
    "\n",
    "    # Show the plot\n",
    "    plt.show()"
   ]
  },
  {
   "cell_type": "code",
   "execution_count": 59,
   "metadata": {},
   "outputs": [
    {
     "name": "stdout",
     "output_type": "stream",
     "text": [
      "stackedVectors shape (310, 2500)\n"
     ]
    }
   ],
   "source": [
    "stackedVectors = np.vstack((standard_vector, actual_vector))\n",
    "print(\"stackedVectors shape\", stackedVectors.shape)\n",
    "types = np.hstack((np.zeros(standard_vector.shape[0]), np.ones(actual_vector.shape[0])))"
   ]
  },
  {
   "cell_type": "code",
   "execution_count": 60,
   "metadata": {},
   "outputs": [
    {
     "data": {
      "image/png": "[encoded data removed]",
      "text/plain": [
       "<Figure size 800x800 with 2 Axes>"
      ]
     },
     "metadata": {},
     "output_type": "display_data"
    }
   ],
   "source": [
    "draw_umap(stackedVectors, types, ['Standard', 'Actual'], min_dist=0.9, n_neighbors=3, n_components=3, metric='cosine', title='Standards and Actual Routes', add_color_bar=True)"
   ]
  },
  {
   "cell_type": "code",
   "execution_count": 61,
   "metadata": {},
   "outputs": [
    {
     "data": {
      "image/png": "[encoded data removed]",
      "text/plain": [
       "<Figure size 800x800 with 2 Axes>"
      ]
     },
     "metadata": {},
     "output_type": "display_data"
    }
   ],
   "source": [
    "draw_umap(actual_vector, assign_numbers(actual_drivers), np.unique(actual_drivers), min_dist=0.9, n_neighbors=3, n_components=3, metric='cosine', title='Drivers', add_color_bar=True)"
   ]
  },
  {
   "cell_type": "markdown",
   "metadata": {},
   "source": [
    "## Visualize data using TSNE"
   ]
  },
  {
   "cell_type": "code",
   "execution_count": 83,
   "metadata": {},
   "outputs": [
    {
     "name": "stdout",
     "output_type": "stream",
     "text": [
      "stackedVectors shape (310, 2500)\n"
     ]
    }
   ],
   "source": [
    "# visualize the data in a 3D plot using TSNE, in red the standard data and in blue the actual data\n",
    "tsne = TSNE(n_components=3, random_state=0, perplexity=20)\n",
    "\n",
    "# stack the vectors and create a vector of types (0 for standard, 1 for actual)\n",
    "stackedVectors = np.vstack((standard_vector, actual_vector))\n",
    "print(\"stackedVectors shape\", stackedVectors.shape)\n",
    "types = np.hstack((np.zeros(standard_vector.shape[0]), np.ones(actual_vector.shape[0])))\n",
    "\n",
    "# Fix the IndexError by using the stackedVectors instead of actualVectors for tsne.fit_transform()\n",
    "vectorsTSNE = tsne.fit_transform(stackedVectors, types)"
   ]
  },
  {
   "cell_type": "code",
   "execution_count": 84,
   "metadata": {},
   "outputs": [
    {
     "data": {
      "image/png": "[encoded data removed]",
      "text/plain": [
       "<Figure size 640x480 with 1 Axes>"
      ]
     },
     "metadata": {},
     "output_type": "display_data"
    }
   ],
   "source": [
    "# plot the data\n",
    "fig = plt.figure()\n",
    "ax = fig.add_subplot(111, projection='3d')\n",
    "\n",
    "ax.scatter(vectorsTSNE[types==0,0], vectorsTSNE[types==0,1], vectorsTSNE[types==0,2], c='r', marker='o', alpha=1)\n",
    "ax.scatter(vectorsTSNE[types==1,0], vectorsTSNE[types==1,1], vectorsTSNE[types==1,2], c='b', marker='^', alpha=0.1)\n",
    "\n",
    "ax.set_xlabel('X Label')\n",
    "ax.set_ylabel('Y Label')\n",
    "ax.set_zlabel('Z Label')\n",
    "\n",
    "plt.show()"
   ]
  },
  {
   "cell_type": "code",
   "execution_count": 85,
   "metadata": {},
   "outputs": [
    {
     "data": {
      "application/vnd.plotly.v1+json": {
       "config": {
        "plotlyServerURL": "https://plot.ly"
       },
       "data": [
        {
         "marker": {
          "color": [
           [
            0,
            0,
            0.5,
            1
           ],
           [
            0,
            0,
            0.999108734402852,
            1
           ],
           [
            0,
            0.3784313725490196,
            1,
            1
           ],
           [
            0,
            0.8333333333333334,
            1,
            1
           ],
           [
            0.30044275774826057,
            1,
            0.6672991777356103,
            1
           ],
           [
            0.6672991777356103,
            1,
            0.30044275774826057,
            1
           ],
           [
            1,
            0.9012345679012348,
            0,
            1
           ],
           [
            1,
            0.48002904865649987,
            0,
            1
           ],
           [
            0.9991087344028523,
            0.07334785766158336,
            0,
            1
           ],
           [
            0.5,
            0,
            0,
            1
           ]
          ],
          "opacity": 0.9,
          "size": 7,
          "symbol": "diamond"
         },
         "mode": "markers",
         "type": "scatter3d",
         "x": [
          90.78111267089844,
          51.44525146484375,
          -13.36660385131836,
          9.093586921691895,
          3.05747127532959,
          13.082903861999512,
          -4.366832256317139,
          9.033188819885254,
          53.593013763427734,
          -46.70069885253906
         ],
         "y": [
          12.397040367126465,
          14.816829681396484,
          -12.423933029174805,
          -56.662139892578125,
          -1.2150027751922607,
          9.524083137512207,
          46.69675064086914,
          67.97054290771484,
          -35.78953170776367,
          -3.187312364578247
         ],
         "z": [
          -7.799673557281494,
          -9.254755020141602,
          -54.60187530517578,
          34.37432861328125,
          47.48388671875,
          1.4483320713043213,
          43.32297897338867,
          -14.272161483764648,
          10.342928886413574,
          10.294543266296387
         ]
        },
        {
         "marker": {
          "color": [
           [
            0,
            0,
            0.5,
            1
           ],
           [
            0,
            0,
            0.5,
            1
           ],
           [
            0,
            0,
            0.5,
            1
           ],
           [
            0,
            0,
            0.5,
            1
           ],
           [
            0,
            0,
            0.5,
            1
           ],
           [
            0,
            0,
            0.5,
            1
           ],
           [
            0,
            0,
            0.5,
            1
           ],
           [
            0,
            0,
            0.5,
            1
           ],
           [
            0,
            0,
            0.5,
            1
           ],
           [
            0,
            0,
            0.5,
            1
           ],
           [
            0,
            0,
            0.5,
            1
           ],
           [
            0,
            0,
            0.5,
            1
           ],
           [
            0,
            0,
            0.5,
            1
           ],
           [
            0,
            0,
            0.5,
            1
           ],
           [
            0,
            0,
            0.5,
            1
           ],
           [
            0,
            0,
            0.5,
            1
           ],
           [
            0,
            0,
            0.5,
            1
           ],
           [
            0,
            0,
            0.5,
            1
           ],
           [
            0,
            0,
            0.5,
            1
           ],
           [
            0,
            0,
            0.5,
            1
           ],
           [
            0,
            0,
            0.5,
            1
           ],
           [
            0,
            0,
            0.5,
            1
           ],
           [
            0,
            0,
            0.5,
            1
           ],
           [
            0,
            0,
            0.5,
            1
           ],
           [
            0,
            0,
            0.5,
            1
           ],
           [
            0,
            0,
            0.5,
            1
           ],
           [
            0,
            0,
            0.5,
            1
           ],
           [
            0,
            0,
            0.5,
            1
           ],
           [
            0,
            0,
            0.5,
            1
           ],
           [
            0,
            0,
            0.5,
            1
           ],
           [
            0,
            0,
            0.999108734402852,
            1
           ],
           [
            0,
            0,
            0.999108734402852,
            1
           ],
           [
            0,
            0,
            0.999108734402852,
            1
           ],
           [
            0,
            0,
            0.999108734402852,
            1
           ],
           [
            0,
            0,
            0.999108734402852,
            1
           ],
           [
            0,
            0,
            0.999108734402852,
            1
           ],
           [
            0,
            0,
            0.999108734402852,
            1
           ],
           [
            0,
            0,
            0.999108734402852,
            1
           ],
           [
            0,
            0,
            0.999108734402852,
            1
           ],
           [
            0,
            0,
            0.999108734402852,
            1
           ],
           [
            0,
            0,
            0.999108734402852,
            1
           ],
           [
            0,
            0,
            0.999108734402852,
            1
           ],
           [
            0,
            0,
            0.999108734402852,
            1
           ],
           [
            0,
            0,
            0.999108734402852,
            1
           ],
           [
            0,
            0,
            0.999108734402852,
            1
           ],
           [
            0,
            0,
            0.999108734402852,
            1
           ],
           [
            0,
            0,
            0.999108734402852,
            1
           ],
           [
            0,
            0,
            0.999108734402852,
            1
           ],
           [
            0,
            0,
            0.999108734402852,
            1
           ],
           [
            0,
            0,
            0.999108734402852,
            1
           ],
           [
            0,
            0,
            0.999108734402852,
            1
           ],
           [
            0,
            0,
            0.999108734402852,
            1
           ],
           [
            0,
            0,
            0.999108734402852,
            1
           ],
           [
            0,
            0,
            0.999108734402852,
            1
           ],
           [
            0,
            0,
            0.999108734402852,
            1
           ],
           [
            0,
            0,
            0.999108734402852,
            1
           ],
           [
            0,
            0,
            0.999108734402852,
            1
           ],
           [
            0,
            0,
            0.999108734402852,
            1
           ],
           [
            0,
            0,
            0.999108734402852,
            1
           ],
           [
            0,
            0,
            0.999108734402852,
            1
           ],
           [
            0,
            0.3784313725490196,
            1,
            1
           ],
           [
            0,
            0.3784313725490196,
            1,
            1
           ],
           [
            0,
            0.3784313725490196,
            1,
            1
           ],
           [
            0,
            0.3784313725490196,
            1,
            1
           ],
           [
            0,
            0.3784313725490196,
            1,
            1
           ],
           [
            0,
            0.3784313725490196,
            1,
            1
           ],
           [
            0,
            0.3784313725490196,
            1,
            1
           ],
           [
            0,
            0.3784313725490196,
            1,
            1
           ],
           [
            0,
            0.3784313725490196,
            1,
            1
           ],
           [
            0,
            0.3784313725490196,
            1,
            1
           ],
           [
            0,
            0.3784313725490196,
            1,
            1
           ],
           [
            0,
            0.3784313725490196,
            1,
            1
           ],
           [
            0,
            0.3784313725490196,
            1,
            1
           ],
           [
            0,
            0.3784313725490196,
            1,
            1
           ],
           [
            0,
            0.3784313725490196,
            1,
            1
           ],
           [
            0,
            0.3784313725490196,
            1,
            1
           ],
           [
            0,
            0.3784313725490196,
            1,
            1
           ],
           [
            0,
            0.3784313725490196,
            1,
            1
           ],
           [
            0,
            0.3784313725490196,
            1,
            1
           ],
           [
            0,
            0.3784313725490196,
            1,
            1
           ],
           [
            0,
            0.3784313725490196,
            1,
            1
           ],
           [
            0,
            0.3784313725490196,
            1,
            1
           ],
           [
            0,
            0.3784313725490196,
            1,
            1
           ],
           [
            0,
            0.3784313725490196,
            1,
            1
           ],
           [
            0,
            0.3784313725490196,
            1,
            1
           ],
           [
            0,
            0.3784313725490196,
            1,
            1
           ],
           [
            0,
            0.3784313725490196,
            1,
            1
           ],
           [
            0,
            0.3784313725490196,
            1,
            1
           ],
           [
            0,
            0.3784313725490196,
            1,
            1
           ],
           [
            0,
            0.3784313725490196,
            1,
            1
           ],
           [
            0,
            0.8333333333333334,
            1,
            1
           ],
           [
            0,
            0.8333333333333334,
            1,
            1
           ],
           [
            0,
            0.8333333333333334,
            1,
            1
           ],
           [
            0,
            0.8333333333333334,
            1,
            1
           ],
           [
            0,
            0.8333333333333334,
            1,
            1
           ],
           [
            0,
            0.8333333333333334,
            1,
            1
           ],
           [
            0,
            0.8333333333333334,
            1,
            1
           ],
           [
            0,
            0.8333333333333334,
            1,
            1
           ],
           [
            0,
            0.8333333333333334,
            1,
            1
           ],
           [
            0,
            0.8333333333333334,
            1,
            1
           ],
           [
            0,
            0.8333333333333334,
            1,
            1
           ],
           [
            0,
            0.8333333333333334,
            1,
            1
           ],
           [
            0,
            0.8333333333333334,
            1,
            1
           ],
           [
            0,
            0.8333333333333334,
            1,
            1
           ],
           [
            0,
            0.8333333333333334,
            1,
            1
           ],
           [
            0,
            0.8333333333333334,
            1,
            1
           ],
           [
            0,
            0.8333333333333334,
            1,
            1
           ],
           [
            0,
            0.8333333333333334,
            1,
            1
           ],
           [
            0,
            0.8333333333333334,
            1,
            1
           ],
           [
            0,
            0.8333333333333334,
            1,
            1
           ],
           [
            0,
            0.8333333333333334,
            1,
            1
           ],
           [
            0,
            0.8333333333333334,
            1,
            1
           ],
           [
            0,
            0.8333333333333334,
            1,
            1
           ],
           [
            0,
            0.8333333333333334,
            1,
            1
           ],
           [
            0,
            0.8333333333333334,
            1,
            1
           ],
           [
            0,
            0.8333333333333334,
            1,
            1
           ],
           [
            0,
            0.8333333333333334,
            1,
            1
           ],
           [
            0,
            0.8333333333333334,
            1,
            1
           ],
           [
            0,
            0.8333333333333334,
            1,
            1
           ],
           [
            0,
            0.8333333333333334,
            1,
            1
           ],
           [
            0.30044275774826057,
            1,
            0.6672991777356103,
            1
           ],
           [
            0.30044275774826057,
            1,
            0.6672991777356103,
            1
           ],
           [
            0.30044275774826057,
            1,
            0.6672991777356103,
            1
           ],
           [
            0.30044275774826057,
            1,
            0.6672991777356103,
            1
           ],
           [
            0.30044275774826057,
            1,
            0.6672991777356103,
            1
           ],
           [
            0.30044275774826057,
            1,
            0.6672991777356103,
            1
           ],
           [
            0.30044275774826057,
            1,
            0.6672991777356103,
            1
           ],
           [
            0.30044275774826057,
            1,
            0.6672991777356103,
            1
           ],
           [
            0.30044275774826057,
            1,
            0.6672991777356103,
            1
           ],
           [
            0.30044275774826057,
            1,
            0.6672991777356103,
            1
           ],
           [
            0.30044275774826057,
            1,
            0.6672991777356103,
            1
           ],
           [
            0.30044275774826057,
            1,
            0.6672991777356103,
            1
           ],
           [
            0.30044275774826057,
            1,
            0.6672991777356103,
            1
           ],
           [
            0.30044275774826057,
            1,
            0.6672991777356103,
            1
           ],
           [
            0.30044275774826057,
            1,
            0.6672991777356103,
            1
           ],
           [
            0.30044275774826057,
            1,
            0.6672991777356103,
            1
           ],
           [
            0.30044275774826057,
            1,
            0.6672991777356103,
            1
           ],
           [
            0.30044275774826057,
            1,
            0.6672991777356103,
            1
           ],
           [
            0.30044275774826057,
            1,
            0.6672991777356103,
            1
           ],
           [
            0.30044275774826057,
            1,
            0.6672991777356103,
            1
           ],
           [
            0.30044275774826057,
            1,
            0.6672991777356103,
            1
           ],
           [
            0.30044275774826057,
            1,
            0.6672991777356103,
            1
           ],
           [
            0.30044275774826057,
            1,
            0.6672991777356103,
            1
           ],
           [
            0.30044275774826057,
            1,
            0.6672991777356103,
            1
           ],
           [
            0.30044275774826057,
            1,
            0.6672991777356103,
            1
           ],
           [
            0.30044275774826057,
            1,
            0.6672991777356103,
            1
           ],
           [
            0.30044275774826057,
            1,
            0.6672991777356103,
            1
           ],
           [
            0.30044275774826057,
            1,
            0.6672991777356103,
            1
           ],
           [
            0.30044275774826057,
            1,
            0.6672991777356103,
            1
           ],
           [
            0.30044275774826057,
            1,
            0.6672991777356103,
            1
           ],
           [
            0.6672991777356103,
            1,
            0.30044275774826057,
            1
           ],
           [
            0.6672991777356103,
            1,
            0.30044275774826057,
            1
           ],
           [
            0.6672991777356103,
            1,
            0.30044275774826057,
            1
           ],
           [
            0.6672991777356103,
            1,
            0.30044275774826057,
            1
           ],
           [
            0.6672991777356103,
            1,
            0.30044275774826057,
            1
           ],
           [
            0.6672991777356103,
            1,
            0.30044275774826057,
            1
           ],
           [
            0.6672991777356103,
            1,
            0.30044275774826057,
            1
           ],
           [
            0.6672991777356103,
            1,
            0.30044275774826057,
            1
           ],
           [
            0.6672991777356103,
            1,
            0.30044275774826057,
            1
           ],
           [
            0.6672991777356103,
            1,
            0.30044275774826057,
            1
           ],
           [
            0.6672991777356103,
            1,
            0.30044275774826057,
            1
           ],
           [
            0.6672991777356103,
            1,
            0.30044275774826057,
            1
           ],
           [
            0.6672991777356103,
            1,
            0.30044275774826057,
            1
           ],
           [
            0.6672991777356103,
            1,
            0.30044275774826057,
            1
           ],
           [
            0.6672991777356103,
            1,
            0.30044275774826057,
            1
           ],
           [
            0.6672991777356103,
            1,
            0.30044275774826057,
            1
           ],
           [
            0.6672991777356103,
            1,
            0.30044275774826057,
            1
           ],
           [
            0.6672991777356103,
            1,
            0.30044275774826057,
            1
           ],
           [
            0.6672991777356103,
            1,
            0.30044275774826057,
            1
           ],
           [
            0.6672991777356103,
            1,
            0.30044275774826057,
            1
           ],
           [
            0.6672991777356103,
            1,
            0.30044275774826057,
            1
           ],
           [
            0.6672991777356103,
            1,
            0.30044275774826057,
            1
           ],
           [
            0.6672991777356103,
            1,
            0.30044275774826057,
            1
           ],
           [
            0.6672991777356103,
            1,
            0.30044275774826057,
            1
           ],
           [
            0.6672991777356103,
            1,
            0.30044275774826057,
            1
           ],
           [
            0.6672991777356103,
            1,
            0.30044275774826057,
            1
           ],
           [
            0.6672991777356103,
            1,
            0.30044275774826057,
            1
           ],
           [
            0.6672991777356103,
            1,
            0.30044275774826057,
            1
           ],
           [
            0.6672991777356103,
            1,
            0.30044275774826057,
            1
           ],
           [
            0.6672991777356103,
            1,
            0.30044275774826057,
            1
           ],
           [
            1,
            0.9012345679012348,
            0,
            1
           ],
           [
            1,
            0.9012345679012348,
            0,
            1
           ],
           [
            1,
            0.9012345679012348,
            0,
            1
           ],
           [
            1,
            0.9012345679012348,
            0,
            1
           ],
           [
            1,
            0.9012345679012348,
            0,
            1
           ],
           [
            1,
            0.9012345679012348,
            0,
            1
           ],
           [
            1,
            0.9012345679012348,
            0,
            1
           ],
           [
            1,
            0.9012345679012348,
            0,
            1
           ],
           [
            1,
            0.9012345679012348,
            0,
            1
           ],
           [
            1,
            0.9012345679012348,
            0,
            1
           ],
           [
            1,
            0.9012345679012348,
            0,
            1
           ],
           [
            1,
            0.9012345679012348,
            0,
            1
           ],
           [
            1,
            0.9012345679012348,
            0,
            1
           ],
           [
            1,
            0.9012345679012348,
            0,
            1
           ],
           [
            1,
            0.9012345679012348,
            0,
            1
           ],
           [
            1,
            0.9012345679012348,
            0,
            1
           ],
           [
            1,
            0.9012345679012348,
            0,
            1
           ],
           [
            1,
            0.9012345679012348,
            0,
            1
           ],
           [
            1,
            0.9012345679012348,
            0,
            1
           ],
           [
            1,
            0.9012345679012348,
            0,
            1
           ],
           [
            1,
            0.9012345679012348,
            0,
            1
           ],
           [
            1,
            0.9012345679012348,
            0,
            1
           ],
           [
            1,
            0.9012345679012348,
            0,
            1
           ],
           [
            1,
            0.9012345679012348,
            0,
            1
           ],
           [
            1,
            0.9012345679012348,
            0,
            1
           ],
           [
            1,
            0.9012345679012348,
            0,
            1
           ],
           [
            1,
            0.9012345679012348,
            0,
            1
           ],
           [
            1,
            0.9012345679012348,
            0,
            1
           ],
           [
            1,
            0.9012345679012348,
            0,
            1
           ],
           [
            1,
            0.9012345679012348,
            0,
            1
           ],
           [
            1,
            0.48002904865649987,
            0,
            1
           ],
           [
            1,
            0.48002904865649987,
            0,
            1
           ],
           [
            1,
            0.48002904865649987,
            0,
            1
           ],
           [
            1,
            0.48002904865649987,
            0,
            1
           ],
           [
            1,
            0.48002904865649987,
            0,
            1
           ],
           [
            1,
            0.48002904865649987,
            0,
            1
           ],
           [
            1,
            0.48002904865649987,
            0,
            1
           ],
           [
            1,
            0.48002904865649987,
            0,
            1
           ],
           [
            1,
            0.48002904865649987,
            0,
            1
           ],
           [
            1,
            0.48002904865649987,
            0,
            1
           ],
           [
            1,
            0.48002904865649987,
            0,
            1
           ],
           [
            1,
            0.48002904865649987,
            0,
            1
           ],
           [
            1,
            0.48002904865649987,
            0,
            1
           ],
           [
            1,
            0.48002904865649987,
            0,
            1
           ],
           [
            1,
            0.48002904865649987,
            0,
            1
           ],
           [
            1,
            0.48002904865649987,
            0,
            1
           ],
           [
            1,
            0.48002904865649987,
            0,
            1
           ],
           [
            1,
            0.48002904865649987,
            0,
            1
           ],
           [
            1,
            0.48002904865649987,
            0,
            1
           ],
           [
            1,
            0.48002904865649987,
            0,
            1
           ],
           [
            1,
            0.48002904865649987,
            0,
            1
           ],
           [
            1,
            0.48002904865649987,
            0,
            1
           ],
           [
            1,
            0.48002904865649987,
            0,
            1
           ],
           [
            1,
            0.48002904865649987,
            0,
            1
           ],
           [
            1,
            0.48002904865649987,
            0,
            1
           ],
           [
            1,
            0.48002904865649987,
            0,
            1
           ],
           [
            1,
            0.48002904865649987,
            0,
            1
           ],
           [
            1,
            0.48002904865649987,
            0,
            1
           ],
           [
            1,
            0.48002904865649987,
            0,
            1
           ],
           [
            1,
            0.48002904865649987,
            0,
            1
           ],
           [
            0.9991087344028523,
            0.07334785766158336,
            0,
            1
           ],
           [
            0.9991087344028523,
            0.07334785766158336,
            0,
            1
           ],
           [
            0.9991087344028523,
            0.07334785766158336,
            0,
            1
           ],
           [
            0.9991087344028523,
            0.07334785766158336,
            0,
            1
           ],
           [
            0.9991087344028523,
            0.07334785766158336,
            0,
            1
           ],
           [
            0.9991087344028523,
            0.07334785766158336,
            0,
            1
           ],
           [
            0.9991087344028523,
            0.07334785766158336,
            0,
            1
           ],
           [
            0.9991087344028523,
            0.07334785766158336,
            0,
            1
           ],
           [
            0.9991087344028523,
            0.07334785766158336,
            0,
            1
           ],
           [
            0.9991087344028523,
            0.07334785766158336,
            0,
            1
           ],
           [
            0.9991087344028523,
            0.07334785766158336,
            0,
            1
           ],
           [
            0.9991087344028523,
            0.07334785766158336,
            0,
            1
           ],
           [
            0.9991087344028523,
            0.07334785766158336,
            0,
            1
           ],
           [
            0.9991087344028523,
            0.07334785766158336,
            0,
            1
           ],
           [
            0.9991087344028523,
            0.07334785766158336,
            0,
            1
           ],
           [
            0.9991087344028523,
            0.07334785766158336,
            0,
            1
           ],
           [
            0.9991087344028523,
            0.07334785766158336,
            0,
            1
           ],
           [
            0.9991087344028523,
            0.07334785766158336,
            0,
            1
           ],
           [
            0.9991087344028523,
            0.07334785766158336,
            0,
            1
           ],
           [
            0.9991087344028523,
            0.07334785766158336,
            0,
            1
           ],
           [
            0.9991087344028523,
            0.07334785766158336,
            0,
            1
           ],
           [
            0.9991087344028523,
            0.07334785766158336,
            0,
            1
           ],
           [
            0.9991087344028523,
            0.07334785766158336,
            0,
            1
           ],
           [
            0.9991087344028523,
            0.07334785766158336,
            0,
            1
           ],
           [
            0.9991087344028523,
            0.07334785766158336,
            0,
            1
           ],
           [
            0.9991087344028523,
            0.07334785766158336,
            0,
            1
           ],
           [
            0.9991087344028523,
            0.07334785766158336,
            0,
            1
           ],
           [
            0.9991087344028523,
            0.07334785766158336,
            0,
            1
           ],
           [
            0.9991087344028523,
            0.07334785766158336,
            0,
            1
           ],
           [
            0.9991087344028523,
            0.07334785766158336,
            0,
            1
           ],
           [
            0.5,
            0,
            0,
            1
           ],
           [
            0.5,
            0,
            0,
            1
           ],
           [
            0.5,
            0,
            0,
            1
           ],
           [
            0.5,
            0,
            0,
            1
           ],
           [
            0.5,
            0,
            0,
            1
           ],
           [
            0.5,
            0,
            0,
            1
           ],
           [
            0.5,
            0,
            0,
            1
           ],
           [
            0.5,
            0,
            0,
            1
           ],
           [
            0.5,
            0,
            0,
            1
           ],
           [
            0.5,
            0,
            0,
            1
           ],
           [
            0.5,
            0,
            0,
            1
           ],
           [
            0.5,
            0,
            0,
            1
           ],
           [
            0.5,
            0,
            0,
            1
           ],
           [
            0.5,
            0,
            0,
            1
           ],
           [
            0.5,
            0,
            0,
            1
           ],
           [
            0.5,
            0,
            0,
            1
           ],
           [
            0.5,
            0,
            0,
            1
           ],
           [
            0.5,
            0,
            0,
            1
           ],
           [
            0.5,
            0,
            0,
            1
           ],
           [
            0.5,
            0,
            0,
            1
           ],
           [
            0.5,
            0,
            0,
            1
           ],
           [
            0.5,
            0,
            0,
            1
           ],
           [
            0.5,
            0,
            0,
            1
           ],
           [
            0.5,
            0,
            0,
            1
           ],
           [
            0.5,
            0,
            0,
            1
           ],
           [
            0.5,
            0,
            0,
            1
           ],
           [
            0.5,
            0,
            0,
            1
           ],
           [
            0.5,
            0,
            0,
            1
           ],
           [
            0.5,
            0,
            0,
            1
           ],
           [
            0.5,
            0,
            0,
            1
           ]
          ],
          "opacity": 0.3,
          "size": 5,
          "symbol": "circle"
         },
         "mode": "markers",
         "type": "scatter3d",
         "x": [
          -47.08850860595703,
          -50.55611801147461,
          -60.941341400146484,
          -50.50428009033203,
          -45.741329193115234,
          -80.2933120727539,
          -57.04209518432617,
          -52.225425720214844,
          -35.959529876708984,
          -62.94868469238281,
          -37.19253921508789,
          -44.71299743652344,
          -44.807796478271484,
          -58.83160400390625,
          -79.99482727050781,
          -48.553245544433594,
          -55.80113983154297,
          -44.04279327392578,
          -37.05450439453125,
          -35.777950286865234,
          -79.23749542236328,
          -18.034313201904297,
          -60.98356628417969,
          -35.663394927978516,
          -63.85723114013672,
          -27.436824798583984,
          -81.38492584228516,
          -32.66471862792969,
          -54.71354675292969,
          -62.49403381347656,
          43.27397537231445,
          47.705711364746094,
          50.10426712036133,
          46.43595504760742,
          42.96416473388672,
          47.217979431152344,
          70.54463195800781,
          41.31002426147461,
          73.60063171386719,
          62.018821716308594,
          46.65769958496094,
          58.02901840209961,
          53.759620666503906,
          58.937679290771484,
          25.1866512298584,
          42.509239196777344,
          58.980308532714844,
          73.74752807617188,
          40.71416091918945,
          46.61030578613281,
          51.023136138916016,
          33.743507385253906,
          59.484073638916016,
          33.95914077758789,
          63.64341354370117,
          61.48280334472656,
          51.613868713378906,
          33.92866516113281,
          60.50856399536133,
          38.02631759643555,
          17.817222595214844,
          -26.573015213012695,
          11.885985374450684,
          -23.124431610107422,
          -14.765995979309082,
          -34.23444747924805,
          -47.45055389404297,
          -2.953639268875122,
          -0.05046628788113594,
          -28.236873626708984,
          -38.58842086791992,
          -7.037031650543213,
          -4.5194196701049805,
          -17.099742889404297,
          -44.76638412475586,
          -1.1675223112106323,
          -25.856176376342773,
          -29.273324966430664,
          -11.899094581604004,
          -6.242917060852051,
          -45.107364654541016,
          -10.014616966247559,
          -38.788841247558594,
          -13.993980407714844,
          -24.545780181884766,
          -12.605611801147461,
          -3.223212480545044,
          -14.429798126220703,
          14.553979873657227,
          10.746792793273926,
          6.19209623336792,
          -11.346920013427734,
          61.250919342041016,
          -14.085992813110352,
          -25.52079200744629,
          -8.5423002243042,
          -0.053697291761636734,
          -0.7419136762619019,
          -11.431564331054688,
          10.766342163085938,
          -2.219806671142578,
          -6.541925430297852,
          -28.556970596313477,
          -3.044088125228882,
          -0.9476274251937866,
          7.888899803161621,
          8.205151557922363,
          10.76643180847168,
          -0.8868004679679871,
          21.75728416442871,
          -14.758834838867188,
          -15.032951354980469,
          4.843869209289551,
          -6.012959003448486,
          -12.569427490234375,
          16.26054573059082,
          -6.048026084899902,
          4.807369709014893,
          -24.317806243896484,
          9.696999549865723,
          28.139162063598633,
          12.893146514892578,
          -1.5112229585647583,
          11.896809577941895,
          25.573787689208984,
          10.821188926696777,
          15.151053428649902,
          -48.404911041259766,
          -27.03314781188965,
          -2.3967459201812744,
          2.0189106464385986,
          32.252628326416016,
          13.770801544189453,
          13.618871688842773,
          -1.6930937767028809,
          -13.294591903686523,
          11.279621124267578,
          15.034659385681152,
          -19.966777801513672,
          -8.552814483642578,
          5.277114391326904,
          -4.013642311096191,
          37.73935317993164,
          13.166244506835938,
          6.181004047393799,
          -40.792266845703125,
          -2.0494942665100098,
          -13.707868576049805,
          -27.576051712036133,
          -21.366296768188477,
          -14.411555290222168,
          -2.859391450881958,
          -0.5092527270317078,
          5.0978779792785645,
          -14.024213790893555,
          -3.123497724533081,
          -21.881799697875977,
          5.108891487121582,
          3.9788529872894287,
          -1.3104150295257568,
          15.348925590515137,
          -1.1124422550201416,
          18.093441009521484,
          -25.169708251953125,
          -7.103659629821777,
          -18.03886604309082,
          16.626144409179688,
          16.18360710144043,
          -3.288736581802368,
          -6.998560905456543,
          48.09772872924805,
          24.061260223388672,
          10.854066848754883,
          9.88470458984375,
          10.868175506591797,
          20.476598739624023,
          6.009099006652832,
          3.4811508655548096,
          -23.56276512145996,
          5.681382656097412,
          14.813339233398438,
          -17.483388900756836,
          10.385068893432617,
          -5.966580867767334,
          -25.16994285583496,
          -4.1673197746276855,
          5.795144081115723,
          2.01151442527771,
          -4.2315778732299805,
          -9.625351905822754,
          9.726956367492676,
          13.644211769104004,
          -23.575382232666016,
          -28.53598403930664,
          23.91539192199707,
          1.973625898361206,
          -5.285464286804199,
          -4.705821514129639,
          -33.631187438964844,
          -17.119230270385742,
          7.800028324127197,
          -23.75849151611328,
          -14.843092918395996,
          -10.759520530700684,
          18.675979614257812,
          -22.085224151611328,
          -27.000293731689453,
          5.488588333129883,
          -13.07198715209961,
          -16.22403907775879,
          11.956212997436523,
          23.37502098083496,
          -12.047645568847656,
          10.416929244995117,
          -17.096792221069336,
          13.039822578430176,
          -3.049441337585449,
          -5.94950008392334,
          0.2724076211452484,
          0.7269939184188843,
          20.694059371948242,
          9.923487663269043,
          8.839884757995605,
          2.984631299972534,
          17.91485595703125,
          27.52942657470703,
          4.344725131988525,
          16.906558990478516,
          7.2419114112854,
          -14.96570110321045,
          24.855669021606445,
          -27.57655906677246,
          -1.026501178741455,
          10.18314266204834,
          30.39959716796875,
          1.6527290344238281,
          17.07956314086914,
          -3.264526605606079,
          -2.3282859325408936,
          -13.785487174987793,
          50.815067291259766,
          73.91578674316406,
          62.76758575439453,
          33.87157440185547,
          48.50065231323242,
          61.830902099609375,
          39.766868591308594,
          50.94572067260742,
          62.87742233276367,
          52.28788757324219,
          -23.992406845092773,
          24.17080307006836,
          34.491249084472656,
          29.155290603637695,
          49.3935432434082,
          48.08878707885742,
          32.800472259521484,
          61.95842361450195,
          34.155513763427734,
          56.14799118041992,
          52.27587890625,
          45.51979446411133,
          35.85334777832031,
          49.835060119628906,
          52.49795150756836,
          43.335914611816406,
          66.69102478027344,
          31.499797821044922,
          68.74191284179688,
          71.80184936523438,
          -37.1584587097168,
          -42.681854248046875,
          -67.59224700927734,
          -51.47101593017578,
          -15.732792854309082,
          -61.919471740722656,
          -41.072669982910156,
          -48.855743408203125,
          -40.517486572265625,
          -45.32621765136719,
          -21.562278747558594,
          -14.947785377502441,
          10.081583023071289,
          6.500064849853516,
          -55.621437072753906,
          -54.41585922241211,
          -12.986958503723145,
          -67.09371948242188,
          -3.810796022415161,
          -25.744285583496094,
          -46.581600189208984,
          -46.57136917114258,
          -22.287006378173828,
          -56.94975662231445,
          -71.30436706542969,
          26.280696868896484,
          -60.66130065917969,
          -36.914669036865234,
          -35.53935623168945,
          -60.848426818847656
         ],
         "y": [
          -30.447486877441406,
          -67.23406982421875,
          -44.944847106933594,
          -52.079437255859375,
          -48.243507385253906,
          -21.31154441833496,
          -68.17435455322266,
          35.651878356933594,
          -58.54956817626953,
          -46.49973678588867,
          -76.41153717041016,
          -55.059268951416016,
          -70.34794616699219,
          -26.334754943847656,
          -50.13915252685547,
          -65.3410415649414,
          -35.214664459228516,
          -37.437042236328125,
          -54.71129608154297,
          -42.04432678222656,
          -47.0118293762207,
          -65.05740356445312,
          -25.758304595947266,
          -73.92717742919922,
          -63.76675033569336,
          -41.550514221191406,
          -27.225927352905273,
          -60.89942932128906,
          -44.49105453491211,
          -36.76830291748047,
          0.2490932047367096,
          43.578182220458984,
          28.369062423706055,
          15.241619110107422,
          1.8604267835617065,
          -11.139952659606934,
          1.461821436882019,
          11.330602645874023,
          16.352293014526367,
          14.438942909240723,
          30.84104347229004,
          23.786531448364258,
          4.006832122802734,
          23.068918228149414,
          17.05864715576172,
          -0.6797884106636047,
          14.573609352111816,
          20.27726173400879,
          19.729663848876953,
          23.918079376220703,
          46.89828109741211,
          28.395240783691406,
          8.45713996887207,
          16.237953186035156,
          -1.9487253427505493,
          32.82134246826172,
          0.8922947645187378,
          24.613052368164062,
          -9.582494735717773,
          11.085423469543457,
          -13.980881690979004,
          18.527027130126953,
          -25.812955856323242,
          -9.967019081115723,
          -20.28678321838379,
          10.183859825134277,
          -4.358827590942383,
          6.670950889587402,
          -17.598798751831055,
          -27.014795303344727,
          6.0467424392700195,
          -1.6688312292099,
          -20.698871612548828,
          11.15566635131836,
          6.771274089813232,
          -16.62406349182129,
          -20.362398147583008,
          -14.919482231140137,
          9.214919090270996,
          -33.37361526489258,
          39.68243408203125,
          -8.367585182189941,
          -13.069314956665039,
          28.530532836914062,
          -0.7803343534469604,
          -23.600648880004883,
          20.359298706054688,
          -6.718564033508301,
          -2.287444591522217,
          -5.836068153381348,
          -65.19859313964844,
          -58.073646545410156,
          0.8445818424224854,
          -75.71758270263672,
          -37.290653228759766,
          -34.64378356933594,
          -34.459877014160156,
          -58.919273376464844,
          -44.60914993286133,
          -64.8143539428711,
          -49.86360549926758,
          -72.9207763671875,
          22.332279205322266,
          -64.7222671508789,
          -63.063194274902344,
          -63.86497116088867,
          -25.42043685913086,
          -73.0728988647461,
          -26.591941833496094,
          -57.194149017333984,
          -72.26201629638672,
          -55.33438491821289,
          -47.64520263671875,
          -47.210533142089844,
          -52.726985931396484,
          -41.30228042602539,
          -27.021686553955078,
          -47.33967590332031,
          -49.608577728271484,
          -47.43473434448242,
          -9.11037540435791,
          11.50727367401123,
          12.709501266479492,
          -4.548487186431885,
          -0.30994343757629395,
          -12.888392448425293,
          30.311752319335938,
          31.504602432250977,
          9.247349739074707,
          -10.956988334655762,
          4.71149206161499,
          13.042576789855957,
          8.980498313903809,
          -22.344022750854492,
          -3.3298022747039795,
          -17.521041870117188,
          -17.17127227783203,
          14.962705612182617,
          1.0947831869125366,
          1.2815717458724976,
          8.404542922973633,
          -9.845149993896484,
          41.51765823364258,
          -2.4451892375946045,
          -14.891805648803711,
          51.71149826049805,
          2.033569574356079,
          5.194289684295654,
          35.59645080566406,
          -11.31942081451416,
          6.714101791381836,
          33.46531295776367,
          10.252583503723145,
          5.067119598388672,
          24.270357131958008,
          -16.686363220214844,
          2.689476251602173,
          -2.1857078075408936,
          -8.646712303161621,
          26.179563522338867,
          26.079946517944336,
          14.838592529296875,
          7.627580642700195,
          16.384252548217773,
          10.619974136352539,
          -7.125298023223877,
          26.401199340820312,
          -4.0234055519104,
          -0.07402345538139343,
          -2.1798698902130127,
          -18.940593719482422,
          -8.199324607849121,
          12.467588424682617,
          -2.803455114364624,
          -19.205747604370117,
          5.6490044593811035,
          20.773395538330078,
          3.0913515090942383,
          22.612607955932617,
          19.15227699279785,
          56.54072570800781,
          77.5135726928711,
          58.05928421020508,
          60.57563400268555,
          50.329734802246094,
          48.21292495727539,
          34.690032958984375,
          39.47358322143555,
          48.59455871582031,
          60.59040832519531,
          35.729618072509766,
          40.915016174316406,
          32.4246711730957,
          60.83587646484375,
          37.599613189697266,
          49.682430267333984,
          35.32941818237305,
          33.10786437988281,
          28.899917602539062,
          62.73097229003906,
          65.36756896972656,
          29.474557876586914,
          44.332149505615234,
          28.703083038330078,
          52.25175476074219,
          42.87528991699219,
          46.382049560546875,
          51.582420349121094,
          46.82354736328125,
          27.654664993286133,
          73.62169647216797,
          70.40325164794922,
          75.24040985107422,
          76.59346771240234,
          49.913700103759766,
          55.05495834350586,
          66.5593490600586,
          47.80533981323242,
          91.43348693847656,
          75.63712310791016,
          74.49967956542969,
          60.05461502075195,
          77.46437072753906,
          63.3387565612793,
          60.38628005981445,
          73.7066421508789,
          43.45574951171875,
          86.06820678710938,
          61.5452995300293,
          60.659996032714844,
          51.33671188354492,
          58.9038200378418,
          53.859642028808594,
          47.45097732543945,
          55.67841720581055,
          61.20572280883789,
          47.868900299072266,
          61.06538009643555,
          75.21073913574219,
          79.1914291381836,
          -48.43968200683594,
          -31.903179168701172,
          -51.90444564819336,
          -43.840301513671875,
          -30.26626205444336,
          -26.127519607543945,
          -65.07624053955078,
          -23.052228927612305,
          -40.29090118408203,
          -5.467686176300049,
          41.63287353515625,
          -38.46310806274414,
          -27.664011001586914,
          -7.319751262664795,
          -39.64528274536133,
          -13.75240707397461,
          -21.668930053710938,
          -38.60795211791992,
          -23.617137908935547,
          -39.58283233642578,
          -56.153079986572266,
          -24.816736221313477,
          -33.25355529785156,
          -35.81487274169922,
          -60.59122085571289,
          -40.08482360839844,
          -51.65692901611328,
          -36.61840057373047,
          -26.65133285522461,
          -24.990589141845703,
          -13.935369491577148,
          -7.108761310577393,
          11.335447311401367,
          -14.868343353271484,
          -34.88299560546875,
          12.439953804016113,
          21.319419860839844,
          6.022101402282715,
          -7.981191635131836,
          -18.33099937438965,
          18.568050384521484,
          -54.92757034301758,
          -45.16029739379883,
          -64.38082122802734,
          3.0217161178588867,
          -18.599260330200195,
          -43.87909698486328,
          8.816221237182617,
          -40.200435638427734,
          -9.709041595458984,
          16.514305114746094,
          2.9565043449401855,
          -22.429088592529297,
          -1.9891204833984375,
          0.7488046884536743,
          -55.33397674560547,
          -4.092161655426025,
          -19.726463317871094,
          3.243598461151123,
          29.95645523071289
         ],
         "z": [
          -28.740270614624023,
          -14.628519058227539,
          -13.797674179077148,
          -2.057640552520752,
          -50.44578552246094,
          18.05765724182129,
          -25.819459915161133,
          -44.7135009765625,
          -39.54621124267578,
          -30.354793548583984,
          -10.316062927246094,
          -19.020326614379883,
          1.7453112602233887,
          -12.802787780761719,
          -5.891393661499023,
          21.79586410522461,
          -19.70496368408203,
          -5.716135501861572,
          10.43565559387207,
          -22.96282958984375,
          10.065377235412598,
          -16.509328842163086,
          -31.585847854614258,
          -26.27053451538086,
          0.44223055243492126,
          -2.8124797344207764,
          -8.696645736694336,
          -7.652243614196777,
          21.811899185180664,
          3.375203847885132,
          -3.831421136856079,
          9.197406768798828,
          -25.000152587890625,
          2.323275566101074,
          -52.245155334472656,
          -38.556396484375,
          -12.310359001159668,
          -25.014379501342773,
          4.122798919677734,
          -38.34560012817383,
          1.5889710187911987,
          12.158212661743164,
          8.393522262573242,
          -4.031830310821533,
          -53.66171646118164,
          -28.446426391601562,
          -19.104259490966797,
          -17.044008255004883,
          20.244192123413086,
          -10.653695106506348,
          -15.457497596740723,
          -13.632941246032715,
          -4.0369343757629395,
          2.4286391735076904,
          -24.295066833496094,
          -11.775797843933105,
          -15.612151145935059,
          -36.74365997314453,
          -5.263613224029541,
          -13.1856107711792,
          -48.10435485839844,
          -59.02751541137695,
          -63.86417770385742,
          -53.821327209472656,
          -45.84396743774414,
          -26.5062313079834,
          -36.357627868652344,
          -68.95349884033203,
          -39.420936584472656,
          -54.02128982543945,
          -50.01149368286133,
          -51.67240905761719,
          -76.73857879638672,
          -30.076566696166992,
          -72.08316040039062,
          -55.16050720214844,
          -72.47158813476562,
          -39.68498611450195,
          -50.83296585083008,
          -49.61996841430664,
          1.6359940767288208,
          -66.30009460449219,
          -55.57560729980469,
          -35.166053771972656,
          -66.2071304321289,
          -61.55072784423828,
          -57.45161819458008,
          -39.069583892822266,
          -69.64881134033203,
          -49.54844665527344,
          -1.4943132400512695,
          33.2973747253418,
          23.66790199279785,
          18.12853240966797,
          37.02816390991211,
          41.193702697753906,
          34.17026138305664,
          25.562570571899414,
          27.205251693725586,
          50.05251693725586,
          36.5962028503418,
          27.40796661376953,
          16.382226943969727,
          11.357922554016113,
          39.180355072021484,
          11.310023307800293,
          5.277480602264404,
          27.359432220458984,
          7.215245723724365,
          25.459821701049805,
          38.38743591308594,
          20.32246208190918,
          49.093013763427734,
          16.311784744262695,
          47.982051849365234,
          37.687255859375,
          23.77560806274414,
          26.033023834228516,
          30.96502113342285,
          11.444442749023438,
          55.503665924072266,
          66.92567443847656,
          48.85092544555664,
          57.52730941772461,
          36.89128494262695,
          27.01617431640625,
          -73.84017181396484,
          35.340797424316406,
          44.71976852416992,
          52.75849151611328,
          36.43220138549805,
          54.50723648071289,
          49.788909912109375,
          66.27922058105469,
          72.46772766113281,
          58.10406494140625,
          46.724159240722656,
          28.081209182739258,
          62.54706573486328,
          45.16949462890625,
          24.11537742614746,
          35.63817596435547,
          -55.15720748901367,
          42.70819091796875,
          69.52583312988281,
          -24.109375,
          60.597129821777344,
          29.176490783691406,
          -14.51788330078125,
          39.04000473022461,
          8.662278175354004,
          -18.77743148803711,
          2.3466856479644775,
          -8.786002159118652,
          -17.065217971801758,
          -18.280675888061523,
          -14.399730682373047,
          4.627356052398682,
          -7.4609527587890625,
          1.3004170656204224,
          -21.796829223632812,
          -22.76433753967285,
          -11.371156692504883,
          -9.674315452575684,
          -9.514657020568848,
          -19.323150634765625,
          -2.148526906967163,
          -4.505219459533691,
          -17.763507843017578,
          -3.6738531589508057,
          -21.995439529418945,
          -19.5111083984375,
          -22.28919792175293,
          -18.574432373046875,
          -18.123977661132812,
          -30.717525482177734,
          -36.64508819580078,
          -32.22990036010742,
          -22.563831329345703,
          -12.00033950805664,
          65.93553924560547,
          31.63304901123047,
          30.09391212463379,
          38.594444274902344,
          60.21924591064453,
          21.973876953125,
          15.211434364318848,
          33.04587936401367,
          69.13745880126953,
          55.36397171020508,
          46.6968994140625,
          62.00714111328125,
          43.01192855834961,
          45.15360641479492,
          30.62302589416504,
          52.66791534423828,
          59.80044937133789,
          44.81893539428711,
          -32.90260696411133,
          25.821455001831055,
          50.6680908203125,
          62.42543029785156,
          49.54152297973633,
          28.926162719726562,
          46.78743362426758,
          13.266982078552246,
          31.5242977142334,
          41.62730026245117,
          34.56963348388672,
          0.9473774433135986,
          -4.5377984046936035,
          -17.50809669494629,
          3.260977029800415,
          -22.87099838256836,
          -29.058753967285156,
          -17.020204544067383,
          -22.02103614807129,
          -6.558001518249512,
          -9.441402435302734,
          -34.12517166137695,
          -36.722816467285156,
          -5.868533134460449,
          10.312126159667969,
          -48.50344467163086,
          6.530807971954346,
          -0.41171231865882874,
          -49.47356414794922,
          -15.259262084960938,
          -28.438186645507812,
          -6.2726616859436035,
          -5.771153926849365,
          -4.036120891571045,
          -29.224302291870117,
          -2.088115930557251,
          -26.7186222076416,
          6.5212225914001465,
          -32.4034538269043,
          -8.101919174194336,
          -11.31212043762207,
          -21.63866424560547,
          4.971066474914551,
          18.743436813354492,
          24.904220581054688,
          -12.294210433959961,
          40.490081787109375,
          27.46564483642578,
          5.667299747467041,
          14.428367614746094,
          15.631844520568848,
          39.11024475097656,
          -51.40739822387695,
          -11.351102828979492,
          21.691207885742188,
          14.003602027893066,
          25.831233978271484,
          26.492050170898438,
          12.366366386413574,
          1.744100570678711,
          -16.358001708984375,
          -19.16010284423828,
          -9.361349105834961,
          1.9695271253585815,
          -40.31162643432617,
          -2.57973575592041,
          19.1490421295166,
          13.067866325378418,
          4.564822673797607,
          5.086045742034912,
          4.716002464294434,
          -30.748592376708984,
          -9.303866386413574,
          1.9426401853561401,
          19.54303550720215,
          8.021172523498535,
          -22.914531707763672,
          1.8566056489944458,
          -13.163320541381836,
          18.329971313476562,
          20.43216323852539,
          43.85506057739258,
          -83.1632308959961,
          -58.33476257324219,
          -35.40035629272461,
          -30.590984344482422,
          35.57173156738281,
          23.06791877746582,
          -29.429948806762695,
          -10.687776565551758,
          -9.38796329498291,
          10.747791290283203,
          7.508419036865234,
          -7.058562278747559,
          -4.279647350311279,
          25.205703735351562,
          -31.736515045166016,
          -49.325889587402344,
          4.448974609375,
          9.934881210327148,
          10.546928405761719,
          -15.681199073791504
         ]
        }
       ],
       "layout": {
        "margin": {
         "b": 0,
         "l": 0,
         "r": 0,
         "t": 0
        },
        "template": {
         "data": {
          "bar": [
           {
            "error_x": {
             "color": "#2a3f5f"
            },
            "error_y": {
             "color": "#2a3f5f"
            },
            "marker": {
             "line": {
              "color": "#E5ECF6",
              "width": 0.5
             },
             "pattern": {
              "fillmode": "overlay",
              "size": 10,
              "solidity": 0.2
             }
            },
            "type": "bar"
           }
          ],
          "barpolar": [
           {
            "marker": {
             "line": {
              "color": "#E5ECF6",
              "width": 0.5
             },
             "pattern": {
              "fillmode": "overlay",
              "size": 10,
              "solidity": 0.2
             }
            },
            "type": "barpolar"
           }
          ],
          "carpet": [
           {
            "aaxis": {
             "endlinecolor": "#2a3f5f",
             "gridcolor": "white",
             "linecolor": "white",
             "minorgridcolor": "white",
             "startlinecolor": "#2a3f5f"
            },
            "baxis": {
             "endlinecolor": "#2a3f5f",
             "gridcolor": "white",
             "linecolor": "white",
             "minorgridcolor": "white",
             "startlinecolor": "#2a3f5f"
            },
            "type": "carpet"
           }
          ],
          "choropleth": [
           {
            "colorbar": {
             "outlinewidth": 0,
             "ticks": ""
            },
            "type": "choropleth"
           }
          ],
          "contour": [
           {
            "colorbar": {
             "outlinewidth": 0,
             "ticks": ""
            },
            "colorscale": [
             [
              0,
              "#0d0887"
             ],
             [
              0.1111111111111111,
              "#46039f"
             ],
             [
              0.2222222222222222,
              "#7201a8"
             ],
             [
              0.3333333333333333,
              "#9c179e"
             ],
             [
              0.4444444444444444,
              "#bd3786"
             ],
             [
              0.5555555555555556,
              "#d8576b"
             ],
             [
              0.6666666666666666,
              "#ed7953"
             ],
             [
              0.7777777777777778,
              "#fb9f3a"
             ],
             [
              0.8888888888888888,
              "#fdca26"
             ],
             [
              1,
              "#f0f921"
             ]
            ],
            "type": "contour"
           }
          ],
          "contourcarpet": [
           {
            "colorbar": {
             "outlinewidth": 0,
             "ticks": ""
            },
            "type": "contourcarpet"
           }
          ],
          "heatmap": [
           {
            "colorbar": {
             "outlinewidth": 0,
             "ticks": ""
            },
            "colorscale": [
             [
              0,
              "#0d0887"
             ],
             [
              0.1111111111111111,
              "#46039f"
             ],
             [
              0.2222222222222222,
              "#7201a8"
             ],
             [
              0.3333333333333333,
              "#9c179e"
             ],
             [
              0.4444444444444444,
              "#bd3786"
             ],
             [
              0.5555555555555556,
              "#d8576b"
             ],
             [
              0.6666666666666666,
              "#ed7953"
             ],
             [
              0.7777777777777778,
              "#fb9f3a"
             ],
             [
              0.8888888888888888,
              "#fdca26"
             ],
             [
              1,
              "#f0f921"
             ]
            ],
            "type": "heatmap"
           }
          ],
          "heatmapgl": [
           {
            "colorbar": {
             "outlinewidth": 0,
             "ticks": ""
            },
            "colorscale": [
             [
              0,
              "#0d0887"
             ],
             [
              0.1111111111111111,
              "#46039f"
             ],
             [
              0.2222222222222222,
              "#7201a8"
             ],
             [
              0.3333333333333333,
              "#9c179e"
             ],
             [
              0.4444444444444444,
              "#bd3786"
             ],
             [
              0.5555555555555556,
              "#d8576b"
             ],
             [
              0.6666666666666666,
              "#ed7953"
             ],
             [
              0.7777777777777778,
              "#fb9f3a"
             ],
             [
              0.8888888888888888,
              "#fdca26"
             ],
             [
              1,
              "#f0f921"
             ]
            ],
            "type": "heatmapgl"
           }
          ],
          "histogram": [
           {
            "marker": {
             "pattern": {
              "fillmode": "overlay",
              "size": 10,
              "solidity": 0.2
             }
            },
            "type": "histogram"
           }
          ],
          "histogram2d": [
           {
            "colorbar": {
             "outlinewidth": 0,
             "ticks": ""
            },
            "colorscale": [
             [
              0,
              "#0d0887"
             ],
             [
              0.1111111111111111,
              "#46039f"
             ],
             [
              0.2222222222222222,
              "#7201a8"
             ],
             [
              0.3333333333333333,
              "#9c179e"
             ],
             [
              0.4444444444444444,
              "#bd3786"
             ],
             [
              0.5555555555555556,
              "#d8576b"
             ],
             [
              0.6666666666666666,
              "#ed7953"
             ],
             [
              0.7777777777777778,
              "#fb9f3a"
             ],
             [
              0.8888888888888888,
              "#fdca26"
             ],
             [
              1,
              "#f0f921"
             ]
            ],
            "type": "histogram2d"
           }
          ],
          "histogram2dcontour": [
           {
            "colorbar": {
             "outlinewidth": 0,
             "ticks": ""
            },
            "colorscale": [
             [
              0,
              "#0d0887"
             ],
             [
              0.1111111111111111,
              "#46039f"
             ],
             [
              0.2222222222222222,
              "#7201a8"
             ],
             [
              0.3333333333333333,
              "#9c179e"
             ],
             [
              0.4444444444444444,
              "#bd3786"
             ],
             [
              0.5555555555555556,
              "#d8576b"
             ],
             [
              0.6666666666666666,
              "#ed7953"
             ],
             [
              0.7777777777777778,
              "#fb9f3a"
             ],
             [
              0.8888888888888888,
              "#fdca26"
             ],
             [
              1,
              "#f0f921"
             ]
            ],
            "type": "histogram2dcontour"
           }
          ],
          "mesh3d": [
           {
            "colorbar": {
             "outlinewidth": 0,
             "ticks": ""
            },
            "type": "mesh3d"
           }
          ],
          "parcoords": [
           {
            "line": {
             "colorbar": {
              "outlinewidth": 0,
              "ticks": ""
             }
            },
            "type": "parcoords"
           }
          ],
          "pie": [
           {
            "automargin": true,
            "type": "pie"
           }
          ],
          "scatter": [
           {
            "fillpattern": {
             "fillmode": "overlay",
             "size": 10,
             "solidity": 0.2
            },
            "type": "scatter"
           }
          ],
          "scatter3d": [
           {
            "line": {
             "colorbar": {
              "outlinewidth": 0,
              "ticks": ""
             }
            },
            "marker": {
             "colorbar": {
              "outlinewidth": 0,
              "ticks": ""
             }
            },
            "type": "scatter3d"
           }
          ],
          "scattercarpet": [
           {
            "marker": {
             "colorbar": {
              "outlinewidth": 0,
              "ticks": ""
             }
            },
            "type": "scattercarpet"
           }
          ],
          "scattergeo": [
           {
            "marker": {
             "colorbar": {
              "outlinewidth": 0,
              "ticks": ""
             }
            },
            "type": "scattergeo"
           }
          ],
          "scattergl": [
           {
            "marker": {
             "colorbar": {
              "outlinewidth": 0,
              "ticks": ""
             }
            },
            "type": "scattergl"
           }
          ],
          "scattermapbox": [
           {
            "marker": {
             "colorbar": {
              "outlinewidth": 0,
              "ticks": ""
             }
            },
            "type": "scattermapbox"
           }
          ],
          "scatterpolar": [
           {
            "marker": {
             "colorbar": {
              "outlinewidth": 0,
              "ticks": ""
             }
            },
            "type": "scatterpolar"
           }
          ],
          "scatterpolargl": [
           {
            "marker": {
             "colorbar": {
              "outlinewidth": 0,
              "ticks": ""
             }
            },
            "type": "scatterpolargl"
           }
          ],
          "scatterternary": [
           {
            "marker": {
             "colorbar": {
              "outlinewidth": 0,
              "ticks": ""
             }
            },
            "type": "scatterternary"
           }
          ],
          "surface": [
           {
            "colorbar": {
             "outlinewidth": 0,
             "ticks": ""
            },
            "colorscale": [
             [
              0,
              "#0d0887"
             ],
             [
              0.1111111111111111,
              "#46039f"
             ],
             [
              0.2222222222222222,
              "#7201a8"
             ],
             [
              0.3333333333333333,
              "#9c179e"
             ],
             [
              0.4444444444444444,
              "#bd3786"
             ],
             [
              0.5555555555555556,
              "#d8576b"
             ],
             [
              0.6666666666666666,
              "#ed7953"
             ],
             [
              0.7777777777777778,
              "#fb9f3a"
             ],
             [
              0.8888888888888888,
              "#fdca26"
             ],
             [
              1,
              "#f0f921"
             ]
            ],
            "type": "surface"
           }
          ],
          "table": [
           {
            "cells": {
             "fill": {
              "color": "#EBF0F8"
             },
             "line": {
              "color": "white"
             }
            },
            "header": {
             "fill": {
              "color": "#C8D4E3"
             },
             "line": {
              "color": "white"
             }
            },
            "type": "table"
           }
          ]
         },
         "layout": {
          "annotationdefaults": {
           "arrowcolor": "#2a3f5f",
           "arrowhead": 0,
           "arrowwidth": 1
          },
          "autotypenumbers": "strict",
          "coloraxis": {
           "colorbar": {
            "outlinewidth": 0,
            "ticks": ""
           }
          },
          "colorscale": {
           "diverging": [
            [
             0,
             "#8e0152"
            ],
            [
             0.1,
             "#c51b7d"
            ],
            [
             0.2,
             "#de77ae"
            ],
            [
             0.3,
             "#f1b6da"
            ],
            [
             0.4,
             "#fde0ef"
            ],
            [
             0.5,
             "#f7f7f7"
            ],
            [
             0.6,
             "#e6f5d0"
            ],
            [
             0.7,
             "#b8e186"
            ],
            [
             0.8,
             "#7fbc41"
            ],
            [
             0.9,
             "#4d9221"
            ],
            [
             1,
             "#276419"
            ]
           ],
           "sequential": [
            [
             0,
             "#0d0887"
            ],
            [
             0.1111111111111111,
             "#46039f"
            ],
            [
             0.2222222222222222,
             "#7201a8"
            ],
            [
             0.3333333333333333,
             "#9c179e"
            ],
            [
             0.4444444444444444,
             "#bd3786"
            ],
            [
             0.5555555555555556,
             "#d8576b"
            ],
            [
             0.6666666666666666,
             "#ed7953"
            ],
            [
             0.7777777777777778,
             "#fb9f3a"
            ],
            [
             0.8888888888888888,
             "#fdca26"
            ],
            [
             1,
             "#f0f921"
            ]
           ],
           "sequentialminus": [
            [
             0,
             "#0d0887"
            ],
            [
             0.1111111111111111,
             "#46039f"
            ],
            [
             0.2222222222222222,
             "#7201a8"
            ],
            [
             0.3333333333333333,
             "#9c179e"
            ],
            [
             0.4444444444444444,
             "#bd3786"
            ],
            [
             0.5555555555555556,
             "#d8576b"
            ],
            [
             0.6666666666666666,
             "#ed7953"
            ],
            [
             0.7777777777777778,
             "#fb9f3a"
            ],
            [
             0.8888888888888888,
             "#fdca26"
            ],
            [
             1,
             "#f0f921"
            ]
           ]
          },
          "colorway": [
           "#636efa",
           "#EF553B",
           "#00cc96",
           "#ab63fa",
           "#FFA15A",
           "#19d3f3",
           "#FF6692",
           "#B6E880",
           "#FF97FF",
           "#FECB52"
          ],
          "font": {
           "color": "#2a3f5f"
          },
          "geo": {
           "bgcolor": "white",
           "lakecolor": "white",
           "landcolor": "#E5ECF6",
           "showlakes": true,
           "showland": true,
           "subunitcolor": "white"
          },
          "hoverlabel": {
           "align": "left"
          },
          "hovermode": "closest",
          "mapbox": {
           "style": "light"
          },
          "paper_bgcolor": "white",
          "plot_bgcolor": "#E5ECF6",
          "polar": {
           "angularaxis": {
            "gridcolor": "white",
            "linecolor": "white",
            "ticks": ""
           },
           "bgcolor": "#E5ECF6",
           "radialaxis": {
            "gridcolor": "white",
            "linecolor": "white",
            "ticks": ""
           }
          },
          "scene": {
           "xaxis": {
            "backgroundcolor": "#E5ECF6",
            "gridcolor": "white",
            "gridwidth": 2,
            "linecolor": "white",
            "showbackground": true,
            "ticks": "",
            "zerolinecolor": "white"
           },
           "yaxis": {
            "backgroundcolor": "#E5ECF6",
            "gridcolor": "white",
            "gridwidth": 2,
            "linecolor": "white",
            "showbackground": true,
            "ticks": "",
            "zerolinecolor": "white"
           },
           "zaxis": {
            "backgroundcolor": "#E5ECF6",
            "gridcolor": "white",
            "gridwidth": 2,
            "linecolor": "white",
            "showbackground": true,
            "ticks": "",
            "zerolinecolor": "white"
           }
          },
          "shapedefaults": {
           "line": {
            "color": "#2a3f5f"
           }
          },
          "ternary": {
           "aaxis": {
            "gridcolor": "white",
            "linecolor": "white",
            "ticks": ""
           },
           "baxis": {
            "gridcolor": "white",
            "linecolor": "white",
            "ticks": ""
           },
           "bgcolor": "#E5ECF6",
           "caxis": {
            "gridcolor": "white",
            "linecolor": "white",
            "ticks": ""
           }
          },
          "title": {
           "x": 0.05
          },
          "xaxis": {
           "automargin": true,
           "gridcolor": "white",
           "linecolor": "white",
           "ticks": "",
           "title": {
            "standoff": 15
           },
           "zerolinecolor": "white",
           "zerolinewidth": 2
          },
          "yaxis": {
           "automargin": true,
           "gridcolor": "white",
           "linecolor": "white",
           "ticks": "",
           "title": {
            "standoff": 15
           },
           "zerolinecolor": "white",
           "zerolinewidth": 2
          }
         }
        }
       }
      }
     },
     "metadata": {},
     "output_type": "display_data"
    }
   ],
   "source": [
    "unique_labels = np.unique(standardIds)\n",
    "colors = plt.cm.jet(np.linspace(0, 1, len(unique_labels)))\n",
    "color_map = dict(zip(unique_labels, colors))\n",
    "\n",
    "# Use the color map to set the color of the markers\n",
    "marker_colors = [color_map[label] for label in standardIds]\n",
    "\n",
    "# Create a trace for each type\n",
    "trace0 = go.Scatter3d(\n",
    "    x=vectorsTSNE[types==0,0],\n",
    "    y=vectorsTSNE[types==0,1],\n",
    "    z=vectorsTSNE[types==0,2],\n",
    "    mode='markers',\n",
    "    marker=dict(\n",
    "        size=7,\n",
    "        color=marker_colors,                # set color to an array/list of desired values\n",
    "        opacity=0.9,\n",
    "        symbol='diamond'\n",
    "    )\n",
    ")\n",
    "\n",
    "\n",
    "# Create a color map that maps each unique label to a color\n",
    "unique_labels = np.unique(actualIds)\n",
    "colors = plt.cm.jet(np.linspace(0, 1, len(unique_labels)))\n",
    "color_map = dict(zip(unique_labels, colors))\n",
    "\n",
    "# Use the color map to set the color of the markers\n",
    "marker_colors = [color_map[label] for label in actualIds]\n",
    "\n",
    "trace1 = go.Scatter3d(\n",
    "    x=vectorsTSNE[types==1,0],\n",
    "    y=vectorsTSNE[types==1,1],\n",
    "    z=vectorsTSNE[types==1,2],\n",
    "    mode='markers',\n",
    "    marker=dict(\n",
    "        size=5,\n",
    "        color=marker_colors,                # set color to an array/list of desired values\n",
    "        opacity=0.3,\n",
    "        symbol='circle'\n",
    "    )\n",
    ")\n",
    "\n",
    "data = [trace0, trace1]\n",
    "\n",
    "layout = go.Layout(\n",
    "    margin=dict(\n",
    "        l=0,\n",
    "        r=0,\n",
    "        b=0,\n",
    "        t=0\n",
    "    )\n",
    ")\n",
    "\n",
    "fig = go.Figure(data=data, layout=layout)\n",
    "fig.show()"
   ]
  },
  {
   "cell_type": "markdown",
   "metadata": {},
   "source": [
    "## Best route for each driver"
   ]
  },
  {
   "cell_type": "code",
   "execution_count": 87,
   "metadata": {},
   "outputs": [
    {
     "data": {
      "text/html": [
       "<div>\n",
       "<style scoped>\n",
       "    .dataframe tbody tr th:only-of-type {\n",
       "        vertical-align: middle;\n",
       "    }\n",
       "\n",
       "    .dataframe tbody tr th {\n",
       "        vertical-align: top;\n",
       "    }\n",
       "\n",
       "    .dataframe thead th {\n",
       "        text-align: right;\n",
       "    }\n",
       "</style>\n",
       "<table border=\"1\" class=\"dataframe\">\n",
       "  <thead>\n",
       "    <tr style=\"text-align: right;\">\n",
       "      <th></th>\n",
       "      <th>Driver</th>\n",
       "      <th>Sroute</th>\n",
       "    </tr>\n",
       "  </thead>\n",
       "  <tbody>\n",
       "    <tr>\n",
       "      <th>0</th>\n",
       "      <td>J</td>\n",
       "      <td>s0</td>\n",
       "    </tr>\n",
       "    <tr>\n",
       "      <th>1</th>\n",
       "      <td>H</td>\n",
       "      <td>s0</td>\n",
       "    </tr>\n",
       "    <tr>\n",
       "      <th>2</th>\n",
       "      <td>C</td>\n",
       "      <td>s0</td>\n",
       "    </tr>\n",
       "    <tr>\n",
       "      <th>3</th>\n",
       "      <td>A</td>\n",
       "      <td>s0</td>\n",
       "    </tr>\n",
       "    <tr>\n",
       "      <th>4</th>\n",
       "      <td>H</td>\n",
       "      <td>s0</td>\n",
       "    </tr>\n",
       "    <tr>\n",
       "      <th>...</th>\n",
       "      <td>...</td>\n",
       "      <td>...</td>\n",
       "    </tr>\n",
       "    <tr>\n",
       "      <th>295</th>\n",
       "      <td>H</td>\n",
       "      <td>s9</td>\n",
       "    </tr>\n",
       "    <tr>\n",
       "      <th>296</th>\n",
       "      <td>E</td>\n",
       "      <td>s9</td>\n",
       "    </tr>\n",
       "    <tr>\n",
       "      <th>297</th>\n",
       "      <td>E</td>\n",
       "      <td>s9</td>\n",
       "    </tr>\n",
       "    <tr>\n",
       "      <th>298</th>\n",
       "      <td>A</td>\n",
       "      <td>s9</td>\n",
       "    </tr>\n",
       "    <tr>\n",
       "      <th>299</th>\n",
       "      <td>C</td>\n",
       "      <td>s9</td>\n",
       "    </tr>\n",
       "  </tbody>\n",
       "</table>\n",
       "<p>300 rows × 2 columns</p>\n",
       "</div>"
      ],
      "text/plain": [
       "    Driver Sroute\n",
       "0        J     s0\n",
       "1        H     s0\n",
       "2        C     s0\n",
       "3        A     s0\n",
       "4        H     s0\n",
       "..     ...    ...\n",
       "295      H     s9\n",
       "296      E     s9\n",
       "297      E     s9\n",
       "298      A     s9\n",
       "299      C     s9\n",
       "\n",
       "[300 rows x 2 columns]"
      ]
     },
     "execution_count": 87,
     "metadata": {},
     "output_type": "execute_result"
    }
   ],
   "source": [
    "drivers, sroutes = [], []\n",
    "for index, row in dfActual.iterrows():\n",
    "    drivers.append(row['driver'])\n",
    "    sroutes.append(row['sroute'])\n",
    "\n",
    "results = pd.DataFrame((drivers, sroutes))\n",
    "results = results.T\n",
    "results.columns = ['Driver', 'Sroute']\n",
    "results"
   ]
  },
  {
   "cell_type": "code",
   "execution_count": 88,
   "metadata": {},
   "outputs": [],
   "source": [
    "driver_a = actual_vector[results[results['Driver'] == 'A'].index]"
   ]
  },
  {
   "cell_type": "code",
   "execution_count": 89,
   "metadata": {},
   "outputs": [
    {
     "name": "stdout",
     "output_type": "stream",
     "text": [
      "stackedVectors shape (38, 2500)\n"
     ]
    }
   ],
   "source": [
    "# visualize the data in a 3D plot using TSNE, in red the standard data and in blue the actual data\n",
    "tsne = TSNE(n_components=3, random_state=0, perplexity=5)\n",
    "\n",
    "# stack the vectors and create a vector of types (0 for standard, 1 for actual)\n",
    "stackedVectors = np.vstack((standard_vector, driver_a))\n",
    "print(\"stackedVectors shape\", stackedVectors.shape)\n",
    "types = np.hstack((np.zeros(standard_vector.shape[0]), np.ones(driver_a.shape[0])))\n",
    "\n",
    "# Fix the IndexError by using the stackedVectors instead of actualVectors for tsne.fit_transform()\n",
    "vectorsTSNE = tsne.fit_transform(stackedVectors, types)"
   ]
  },
  {
   "cell_type": "code",
   "execution_count": 90,
   "metadata": {},
   "outputs": [
    {
     "data": {
      "image/png": "[encoded data removed]",
      "text/plain": [
       "<Figure size 640x480 with 1 Axes>"
      ]
     },
     "metadata": {},
     "output_type": "display_data"
    }
   ],
   "source": [
    "# plot the data\n",
    "fig = plt.figure()\n",
    "ax = fig.add_subplot(111, projection='3d')\n",
    "\n",
    "ax.scatter(vectorsTSNE[types==0,0], vectorsTSNE[types==0,1], vectorsTSNE[types==0,2], c='r', marker='o', alpha=1)\n",
    "ax.scatter(vectorsTSNE[types==1,0], vectorsTSNE[types==1,1], vectorsTSNE[types==1,2], c='b', marker='^', alpha=0.1)\n",
    "\n",
    "ax.set_xlabel('X Label')\n",
    "ax.set_ylabel('Y Label')\n",
    "ax.set_zlabel('Z Label')\n",
    "\n",
    "plt.show()"
   ]
  },
  {
   "cell_type": "code",
   "execution_count": 91,
   "metadata": {},
   "outputs": [
    {
     "data": {
      "text/plain": [
       "{'A': 's7',\n",
       " 'B': 's2',\n",
       " 'C': 's3',\n",
       " 'D': 's9',\n",
       " 'E': 's5',\n",
       " 'F': 's7',\n",
       " 'G': 's0',\n",
       " 'H': 's3',\n",
       " 'I': 's7',\n",
       " 'J': 's1'}"
      ]
     },
     "execution_count": 91,
     "metadata": {},
     "output_type": "execute_result"
    }
   ],
   "source": [
    "## looping through the clusters (standard routes) and counting the number of actual belonging to each cluster and the inter-cluster confidence,\n",
    "## then picking the most voted one (number of sample * confidence)\n",
    "## and assign as perfect route the actual route that minimize the intra-cluster cosine distance\n",
    "from sklearn.metrics.pairwise import cosine_similarity  \n",
    "\n",
    "best_driver_routes = {}\n",
    "for driver in uniqueDrivers:\n",
    "    #single_driver = actual_vector[results[results['Driver'] == driver].index]\n",
    "    single_driver = results[results['Driver'] == driver]\n",
    "    best_similarity = 0.0\n",
    "    for route in np.unique(single_driver.Sroute):\n",
    "        n = len(single_driver[single_driver['Sroute'] == route])\n",
    "        if n==1:\n",
    "            avg_similarity = 0.0\n",
    "        else:\n",
    "            vector = actual_vector[single_driver[single_driver['Sroute'] == route].index]\n",
    "            similarity = cosine_similarity(vector)\n",
    "            avg_similarity = (np.sum(similarity) - n) / 2\n",
    "\n",
    "        if avg_similarity > best_similarity:\n",
    "            best_route = route\n",
    "            best_similarity = avg_similarity\n",
    "    best_driver_routes[driver] = best_route\n",
    "\n",
    "best_driver_routes"
   ]
  },
  {
   "cell_type": "markdown",
   "metadata": {},
   "source": [
    "## Create the perfect routes"
   ]
  },
  {
   "cell_type": "code",
   "execution_count": 92,
   "metadata": {},
   "outputs": [],
   "source": [
    "from sklearn.metrics.pairwise import cosine_distances\n",
    "\n",
    "data = []\n",
    "for key, value in best_driver_routes.items():\n",
    "\n",
    "    single_driver = results[results['Driver'] == key]\n",
    "    vectors = actual_vector[single_driver[single_driver['Sroute'] == value].index]\n",
    "    distances = cosine_distances(vectors)\n",
    "    distances = [np.sum(v) for v in distances]\n",
    "    best_idx = [i for i in range(len(distances)) if distances[i] == max(distances)].pop()\n",
    "\n",
    "\n",
    "    actual_idx = results[results['Driver'] == key]\n",
    "    actual_idx = actual_idx[actual_idx['Sroute'] == value].index.tolist()\n",
    "    actual_idx = actual_idx[best_idx]\n",
    "    data.append({'driver':key, 'route':dfActual.loc[actual_idx].route})\n",
    "\n",
    "# Write the data to the JSON file\n",
    "file_path = os.path.join(DATA_DIR, OUTPUT_FILE) #\"standard.json\"\n",
    "with open(file_path, 'w') as json_file:\n",
    "    json.dump(data, json_file, indent=2)"
   ]
  },
  {
   "cell_type": "markdown",
   "metadata": {},
   "source": [
    "## Plot the perfect routes for each driver"
   ]
  },
  {
   "cell_type": "code",
   "execution_count": 109,
   "metadata": {},
   "outputs": [
    {
     "name": "stdout",
     "output_type": "stream",
     "text": [
      "(10, 2500)\n"
     ]
    }
   ],
   "source": [
    "with open(os.path.join('data',OUTPUT_FILE)) as f:\n",
    "    perfect = json.load(f)\n",
    "\n",
    "dfPerfect = pd.DataFrame(perfect)\n",
    "\n",
    "perfect_vector = create_feature_vector(dfPerfect, shingles, uniqueItems, use_SVD=False)\n",
    "perfectIds = dfPerfect['driver'].tolist()\n",
    "\n",
    "print(perfect_vector.shape)"
   ]
  },
  {
   "cell_type": "code",
   "execution_count": 110,
   "metadata": {},
   "outputs": [
    {
     "data": {
      "application/vnd.plotly.v1+json": {
       "config": {
        "plotlyServerURL": "https://plot.ly"
       },
       "data": [
        {
         "marker": {
          "color": [
           0,
           1,
           2,
           3,
           4,
           5,
           6,
           7,
           8,
           9
          ],
          "opacity": 0.9,
          "size": 7,
          "symbol": "diamond"
         },
         "mode": "markers",
         "type": "scatter3d",
         "x": [
          9.094442367553711,
          105.63153839111328,
          39.00047302246094
         ],
         "y": [
          -44.39143371582031,
          -21.298521041870117,
          -183.2143096923828
         ],
         "z": [
          -43.74922180175781,
          38.20985794067383,
          -56.02754592895508
         ]
        },
        {
         "marker": {
          "color": [
           [
            0,
            0,
            0.5,
            1
           ],
           [
            0,
            0,
            0.999108734402852,
            1
           ],
           [
            0,
            0.3784313725490196,
            1,
            1
           ],
           [
            0,
            0.8333333333333334,
            1,
            1
           ],
           [
            0,
            0,
            0.999108734402852,
            1
           ],
           [
            0.30044275774826057,
            1,
            0.6672991777356103,
            1
           ],
           [
            0.6672991777356103,
            1,
            0.30044275774826057,
            1
           ],
           [
            1,
            0.9012345679012348,
            0,
            1
           ],
           [
            0,
            0,
            0.5,
            1
           ],
           [
            0.6672991777356103,
            1,
            0.30044275774826057,
            1
           ],
           [
            1,
            0.48002904865649987,
            0,
            1
           ],
           [
            0.30044275774826057,
            1,
            0.6672991777356103,
            1
           ],
           [
            0,
            0.8333333333333334,
            1,
            1
           ],
           [
            0,
            0.3784313725490196,
            1,
            1
           ],
           [
            0.9991087344028523,
            0.07334785766158336,
            0,
            1
           ],
           [
            0.9991087344028523,
            0.07334785766158336,
            0,
            1
           ],
           [
            0.9991087344028523,
            0.07334785766158336,
            0,
            1
           ],
           [
            1,
            0.48002904865649987,
            0,
            1
           ],
           [
            0.30044275774826057,
            1,
            0.6672991777356103,
            1
           ],
           [
            0,
            0,
            0.999108734402852,
            1
           ],
           [
            0,
            0,
            0.5,
            1
           ],
           [
            0,
            0.3784313725490196,
            1,
            1
           ],
           [
            0.9991087344028523,
            0.07334785766158336,
            0,
            1
           ],
           [
            0,
            0,
            0.999108734402852,
            1
           ],
           [
            1,
            0.48002904865649987,
            0,
            1
           ],
           [
            0,
            0,
            0.5,
            1
           ],
           [
            0.5,
            0,
            0,
            1
           ],
           [
            1,
            0.48002904865649987,
            0,
            1
           ],
           [
            0,
            0,
            0.999108734402852,
            1
           ],
           [
            0.5,
            0,
            0,
            1
           ],
           [
            1,
            0.9012345679012348,
            0,
            1
           ],
           [
            0,
            0,
            0.5,
            1
           ],
           [
            0.5,
            0,
            0,
            1
           ],
           [
            0,
            0.8333333333333334,
            1,
            1
           ],
           [
            0.6672991777356103,
            1,
            0.30044275774826057,
            1
           ],
           [
            0,
            0.8333333333333334,
            1,
            1
           ],
           [
            0,
            0,
            0.999108734402852,
            1
           ],
           [
            0.30044275774826057,
            1,
            0.6672991777356103,
            1
           ],
           [
            0,
            0,
            0.999108734402852,
            1
           ],
           [
            0.6672991777356103,
            1,
            0.30044275774826057,
            1
           ],
           [
            0,
            0,
            0.5,
            1
           ],
           [
            1,
            0.48002904865649987,
            0,
            1
           ],
           [
            0,
            0.8333333333333334,
            1,
            1
           ],
           [
            0.5,
            0,
            0,
            1
           ],
           [
            0.30044275774826057,
            1,
            0.6672991777356103,
            1
           ],
           [
            0,
            0,
            0.5,
            1
           ],
           [
            0.6672991777356103,
            1,
            0.30044275774826057,
            1
           ],
           [
            0.5,
            0,
            0,
            1
           ],
           [
            0,
            0.8333333333333334,
            1,
            1
           ],
           [
            0.30044275774826057,
            1,
            0.6672991777356103,
            1
           ],
           [
            0.9991087344028523,
            0.07334785766158336,
            0,
            1
           ],
           [
            0,
            0,
            0.999108734402852,
            1
           ],
           [
            0,
            0,
            0.5,
            1
           ],
           [
            0.6672991777356103,
            1,
            0.30044275774826057,
            1
           ],
           [
            0,
            0,
            0.5,
            1
           ],
           [
            0,
            0,
            0.999108734402852,
            1
           ],
           [
            1,
            0.9012345679012348,
            0,
            1
           ],
           [
            0,
            0.8333333333333334,
            1,
            1
           ],
           [
            0.5,
            0,
            0,
            1
           ],
           [
            0,
            0.3784313725490196,
            1,
            1
           ],
           [
            0,
            0,
            0.5,
            1
           ],
           [
            0.6672991777356103,
            1,
            0.30044275774826057,
            1
           ],
           [
            0.9991087344028523,
            0.07334785766158336,
            0,
            1
           ],
           [
            1,
            0.48002904865649987,
            0,
            1
           ],
           [
            0.30044275774826057,
            1,
            0.6672991777356103,
            1
           ],
           [
            1,
            0.9012345679012348,
            0,
            1
           ],
           [
            0.6672991777356103,
            1,
            0.30044275774826057,
            1
           ],
           [
            0,
            0.3784313725490196,
            1,
            1
           ],
           [
            1,
            0.48002904865649987,
            0,
            1
           ],
           [
            0,
            0.8333333333333334,
            1,
            1
           ],
           [
            0.30044275774826057,
            1,
            0.6672991777356103,
            1
           ],
           [
            1,
            0.48002904865649987,
            0,
            1
           ],
           [
            0.6672991777356103,
            1,
            0.30044275774826057,
            1
           ],
           [
            0.30044275774826057,
            1,
            0.6672991777356103,
            1
           ],
           [
            0.6672991777356103,
            1,
            0.30044275774826057,
            1
           ],
           [
            0.30044275774826057,
            1,
            0.6672991777356103,
            1
           ],
           [
            0,
            0.3784313725490196,
            1,
            1
           ],
           [
            0,
            0.8333333333333334,
            1,
            1
           ],
           [
            0,
            0,
            0.5,
            1
           ],
           [
            0.5,
            0,
            0,
            1
           ],
           [
            0.6672991777356103,
            1,
            0.30044275774826057,
            1
           ],
           [
            0,
            0.3784313725490196,
            1,
            1
           ],
           [
            0.30044275774826057,
            1,
            0.6672991777356103,
            1
           ],
           [
            0,
            0,
            0.5,
            1
           ],
           [
            1,
            0.48002904865649987,
            0,
            1
           ],
           [
            0,
            0,
            0.999108734402852,
            1
           ],
           [
            1,
            0.48002904865649987,
            0,
            1
           ],
           [
            0.5,
            0,
            0,
            1
           ],
           [
            1,
            0.48002904865649987,
            0,
            1
           ],
           [
            0,
            0,
            0.999108734402852,
            1
           ],
           [
            0.6672991777356103,
            1,
            0.30044275774826057,
            1
           ],
           [
            0,
            0.3784313725490196,
            1,
            1
           ],
           [
            1,
            0.48002904865649987,
            0,
            1
           ],
           [
            0,
            0,
            0.5,
            1
           ],
           [
            0.30044275774826057,
            1,
            0.6672991777356103,
            1
           ],
           [
            1,
            0.9012345679012348,
            0,
            1
           ],
           [
            0,
            0.3784313725490196,
            1,
            1
           ],
           [
            0,
            0.8333333333333334,
            1,
            1
           ],
           [
            0.30044275774826057,
            1,
            0.6672991777356103,
            1
           ],
           [
            0,
            0.8333333333333334,
            1,
            1
           ],
           [
            0,
            0.3784313725490196,
            1,
            1
           ],
           [
            0,
            0.3784313725490196,
            1,
            1
           ],
           [
            0,
            0.3784313725490196,
            1,
            1
           ],
           [
            0.9991087344028523,
            0.07334785766158336,
            0,
            1
           ],
           [
            0,
            0,
            0.999108734402852,
            1
           ],
           [
            0.5,
            0,
            0,
            1
           ],
           [
            0.30044275774826057,
            1,
            0.6672991777356103,
            1
           ],
           [
            0.5,
            0,
            0,
            1
           ],
           [
            1,
            0.48002904865649987,
            0,
            1
           ],
           [
            0.5,
            0,
            0,
            1
           ],
           [
            1,
            0.9012345679012348,
            0,
            1
           ],
           [
            0,
            0,
            0.999108734402852,
            1
           ],
           [
            0,
            0,
            0.999108734402852,
            1
           ],
           [
            0.9991087344028523,
            0.07334785766158336,
            0,
            1
           ],
           [
            0,
            0,
            0.999108734402852,
            1
           ],
           [
            0,
            0.8333333333333334,
            1,
            1
           ],
           [
            1,
            0.48002904865649987,
            0,
            1
           ],
           [
            0,
            0,
            0.999108734402852,
            1
           ],
           [
            0,
            0.3784313725490196,
            1,
            1
           ],
           [
            0.5,
            0,
            0,
            1
           ],
           [
            1,
            0.48002904865649987,
            0,
            1
           ],
           [
            0.5,
            0,
            0,
            1
           ],
           [
            1,
            0.9012345679012348,
            0,
            1
           ],
           [
            0.5,
            0,
            0,
            1
           ],
           [
            0,
            0,
            0.999108734402852,
            1
           ],
           [
            0,
            0,
            0.5,
            1
           ],
           [
            0,
            0,
            0.999108734402852,
            1
           ],
           [
            0.5,
            0,
            0,
            1
           ],
           [
            1,
            0.9012345679012348,
            0,
            1
           ],
           [
            0,
            0.3784313725490196,
            1,
            1
           ],
           [
            1,
            0.48002904865649987,
            0,
            1
           ],
           [
            0.5,
            0,
            0,
            1
           ],
           [
            0.9991087344028523,
            0.07334785766158336,
            0,
            1
           ],
           [
            0,
            0,
            0.999108734402852,
            1
           ],
           [
            1,
            0.48002904865649987,
            0,
            1
           ],
           [
            0.9991087344028523,
            0.07334785766158336,
            0,
            1
           ],
           [
            0,
            0.8333333333333334,
            1,
            1
           ],
           [
            1,
            0.9012345679012348,
            0,
            1
           ],
           [
            0,
            0,
            0.5,
            1
           ],
           [
            0.6672991777356103,
            1,
            0.30044275774826057,
            1
           ],
           [
            0.6672991777356103,
            1,
            0.30044275774826057,
            1
           ],
           [
            0.30044275774826057,
            1,
            0.6672991777356103,
            1
           ],
           [
            0.5,
            0,
            0,
            1
           ],
           [
            0,
            0.8333333333333334,
            1,
            1
           ],
           [
            0.30044275774826057,
            1,
            0.6672991777356103,
            1
           ],
           [
            0,
            0.8333333333333334,
            1,
            1
           ],
           [
            0.9991087344028523,
            0.07334785766158336,
            0,
            1
           ],
           [
            1,
            0.48002904865649987,
            0,
            1
           ],
           [
            0,
            0.3784313725490196,
            1,
            1
           ],
           [
            0,
            0.3784313725490196,
            1,
            1
           ],
           [
            0,
            0.8333333333333334,
            1,
            1
           ],
           [
            0.30044275774826057,
            1,
            0.6672991777356103,
            1
           ],
           [
            0.5,
            0,
            0,
            1
           ],
           [
            0,
            0,
            0.999108734402852,
            1
           ],
           [
            0.5,
            0,
            0,
            1
           ],
           [
            0.9991087344028523,
            0.07334785766158336,
            0,
            1
           ],
           [
            0,
            0.8333333333333334,
            1,
            1
           ],
           [
            0.5,
            0,
            0,
            1
           ],
           [
            0,
            0.3784313725490196,
            1,
            1
           ],
           [
            1,
            0.48002904865649987,
            0,
            1
           ],
           [
            1,
            0.48002904865649987,
            0,
            1
           ],
           [
            0.9991087344028523,
            0.07334785766158336,
            0,
            1
           ],
           [
            0.6672991777356103,
            1,
            0.30044275774826057,
            1
           ],
           [
            0,
            0.3784313725490196,
            1,
            1
           ],
           [
            0.6672991777356103,
            1,
            0.30044275774826057,
            1
           ],
           [
            0.30044275774826057,
            1,
            0.6672991777356103,
            1
           ],
           [
            0,
            0.8333333333333334,
            1,
            1
           ],
           [
            1,
            0.48002904865649987,
            0,
            1
           ],
           [
            1,
            0.9012345679012348,
            0,
            1
           ],
           [
            0.6672991777356103,
            1,
            0.30044275774826057,
            1
           ],
           [
            0,
            0,
            0.999108734402852,
            1
           ],
           [
            1,
            0.9012345679012348,
            0,
            1
           ],
           [
            0.30044275774826057,
            1,
            0.6672991777356103,
            1
           ],
           [
            0,
            0,
            0.5,
            1
           ],
           [
            0.9991087344028523,
            0.07334785766158336,
            0,
            1
           ],
           [
            0,
            0,
            0.5,
            1
           ],
           [
            0.6672991777356103,
            1,
            0.30044275774826057,
            1
           ],
           [
            1,
            0.48002904865649987,
            0,
            1
           ],
           [
            0.6672991777356103,
            1,
            0.30044275774826057,
            1
           ],
           [
            0,
            0,
            0.999108734402852,
            1
           ],
           [
            1,
            0.48002904865649987,
            0,
            1
           ],
           [
            0.6672991777356103,
            1,
            0.30044275774826057,
            1
           ],
           [
            0,
            0.3784313725490196,
            1,
            1
           ],
           [
            0.9991087344028523,
            0.07334785766158336,
            0,
            1
           ],
           [
            1,
            0.48002904865649987,
            0,
            1
           ],
           [
            0.30044275774826057,
            1,
            0.6672991777356103,
            1
           ],
           [
            0,
            0,
            0.5,
            1
           ],
           [
            0,
            0,
            0.999108734402852,
            1
           ],
           [
            0,
            0,
            0.5,
            1
           ],
           [
            1,
            0.9012345679012348,
            0,
            1
           ],
           [
            0,
            0.3784313725490196,
            1,
            1
           ],
           [
            0.9991087344028523,
            0.07334785766158336,
            0,
            1
           ],
           [
            0,
            0,
            0.999108734402852,
            1
           ],
           [
            0,
            0.3784313725490196,
            1,
            1
           ],
           [
            1,
            0.9012345679012348,
            0,
            1
           ],
           [
            0,
            0.8333333333333334,
            1,
            1
           ],
           [
            1,
            0.48002904865649987,
            0,
            1
           ],
           [
            1,
            0.9012345679012348,
            0,
            1
           ],
           [
            0.5,
            0,
            0,
            1
           ],
           [
            0,
            0.3784313725490196,
            1,
            1
           ],
           [
            0,
            0.3784313725490196,
            1,
            1
           ],
           [
            0,
            0.3784313725490196,
            1,
            1
           ],
           [
            0,
            0,
            0.999108734402852,
            1
           ],
           [
            0,
            0.8333333333333334,
            1,
            1
           ],
           [
            0.6672991777356103,
            1,
            0.30044275774826057,
            1
           ],
           [
            0.6672991777356103,
            1,
            0.30044275774826057,
            1
           ],
           [
            0.9991087344028523,
            0.07334785766158336,
            0,
            1
           ],
           [
            0,
            0,
            0.5,
            1
           ],
           [
            0.9991087344028523,
            0.07334785766158336,
            0,
            1
           ],
           [
            0,
            0,
            0.999108734402852,
            1
           ],
           [
            0,
            0,
            0.5,
            1
           ],
           [
            0,
            0.8333333333333334,
            1,
            1
           ],
           [
            0,
            0,
            0.999108734402852,
            1
           ],
           [
            0.30044275774826057,
            1,
            0.6672991777356103,
            1
           ],
           [
            0,
            0.8333333333333334,
            1,
            1
           ],
           [
            0.30044275774826057,
            1,
            0.6672991777356103,
            1
           ],
           [
            0.9991087344028523,
            0.07334785766158336,
            0,
            1
           ],
           [
            0,
            0.3784313725490196,
            1,
            1
           ],
           [
            0.30044275774826057,
            1,
            0.6672991777356103,
            1
           ],
           [
            0,
            0,
            0.999108734402852,
            1
           ],
           [
            0.5,
            0,
            0,
            1
           ],
           [
            0.30044275774826057,
            1,
            0.6672991777356103,
            1
           ],
           [
            0,
            0.8333333333333334,
            1,
            1
           ],
           [
            0,
            0.3784313725490196,
            1,
            1
           ],
           [
            0,
            0.8333333333333334,
            1,
            1
           ],
           [
            1,
            0.9012345679012348,
            0,
            1
           ],
           [
            1,
            0.48002904865649987,
            0,
            1
           ],
           [
            0,
            0.8333333333333334,
            1,
            1
           ],
           [
            1,
            0.9012345679012348,
            0,
            1
           ],
           [
            0,
            0,
            0.999108734402852,
            1
           ],
           [
            1,
            0.9012345679012348,
            0,
            1
           ],
           [
            0.5,
            0,
            0,
            1
           ],
           [
            0.30044275774826057,
            1,
            0.6672991777356103,
            1
           ],
           [
            0,
            0,
            0.999108734402852,
            1
           ],
           [
            0,
            0,
            0.999108734402852,
            1
           ],
           [
            0.6672991777356103,
            1,
            0.30044275774826057,
            1
           ],
           [
            0.30044275774826057,
            1,
            0.6672991777356103,
            1
           ],
           [
            0.9991087344028523,
            0.07334785766158336,
            0,
            1
           ],
           [
            0,
            0.3784313725490196,
            1,
            1
           ],
           [
            1,
            0.9012345679012348,
            0,
            1
           ],
           [
            0,
            0,
            0.999108734402852,
            1
           ],
           [
            0.6672991777356103,
            1,
            0.30044275774826057,
            1
           ],
           [
            0.6672991777356103,
            1,
            0.30044275774826057,
            1
           ],
           [
            0,
            0.8333333333333334,
            1,
            1
           ],
           [
            0.5,
            0,
            0,
            1
           ],
           [
            0,
            0,
            0.999108734402852,
            1
           ],
           [
            1,
            0.48002904865649987,
            0,
            1
           ],
           [
            0,
            0,
            0.5,
            1
           ],
           [
            0.6672991777356103,
            1,
            0.30044275774826057,
            1
           ],
           [
            1,
            0.9012345679012348,
            0,
            1
           ],
           [
            1,
            0.48002904865649987,
            0,
            1
           ],
           [
            0,
            0.3784313725490196,
            1,
            1
           ],
           [
            0.30044275774826057,
            1,
            0.6672991777356103,
            1
           ],
           [
            0,
            0.3784313725490196,
            1,
            1
           ],
           [
            0.30044275774826057,
            1,
            0.6672991777356103,
            1
           ],
           [
            0,
            0.3784313725490196,
            1,
            1
           ],
           [
            0,
            0.3784313725490196,
            1,
            1
           ],
           [
            0.9991087344028523,
            0.07334785766158336,
            0,
            1
           ],
           [
            0.9991087344028523,
            0.07334785766158336,
            0,
            1
           ],
           [
            0,
            0,
            0.5,
            1
           ],
           [
            0.30044275774826057,
            1,
            0.6672991777356103,
            1
           ],
           [
            1,
            0.9012345679012348,
            0,
            1
           ],
           [
            0.5,
            0,
            0,
            1
           ],
           [
            0.5,
            0,
            0,
            1
           ],
           [
            0,
            0.3784313725490196,
            1,
            1
           ],
           [
            0.5,
            0,
            0,
            1
           ],
           [
            1,
            0.48002904865649987,
            0,
            1
           ],
           [
            0,
            0.3784313725490196,
            1,
            1
           ],
           [
            1,
            0.48002904865649987,
            0,
            1
           ],
           [
            0.6672991777356103,
            1,
            0.30044275774826057,
            1
           ],
           [
            0.5,
            0,
            0,
            1
           ],
           [
            0.5,
            0,
            0,
            1
           ],
           [
            0.5,
            0,
            0,
            1
           ],
           [
            1,
            0.48002904865649987,
            0,
            1
           ],
           [
            0,
            0.3784313725490196,
            1,
            1
           ],
           [
            0,
            0,
            0.5,
            1
           ],
           [
            0,
            0.3784313725490196,
            1,
            1
           ],
           [
            0,
            0.3784313725490196,
            1,
            1
           ],
           [
            0,
            0,
            0.5,
            1
           ],
           [
            0.30044275774826057,
            1,
            0.6672991777356103,
            1
           ],
           [
            0,
            0.8333333333333334,
            1,
            1
           ],
           [
            0,
            0,
            0.999108734402852,
            1
           ],
           [
            0.30044275774826057,
            1,
            0.6672991777356103,
            1
           ],
           [
            0.5,
            0,
            0,
            1
           ],
           [
            0.5,
            0,
            0,
            1
           ],
           [
            0.6672991777356103,
            1,
            0.30044275774826057,
            1
           ],
           [
            0,
            0.3784313725490196,
            1,
            1
           ],
           [
            0.6672991777356103,
            1,
            0.30044275774826057,
            1
           ],
           [
            0,
            0.3784313725490196,
            1,
            1
           ],
           [
            1,
            0.48002904865649987,
            0,
            1
           ],
           [
            0.5,
            0,
            0,
            1
           ],
           [
            0.30044275774826057,
            1,
            0.6672991777356103,
            1
           ],
           [
            0,
            0,
            0.5,
            1
           ],
           [
            1,
            0.9012345679012348,
            0,
            1
           ],
           [
            1,
            0.48002904865649987,
            0,
            1
           ],
           [
            0,
            0,
            0.999108734402852,
            1
           ],
           [
            0.6672991777356103,
            1,
            0.30044275774826057,
            1
           ],
           [
            0.6672991777356103,
            1,
            0.30044275774826057,
            1
           ],
           [
            0,
            0.8333333333333334,
            1,
            1
           ],
           [
            0,
            0.3784313725490196,
            1,
            1
           ]
          ],
          "opacity": 0.3,
          "size": 5,
          "symbol": "circle"
         },
         "mode": "markers",
         "type": "scatter3d",
         "x": [
          30.586162567138672,
          -20.924114227294922,
          -5.85832405090332
         ],
         "y": [
          -116.29020690917969,
          -15.587791442871094,
          -46.423309326171875
         ],
         "z": [
          36.3876838684082,
          -23.1276798248291,
          -0.39761781692504883
         ]
        }
       ],
       "layout": {
        "margin": {
         "b": 0,
         "l": 0,
         "r": 0,
         "t": 0
        },
        "template": {
         "data": {
          "bar": [
           {
            "error_x": {
             "color": "#2a3f5f"
            },
            "error_y": {
             "color": "#2a3f5f"
            },
            "marker": {
             "line": {
              "color": "#E5ECF6",
              "width": 0.5
             },
             "pattern": {
              "fillmode": "overlay",
              "size": 10,
              "solidity": 0.2
             }
            },
            "type": "bar"
           }
          ],
          "barpolar": [
           {
            "marker": {
             "line": {
              "color": "#E5ECF6",
              "width": 0.5
             },
             "pattern": {
              "fillmode": "overlay",
              "size": 10,
              "solidity": 0.2
             }
            },
            "type": "barpolar"
           }
          ],
          "carpet": [
           {
            "aaxis": {
             "endlinecolor": "#2a3f5f",
             "gridcolor": "white",
             "linecolor": "white",
             "minorgridcolor": "white",
             "startlinecolor": "#2a3f5f"
            },
            "baxis": {
             "endlinecolor": "#2a3f5f",
             "gridcolor": "white",
             "linecolor": "white",
             "minorgridcolor": "white",
             "startlinecolor": "#2a3f5f"
            },
            "type": "carpet"
           }
          ],
          "choropleth": [
           {
            "colorbar": {
             "outlinewidth": 0,
             "ticks": ""
            },
            "type": "choropleth"
           }
          ],
          "contour": [
           {
            "colorbar": {
             "outlinewidth": 0,
             "ticks": ""
            },
            "colorscale": [
             [
              0,
              "#0d0887"
             ],
             [
              0.1111111111111111,
              "#46039f"
             ],
             [
              0.2222222222222222,
              "#7201a8"
             ],
             [
              0.3333333333333333,
              "#9c179e"
             ],
             [
              0.4444444444444444,
              "#bd3786"
             ],
             [
              0.5555555555555556,
              "#d8576b"
             ],
             [
              0.6666666666666666,
              "#ed7953"
             ],
             [
              0.7777777777777778,
              "#fb9f3a"
             ],
             [
              0.8888888888888888,
              "#fdca26"
             ],
             [
              1,
              "#f0f921"
             ]
            ],
            "type": "contour"
           }
          ],
          "contourcarpet": [
           {
            "colorbar": {
             "outlinewidth": 0,
             "ticks": ""
            },
            "type": "contourcarpet"
           }
          ],
          "heatmap": [
           {
            "colorbar": {
             "outlinewidth": 0,
             "ticks": ""
            },
            "colorscale": [
             [
              0,
              "#0d0887"
             ],
             [
              0.1111111111111111,
              "#46039f"
             ],
             [
              0.2222222222222222,
              "#7201a8"
             ],
             [
              0.3333333333333333,
              "#9c179e"
             ],
             [
              0.4444444444444444,
              "#bd3786"
             ],
             [
              0.5555555555555556,
              "#d8576b"
             ],
             [
              0.6666666666666666,
              "#ed7953"
             ],
             [
              0.7777777777777778,
              "#fb9f3a"
             ],
             [
              0.8888888888888888,
              "#fdca26"
             ],
             [
              1,
              "#f0f921"
             ]
            ],
            "type": "heatmap"
           }
          ],
          "heatmapgl": [
           {
            "colorbar": {
             "outlinewidth": 0,
             "ticks": ""
            },
            "colorscale": [
             [
              0,
              "#0d0887"
             ],
             [
              0.1111111111111111,
              "#46039f"
             ],
             [
              0.2222222222222222,
              "#7201a8"
             ],
             [
              0.3333333333333333,
              "#9c179e"
             ],
             [
              0.4444444444444444,
              "#bd3786"
             ],
             [
              0.5555555555555556,
              "#d8576b"
             ],
             [
              0.6666666666666666,
              "#ed7953"
             ],
             [
              0.7777777777777778,
              "#fb9f3a"
             ],
             [
              0.8888888888888888,
              "#fdca26"
             ],
             [
              1,
              "#f0f921"
             ]
            ],
            "type": "heatmapgl"
           }
          ],
          "histogram": [
           {
            "marker": {
             "pattern": {
              "fillmode": "overlay",
              "size": 10,
              "solidity": 0.2
             }
            },
            "type": "histogram"
           }
          ],
          "histogram2d": [
           {
            "colorbar": {
             "outlinewidth": 0,
             "ticks": ""
            },
            "colorscale": [
             [
              0,
              "#0d0887"
             ],
             [
              0.1111111111111111,
              "#46039f"
             ],
             [
              0.2222222222222222,
              "#7201a8"
             ],
             [
              0.3333333333333333,
              "#9c179e"
             ],
             [
              0.4444444444444444,
              "#bd3786"
             ],
             [
              0.5555555555555556,
              "#d8576b"
             ],
             [
              0.6666666666666666,
              "#ed7953"
             ],
             [
              0.7777777777777778,
              "#fb9f3a"
             ],
             [
              0.8888888888888888,
              "#fdca26"
             ],
             [
              1,
              "#f0f921"
             ]
            ],
            "type": "histogram2d"
           }
          ],
          "histogram2dcontour": [
           {
            "colorbar": {
             "outlinewidth": 0,
             "ticks": ""
            },
            "colorscale": [
             [
              0,
              "#0d0887"
             ],
             [
              0.1111111111111111,
              "#46039f"
             ],
             [
              0.2222222222222222,
              "#7201a8"
             ],
             [
              0.3333333333333333,
              "#9c179e"
             ],
             [
              0.4444444444444444,
              "#bd3786"
             ],
             [
              0.5555555555555556,
              "#d8576b"
             ],
             [
              0.6666666666666666,
              "#ed7953"
             ],
             [
              0.7777777777777778,
              "#fb9f3a"
             ],
             [
              0.8888888888888888,
              "#fdca26"
             ],
             [
              1,
              "#f0f921"
             ]
            ],
            "type": "histogram2dcontour"
           }
          ],
          "mesh3d": [
           {
            "colorbar": {
             "outlinewidth": 0,
             "ticks": ""
            },
            "type": "mesh3d"
           }
          ],
          "parcoords": [
           {
            "line": {
             "colorbar": {
              "outlinewidth": 0,
              "ticks": ""
             }
            },
            "type": "parcoords"
           }
          ],
          "pie": [
           {
            "automargin": true,
            "type": "pie"
           }
          ],
          "scatter": [
           {
            "fillpattern": {
             "fillmode": "overlay",
             "size": 10,
             "solidity": 0.2
            },
            "type": "scatter"
           }
          ],
          "scatter3d": [
           {
            "line": {
             "colorbar": {
              "outlinewidth": 0,
              "ticks": ""
             }
            },
            "marker": {
             "colorbar": {
              "outlinewidth": 0,
              "ticks": ""
             }
            },
            "type": "scatter3d"
           }
          ],
          "scattercarpet": [
           {
            "marker": {
             "colorbar": {
              "outlinewidth": 0,
              "ticks": ""
             }
            },
            "type": "scattercarpet"
           }
          ],
          "scattergeo": [
           {
            "marker": {
             "colorbar": {
              "outlinewidth": 0,
              "ticks": ""
             }
            },
            "type": "scattergeo"
           }
          ],
          "scattergl": [
           {
            "marker": {
             "colorbar": {
              "outlinewidth": 0,
              "ticks": ""
             }
            },
            "type": "scattergl"
           }
          ],
          "scattermapbox": [
           {
            "marker": {
             "colorbar": {
              "outlinewidth": 0,
              "ticks": ""
             }
            },
            "type": "scattermapbox"
           }
          ],
          "scatterpolar": [
           {
            "marker": {
             "colorbar": {
              "outlinewidth": 0,
              "ticks": ""
             }
            },
            "type": "scatterpolar"
           }
          ],
          "scatterpolargl": [
           {
            "marker": {
             "colorbar": {
              "outlinewidth": 0,
              "ticks": ""
             }
            },
            "type": "scatterpolargl"
           }
          ],
          "scatterternary": [
           {
            "marker": {
             "colorbar": {
              "outlinewidth": 0,
              "ticks": ""
             }
            },
            "type": "scatterternary"
           }
          ],
          "surface": [
           {
            "colorbar": {
             "outlinewidth": 0,
             "ticks": ""
            },
            "colorscale": [
             [
              0,
              "#0d0887"
             ],
             [
              0.1111111111111111,
              "#46039f"
             ],
             [
              0.2222222222222222,
              "#7201a8"
             ],
             [
              0.3333333333333333,
              "#9c179e"
             ],
             [
              0.4444444444444444,
              "#bd3786"
             ],
             [
              0.5555555555555556,
              "#d8576b"
             ],
             [
              0.6666666666666666,
              "#ed7953"
             ],
             [
              0.7777777777777778,
              "#fb9f3a"
             ],
             [
              0.8888888888888888,
              "#fdca26"
             ],
             [
              1,
              "#f0f921"
             ]
            ],
            "type": "surface"
           }
          ],
          "table": [
           {
            "cells": {
             "fill": {
              "color": "#EBF0F8"
             },
             "line": {
              "color": "white"
             }
            },
            "header": {
             "fill": {
              "color": "#C8D4E3"
             },
             "line": {
              "color": "white"
             }
            },
            "type": "table"
           }
          ]
         },
         "layout": {
          "annotationdefaults": {
           "arrowcolor": "#2a3f5f",
           "arrowhead": 0,
           "arrowwidth": 1
          },
          "autotypenumbers": "strict",
          "coloraxis": {
           "colorbar": {
            "outlinewidth": 0,
            "ticks": ""
           }
          },
          "colorscale": {
           "diverging": [
            [
             0,
             "#8e0152"
            ],
            [
             0.1,
             "#c51b7d"
            ],
            [
             0.2,
             "#de77ae"
            ],
            [
             0.3,
             "#f1b6da"
            ],
            [
             0.4,
             "#fde0ef"
            ],
            [
             0.5,
             "#f7f7f7"
            ],
            [
             0.6,
             "#e6f5d0"
            ],
            [
             0.7,
             "#b8e186"
            ],
            [
             0.8,
             "#7fbc41"
            ],
            [
             0.9,
             "#4d9221"
            ],
            [
             1,
             "#276419"
            ]
           ],
           "sequential": [
            [
             0,
             "#0d0887"
            ],
            [
             0.1111111111111111,
             "#46039f"
            ],
            [
             0.2222222222222222,
             "#7201a8"
            ],
            [
             0.3333333333333333,
             "#9c179e"
            ],
            [
             0.4444444444444444,
             "#bd3786"
            ],
            [
             0.5555555555555556,
             "#d8576b"
            ],
            [
             0.6666666666666666,
             "#ed7953"
            ],
            [
             0.7777777777777778,
             "#fb9f3a"
            ],
            [
             0.8888888888888888,
             "#fdca26"
            ],
            [
             1,
             "#f0f921"
            ]
           ],
           "sequentialminus": [
            [
             0,
             "#0d0887"
            ],
            [
             0.1111111111111111,
             "#46039f"
            ],
            [
             0.2222222222222222,
             "#7201a8"
            ],
            [
             0.3333333333333333,
             "#9c179e"
            ],
            [
             0.4444444444444444,
             "#bd3786"
            ],
            [
             0.5555555555555556,
             "#d8576b"
            ],
            [
             0.6666666666666666,
             "#ed7953"
            ],
            [
             0.7777777777777778,
             "#fb9f3a"
            ],
            [
             0.8888888888888888,
             "#fdca26"
            ],
            [
             1,
             "#f0f921"
            ]
           ]
          },
          "colorway": [
           "#636efa",
           "#EF553B",
           "#00cc96",
           "#ab63fa",
           "#FFA15A",
           "#19d3f3",
           "#FF6692",
           "#B6E880",
           "#FF97FF",
           "#FECB52"
          ],
          "font": {
           "color": "#2a3f5f"
          },
          "geo": {
           "bgcolor": "white",
           "lakecolor": "white",
           "landcolor": "#E5ECF6",
           "showlakes": true,
           "showland": true,
           "subunitcolor": "white"
          },
          "hoverlabel": {
           "align": "left"
          },
          "hovermode": "closest",
          "mapbox": {
           "style": "light"
          },
          "paper_bgcolor": "white",
          "plot_bgcolor": "#E5ECF6",
          "polar": {
           "angularaxis": {
            "gridcolor": "white",
            "linecolor": "white",
            "ticks": ""
           },
           "bgcolor": "#E5ECF6",
           "radialaxis": {
            "gridcolor": "white",
            "linecolor": "white",
            "ticks": ""
           }
          },
          "scene": {
           "xaxis": {
            "backgroundcolor": "#E5ECF6",
            "gridcolor": "white",
            "gridwidth": 2,
            "linecolor": "white",
            "showbackground": true,
            "ticks": "",
            "zerolinecolor": "white"
           },
           "yaxis": {
            "backgroundcolor": "#E5ECF6",
            "gridcolor": "white",
            "gridwidth": 2,
            "linecolor": "white",
            "showbackground": true,
            "ticks": "",
            "zerolinecolor": "white"
           },
           "zaxis": {
            "backgroundcolor": "#E5ECF6",
            "gridcolor": "white",
            "gridwidth": 2,
            "linecolor": "white",
            "showbackground": true,
            "ticks": "",
            "zerolinecolor": "white"
           }
          },
          "shapedefaults": {
           "line": {
            "color": "#2a3f5f"
           }
          },
          "ternary": {
           "aaxis": {
            "gridcolor": "white",
            "linecolor": "white",
            "ticks": ""
           },
           "baxis": {
            "gridcolor": "white",
            "linecolor": "white",
            "ticks": ""
           },
           "bgcolor": "#E5ECF6",
           "caxis": {
            "gridcolor": "white",
            "linecolor": "white",
            "ticks": ""
           }
          },
          "title": {
           "x": 0.05
          },
          "xaxis": {
           "automargin": true,
           "gridcolor": "white",
           "linecolor": "white",
           "ticks": "",
           "title": {
            "standoff": 15
           },
           "zerolinecolor": "white",
           "zerolinewidth": 2
          },
          "yaxis": {
           "automargin": true,
           "gridcolor": "white",
           "linecolor": "white",
           "ticks": "",
           "title": {
            "standoff": 15
           },
           "zerolinecolor": "white",
           "zerolinewidth": 2
          }
         }
        }
       }
      }
     },
     "metadata": {},
     "output_type": "display_data"
    }
   ],
   "source": [
    "tsne = TSNE(n_components=3, random_state=0, perplexity=5)\n",
    "\n",
    "perfectTSNE = tsne.fit_transform(perfect_vector)\n",
    "\n",
    "perfect_drivers = assign_numbers(perfectIds)\n",
    "#unique_labels = np.unique(perfect_drivers)\n",
    "#colors = plt.cm.jet(np.linspace(0, 1, len(unique_labels)))\n",
    "#color_map = dict(zip(unique_labels, colors))\n",
    "\n",
    "# Use the color map to set the color of the markers\n",
    "#marker_colors = [color_map[label] for label in perfect_drivers]\n",
    "\n",
    "# Create a trace for each type\n",
    "trace0 = go.Scatter3d(\n",
    "    x=perfectTSNE[0],\n",
    "    y=perfectTSNE[1],\n",
    "    z=perfectTSNE[2],\n",
    "    mode='markers',\n",
    "    marker=dict(\n",
    "        size=7,\n",
    "        color=perfect_drivers,                # set color to an array/list of desired values\n",
    "        opacity=0.9,\n",
    "        symbol='diamond'\n",
    "    )\n",
    ")\n",
    "\n",
    "actualTSNE = tsne.fit_transform(actual_vector)\n",
    "\n",
    "# Create a color map that maps each unique label to a color\n",
    "driversIdx = assign_numbers(actual_drivers)\n",
    "unique_labels = np.unique(driversIdx)\n",
    "colors = plt.cm.jet(np.linspace(0, 1, len(unique_labels)))\n",
    "color_map = dict(zip(unique_labels, colors))\n",
    "\n",
    "# Use the color map to set the color of the markers\n",
    "marker_colors = [color_map[label] for label in driversIdx]\n",
    "\n",
    "trace1 = go.Scatter3d(\n",
    "    x=actualTSNE[0],\n",
    "    y=actualTSNE[1],\n",
    "    z=actualTSNE[2],\n",
    "    mode='markers',\n",
    "    marker=dict(\n",
    "        size=5,\n",
    "        color=marker_colors,                # set color to an array/list of desired values\n",
    "        opacity=0.3,\n",
    "        symbol='circle'\n",
    "    )\n",
    ")\n",
    "\n",
    "data = [trace0, trace1]\n",
    "\n",
    "layout = go.Layout(\n",
    "    margin=dict(\n",
    "        l=0,\n",
    "        r=0,\n",
    "        b=0,\n",
    "        t=0\n",
    "    )\n",
    ")\n",
    "\n",
    "fig = go.Figure(data=data, layout=layout)\n",
    "fig.show()"
   ]
  },
  {
   "cell_type": "code",
   "execution_count": 112,
   "metadata": {},
   "outputs": [
    {
     "data": {
      "image/png": "[encoded data removed]",
      "text/plain": [
       "<Figure size 800x800 with 1 Axes>"
      ]
     },
     "metadata": {},
     "output_type": "display_data"
    }
   ],
   "source": [
    "fit = umap.UMAP(n_neighbors=3,min_dist=0.9,n_components=3,metric='cosine')\n",
    "\n",
    "stackedVectors = np.vstack((actual_vector, perfect_vector))\n",
    "print(\"stackedVectors shape\", stackedVectors.shape)\n",
    "types = np.hstack((np.zeros(actual_vector.shape[0]), np.ones(perfect_vector.shape[0])))\n",
    "\n",
    "perfect_umap = fit.fit_transform(perfect_vector)\n",
    "perfect_umap = normalize_array(perfect_umap)\n",
    "actual_umap = fit.fit_transform(actual_vector)\n",
    "actual_umap = normalize_array(actual_umap)\n",
    "\n",
    "fig = plt.figure(figsize=(8,8))\n",
    "\n",
    "ax = fig.add_subplot(111, projection='3d')\n",
    "\n",
    "ax.scatter(perfect_umap[:,0], perfect_umap[:,1], perfect_umap[:,2], c=assign_numbers(perfectIds), cmap='Spectral', s=30)\n",
    "ax.scatter(actual_umap[:,0], actual_umap[:,1], actual_umap[:,2], c=assign_numbers(actual_drivers), cmap='Spectral', s=10)\n",
    "\n",
    "\n",
    "# Create a ScalarMappable object to associate with the colorbar\n",
    "\"\"\" norm = Normalize(vmin=target.min(), vmax=target.max())\n",
    "sm = plt.cm.ScalarMappable(cmap='Spectral',norm=norm)\n",
    "sm.set_array([])\n",
    "\n",
    "\n",
    "cbar = plt.colorbar(sm, boundaries=np.arange(len(classnames)+1)-0.5, label='Class Labels', ax=ax)\n",
    "cbar.set_ticks(np.arange(len(classnames)))\n",
    "cbar.set_ticklabels(classnames) \"\"\"\n",
    "plt.title('Drivers', fontsize=18)\n",
    "\n",
    "# Show the plot\n",
    "plt.show()"
   ]
  }
 ],
 "metadata": {
  "kernelspec": {
   "display_name": "datamining",
   "language": "python",
   "name": "python3"
  },
  "language_info": {
   "codemirror_mode": {
    "name": "ipython",
    "version": 3
   },
   "file_extension": ".py",
   "mimetype": "text/x-python",
   "name": "python",
   "nbconvert_exporter": "python",
   "pygments_lexer": "ipython3",
   "version": "3.11.4"
  }
 },
 "nbformat": 4,
 "nbformat_minor": 2
}
